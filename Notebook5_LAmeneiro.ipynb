{
 "cells": [
  {
   "cell_type": "markdown",
   "metadata": {
    "id": "Gp2WddtV9IwG"
   },
   "source": [
    "# Programa Ingenias+ Data Science"
   ]
  },
  {
   "cell_type": "markdown",
   "metadata": {
    "id": "H4M1yVbf9IwH"
   },
   "source": [
    "Como dijimos en clases anteriores, Python tiene implementadas muchas librerias para poder trabajar con datos. En la clase de hoy trabajaremos con una de ellas: `Numpy`."
   ]
  },
  {
   "cell_type": "markdown",
   "metadata": {
    "id": "GdTT8WeL9IwI"
   },
   "source": [
    "Antes de comenzar, vamos a hablar un poco de esta libreria o modulo.\n",
    "\n",
    "**Numpy** es una librería optimizada para realizar cálculos numéricos con vectores y matrices. A diferencia de otros lenguajes de programación, Python no posee en su estructura central la figura de matrices. Eso quiere decir que para poder trabajar con esta estructura de datos deberiamos trabajar con listas de listas. NumPy introduce el concepto de arrays o matrices."
   ]
  },
  {
   "cell_type": "markdown",
   "metadata": {
    "id": "qWkq3EHK9IwK"
   },
   "source": [
    "Al ser de código abierto, `numpy` posee una documentación muy amplia que es **SIEMPRE RECOMENDABLE** consultar."
   ]
  },
  {
   "cell_type": "markdown",
   "metadata": {
    "id": "nxe3KLUO9IwL"
   },
   "source": [
    "- [Documentacion NumPy](https://devdocs.io/numpy/)"
   ]
  },
  {
   "cell_type": "markdown",
   "metadata": {
    "id": "l1Ay3nSs9IwN"
   },
   "source": [
    "## Clase 4: Introduccion a NumPy"
   ]
  },
  {
   "cell_type": "markdown",
   "metadata": {
    "id": "X03mviQS9IyL"
   },
   "source": [
    "# Ejercicios\n",
    "\n",
    "1. Crear un arreglo de ceros de longitud 12\n",
    "2. Crear un arreglo de longitud 10 con ceros en todas sus posiciones y un 10 en la posición número 5\n",
    "3. Crear un arreglo que tenga los números del 10 al 49\n",
    "4. Crear una arreglo 2d de shape (3, 3) que tenga los números del 0 al 8\n",
    "5. Crear un arreglo de números aleatorios de longitud 100 y obtener su media y varianza\n",
    "6. Calcular la media de un arreglo usando np.sum\n",
    "7. Calcular la varianza de un arreglo usando np.sum y np.mean\n",
    "8. Crear un array de números aleatorios usando np.random.randn.\n"
   ]
  },
  {
   "cell_type": "code",
   "execution_count": 1,
   "metadata": {
    "executionInfo": {
     "elapsed": 361,
     "status": "ok",
     "timestamp": 1689976172108,
     "user": {
      "displayName": "L Ameneiro",
      "userId": "09102722852055045426"
     },
     "user_tz": 180
    },
    "id": "5I2ggQgybbla"
   },
   "outputs": [],
   "source": [
    "import numpy as np"
   ]
  },
  {
   "cell_type": "code",
   "execution_count": 2,
   "metadata": {
    "colab": {
     "base_uri": "https://localhost:8080/"
    },
    "executionInfo": {
     "elapsed": 7,
     "status": "ok",
     "timestamp": 1689979661243,
     "user": {
      "displayName": "L Ameneiro",
      "userId": "09102722852055045426"
     },
     "user_tz": 180
    },
    "id": "G0NMKT609IyM",
    "outputId": "4e6dbddc-bcf4-424f-82d0-e27e1d449db4"
   },
   "outputs": [
    {
     "name": "stdout",
     "output_type": "stream",
     "text": [
      "[0. 0. 0. 0. 0. 0. 0. 0. 0. 0. 0. 0.]\n"
     ]
    }
   ],
   "source": [
    "# Ejercicio 1\n",
    "ej1 = np.zeros(12)\n",
    "print(ej1)"
   ]
  },
  {
   "cell_type": "code",
   "execution_count": 3,
   "metadata": {
    "colab": {
     "base_uri": "https://localhost:8080/"
    },
    "executionInfo": {
     "elapsed": 313,
     "status": "ok",
     "timestamp": 1689978239098,
     "user": {
      "displayName": "L Ameneiro",
      "userId": "09102722852055045426"
     },
     "user_tz": 180
    },
    "id": "z2qK9LZSbfNt",
    "outputId": "2a038e0d-6cf4-4420-cf1f-9eb534a4f961"
   },
   "outputs": [
    {
     "name": "stdout",
     "output_type": "stream",
     "text": [
      "[ 0.  0.  0.  0.  0. 10.  0.  0.  0.  0.]\n"
     ]
    }
   ],
   "source": [
    "# Ejercicio 2\n",
    "# creo un array de ceros\n",
    "ej2 = np.zeros(10)\n",
    "# selecciono la posición 5 y le asigno el valor 10\n",
    "ej2[5] = 10 #asumo que se refiere a posicion 5 y no quinta posición\n",
    "print(ej2)"
   ]
  },
  {
   "cell_type": "code",
   "execution_count": 4,
   "metadata": {
    "colab": {
     "base_uri": "https://localhost:8080/"
    },
    "executionInfo": {
     "elapsed": 389,
     "status": "ok",
     "timestamp": 1689979340325,
     "user": {
      "displayName": "L Ameneiro",
      "userId": "09102722852055045426"
     },
     "user_tz": 180
    },
    "id": "tjz_dpfbj1uX",
    "outputId": "7fabee2c-ae63-494e-a7ea-b051e4756d4e"
   },
   "outputs": [
    {
     "name": "stdout",
     "output_type": "stream",
     "text": [
      "[10 11 12 13 14 15 16 17 18 19 20 21 22 23 24 25 26 27 28 29 30 31 32 33\n",
      " 34 35 36 37 38 39 40 41 42 43 44 45 46 47 48 49]\n"
     ]
    }
   ],
   "source": [
    "# Ejercicio 3\n",
    "ej3 = np.arange(10, 50)\n",
    "print(ej3)"
   ]
  },
  {
   "cell_type": "code",
   "execution_count": 5,
   "metadata": {
    "colab": {
     "base_uri": "https://localhost:8080/"
    },
    "executionInfo": {
     "elapsed": 313,
     "status": "ok",
     "timestamp": 1689980404255,
     "user": {
      "displayName": "L Ameneiro",
      "userId": "09102722852055045426"
     },
     "user_tz": 180
    },
    "id": "XV-WeSrQoJrD",
    "outputId": "d7f7f66b-06c4-4e11-b03a-ae289ade7e1a"
   },
   "outputs": [
    {
     "name": "stdout",
     "output_type": "stream",
     "text": [
      "[[0 1 2]\n",
      " [3 4 5]\n",
      " [6 7 8]]\n"
     ]
    }
   ],
   "source": [
    "# Ejercicio 4\n",
    "ej4 = np.arange(9).reshape(3, 3)\n",
    "print(ej4)"
   ]
  },
  {
   "cell_type": "code",
   "execution_count": 6,
   "metadata": {
    "colab": {
     "base_uri": "https://localhost:8080/"
    },
    "executionInfo": {
     "elapsed": 9,
     "status": "ok",
     "timestamp": 1689981686078,
     "user": {
      "displayName": "L Ameneiro",
      "userId": "09102722852055045426"
     },
     "user_tz": 180
    },
    "id": "CZw7efb6pvSv",
    "outputId": "d84f021f-eea2-4795-d465-b335846cd30d"
   },
   "outputs": [
    {
     "name": "stdout",
     "output_type": "stream",
     "text": [
      "Media = 0.4727938395125177\n",
      "Varianza = 0.08311781545439237\n"
     ]
    }
   ],
   "source": [
    "# Ejercicio 5\n",
    "# creo un array de numeros aleatorios de longitud 100\n",
    "np.random.seed(0)\n",
    "ej5 = np.random.random(100)\n",
    "# calculo su media\n",
    "mej5 = np.mean(ej5)\n",
    "print(\"Media =\", mej5)\n",
    "# calculo su varianza\n",
    "vej5 = np.var(ej5)\n",
    "print(\"Varianza =\", vej5)"
   ]
  },
  {
   "cell_type": "code",
   "execution_count": 50,
   "metadata": {
    "colab": {
     "base_uri": "https://localhost:8080/"
    },
    "executionInfo": {
     "elapsed": 296,
     "status": "ok",
     "timestamp": 1689982294952,
     "user": {
      "displayName": "L Ameneiro",
      "userId": "09102722852055045426"
     },
     "user_tz": 180
    },
    "id": "3RJ_DwHurvR3",
    "outputId": "69229772-8e2e-49b7-b0ec-f39dc044b3bc"
   },
   "outputs": [
    {
     "name": "stdout",
     "output_type": "stream",
     "text": [
      "Media = 9.5\n"
     ]
    }
   ],
   "source": [
    "# Ejericio 6\n",
    "# creo un arreglo cualquiera\n",
    "ej6 = np.arange(0,20)\n",
    "# calculo la suma de sus elementos\n",
    "sumej6 = np.sum(ej6)\n",
    "# calculo la cantidad total de elementos\n",
    "nej6 = ej6.size\n",
    "# calculo la media dividiendo la suma total por la cantidad de elementos\n",
    "mej6 = sumej6/nej6\n",
    "print(\"Media =\", mej6)"
   ]
  },
  {
   "cell_type": "code",
   "execution_count": 39,
   "metadata": {
    "colab": {
     "base_uri": "https://localhost:8080/"
    },
    "executionInfo": {
     "elapsed": 317,
     "status": "ok",
     "timestamp": 1689981681354,
     "user": {
      "displayName": "L Ameneiro",
      "userId": "09102722852055045426"
     },
     "user_tz": 180
    },
    "id": "Whf-6b9itQ0H",
    "outputId": "fca93c07-d075-4e74-8b0c-c8eade3202f4"
   },
   "outputs": [
    {
     "name": "stdout",
     "output_type": "stream",
     "text": [
      "Varianza = 4.0\n"
     ]
    }
   ],
   "source": [
    "# Ejercicio 7\n",
    "# creo un arreglo cualquiera\n",
    "ej7 = np.array([3, 5, 2, 8, 6, 4, 7])\n",
    "# calculo la media del arreglo\n",
    "mej7 = np.mean(ej7)\n",
    "# restar la media a cada elemento del arreglo\n",
    "desvej7 = ej7 - mej7\n",
    "# elevar al cuadrado cada desviación\n",
    "desvej7cuad = desvej7 ** 2\n",
    "# calculo la media de las desviaciones al cuadrado\n",
    "varej7 = np.mean(desvej7cuad)\n",
    "\n",
    "print(\"Varianza =\", varej7)\n"
   ]
  },
  {
   "cell_type": "code",
   "execution_count": 48,
   "metadata": {
    "colab": {
     "base_uri": "https://localhost:8080/"
    },
    "executionInfo": {
     "elapsed": 8,
     "status": "ok",
     "timestamp": 1689982253519,
     "user": {
      "displayName": "L Ameneiro",
      "userId": "09102722852055045426"
     },
     "user_tz": 180
    },
    "id": "XDWe-94Du63I",
    "outputId": "ac8cae23-74e3-4fd4-9ed9-a5d348c73877"
   },
   "outputs": [
    {
     "name": "stdout",
     "output_type": "stream",
     "text": [
      "Array de 2d de numeros aleatorios: \n",
      " [[ 0.70657317  0.01050002  1.78587049]\n",
      " [ 0.12691209  0.40198936  1.8831507 ]\n",
      " [-1.34775906 -1.270485    0.96939671]\n",
      " [-1.17312341  1.94362119 -0.41361898]\n",
      " [-0.74745481  1.92294203  1.48051479]]\n",
      "15\n"
     ]
    }
   ],
   "source": [
    "# Ejercicio 8\n",
    "# creo un array cualquiera\n",
    "ej8 = np.random.randn(5,3)\n",
    "print(\"Array de 2d de numeros aleatorios: \\n\", ej8)"
   ]
  }
 ],
 "metadata": {
  "colab": {
   "provenance": [
    {
     "file_id": "1NGGJyM8BKDZKwcKEwsOeQe7C11-srOHx",
     "timestamp": 1689975534070
    },
    {
     "file_id": "1yM9mEW0U6gxoaAFhZyw2DpZdZMT5v10J",
     "timestamp": 1676044383219
    },
    {
     "file_id": "1RzLcI0RY1YrYoMa7PW17OME9qOO4jJ4s",
     "timestamp": 1676044338043
    }
   ]
  },
  "kernelspec": {
   "display_name": "Python 3 (ipykernel)",
   "language": "python",
   "name": "python3"
  },
  "language_info": {
   "codemirror_mode": {
    "name": "ipython",
    "version": 3
   },
   "file_extension": ".py",
   "mimetype": "text/x-python",
   "name": "python",
   "nbconvert_exporter": "python",
   "pygments_lexer": "ipython3",
   "version": "3.10.9"
  }
 },
 "nbformat": 4,
 "nbformat_minor": 1
}
