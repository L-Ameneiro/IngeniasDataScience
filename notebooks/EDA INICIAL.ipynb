{
 "cells": [
  {
   "cell_type": "markdown",
   "id": "f21bc51f",
   "metadata": {},
   "source": [
    "# Análisis explotario de datos"
   ]
  },
  {
   "cell_type": "code",
   "execution_count": 2,
   "id": "243bccdf",
   "metadata": {},
   "outputs": [],
   "source": [
    "# Se importan las librerías:panda y numpy\n",
    "import pandas as pd\n",
    "import numpy as np\n"
   ]
  },
  {
   "cell_type": "markdown",
   "id": "8d83c399",
   "metadata": {},
   "source": [
    "# Amazon Prime"
   ]
  },
  {
   "cell_type": "code",
   "execution_count": 4,
   "id": "998a8cdd",
   "metadata": {},
   "outputs": [],
   "source": [
    "# Se importa el dataset (CSV) en una variable llamada amazon usando pandas.   \n",
    "amazon=pd.read_csv(r'..\\\\datasets\\\\amazon_prime_titles.csv')  "
   ]
  },
  {
   "cell_type": "code",
   "execution_count": 5,
   "id": "f97226e1",
   "metadata": {},
   "outputs": [
    {
     "data": {
      "text/html": [
       "<div>\n",
       "<style scoped>\n",
       "    .dataframe tbody tr th:only-of-type {\n",
       "        vertical-align: middle;\n",
       "    }\n",
       "\n",
       "    .dataframe tbody tr th {\n",
       "        vertical-align: top;\n",
       "    }\n",
       "\n",
       "    .dataframe thead th {\n",
       "        text-align: right;\n",
       "    }\n",
       "</style>\n",
       "<table border=\"1\" class=\"dataframe\">\n",
       "  <thead>\n",
       "    <tr style=\"text-align: right;\">\n",
       "      <th></th>\n",
       "      <th>show_id</th>\n",
       "      <th>type</th>\n",
       "      <th>title</th>\n",
       "      <th>director</th>\n",
       "      <th>cast</th>\n",
       "      <th>country</th>\n",
       "      <th>date_added</th>\n",
       "      <th>release_year</th>\n",
       "      <th>rating</th>\n",
       "      <th>duration</th>\n",
       "      <th>listed_in</th>\n",
       "      <th>description</th>\n",
       "    </tr>\n",
       "  </thead>\n",
       "  <tbody>\n",
       "    <tr>\n",
       "      <th>0</th>\n",
       "      <td>s1</td>\n",
       "      <td>Movie</td>\n",
       "      <td>The Grand Seduction</td>\n",
       "      <td>Don McKellar</td>\n",
       "      <td>Brendan Gleeson, Taylor Kitsch, Gordon Pinsent</td>\n",
       "      <td>Canada</td>\n",
       "      <td>March 30, 2021</td>\n",
       "      <td>2014</td>\n",
       "      <td>NaN</td>\n",
       "      <td>113 min</td>\n",
       "      <td>Comedy, Drama</td>\n",
       "      <td>A small fishing village must procure a local d...</td>\n",
       "    </tr>\n",
       "    <tr>\n",
       "      <th>1</th>\n",
       "      <td>s2</td>\n",
       "      <td>Movie</td>\n",
       "      <td>Take Care Good Night</td>\n",
       "      <td>Girish Joshi</td>\n",
       "      <td>Mahesh Manjrekar, Abhay Mahajan, Sachin Khedekar</td>\n",
       "      <td>India</td>\n",
       "      <td>March 30, 2021</td>\n",
       "      <td>2018</td>\n",
       "      <td>13+</td>\n",
       "      <td>110 min</td>\n",
       "      <td>Drama, International</td>\n",
       "      <td>A Metro Family decides to fight a Cyber Crimin...</td>\n",
       "    </tr>\n",
       "    <tr>\n",
       "      <th>2</th>\n",
       "      <td>s3</td>\n",
       "      <td>Movie</td>\n",
       "      <td>Secrets of Deception</td>\n",
       "      <td>Josh Webber</td>\n",
       "      <td>Tom Sizemore, Lorenzo Lamas, Robert LaSardo, R...</td>\n",
       "      <td>United States</td>\n",
       "      <td>March 30, 2021</td>\n",
       "      <td>2017</td>\n",
       "      <td>NaN</td>\n",
       "      <td>74 min</td>\n",
       "      <td>Action, Drama, Suspense</td>\n",
       "      <td>After a man discovers his wife is cheating on ...</td>\n",
       "    </tr>\n",
       "    <tr>\n",
       "      <th>3</th>\n",
       "      <td>s4</td>\n",
       "      <td>Movie</td>\n",
       "      <td>Pink: Staying True</td>\n",
       "      <td>Sonia Anderson</td>\n",
       "      <td>Interviews with: Pink, Adele, Beyoncé, Britney...</td>\n",
       "      <td>United States</td>\n",
       "      <td>March 30, 2021</td>\n",
       "      <td>2014</td>\n",
       "      <td>NaN</td>\n",
       "      <td>69 min</td>\n",
       "      <td>Documentary</td>\n",
       "      <td>Pink breaks the mold once again, bringing her ...</td>\n",
       "    </tr>\n",
       "    <tr>\n",
       "      <th>4</th>\n",
       "      <td>s5</td>\n",
       "      <td>Movie</td>\n",
       "      <td>Monster Maker</td>\n",
       "      <td>Giles Foster</td>\n",
       "      <td>Harry Dean Stanton, Kieran O'Brien, George Cos...</td>\n",
       "      <td>United Kingdom</td>\n",
       "      <td>March 30, 2021</td>\n",
       "      <td>1989</td>\n",
       "      <td>NaN</td>\n",
       "      <td>45 min</td>\n",
       "      <td>Drama, Fantasy</td>\n",
       "      <td>Teenage Matt Banting wants to work with a famo...</td>\n",
       "    </tr>\n",
       "    <tr>\n",
       "      <th>...</th>\n",
       "      <td>...</td>\n",
       "      <td>...</td>\n",
       "      <td>...</td>\n",
       "      <td>...</td>\n",
       "      <td>...</td>\n",
       "      <td>...</td>\n",
       "      <td>...</td>\n",
       "      <td>...</td>\n",
       "      <td>...</td>\n",
       "      <td>...</td>\n",
       "      <td>...</td>\n",
       "      <td>...</td>\n",
       "    </tr>\n",
       "    <tr>\n",
       "      <th>9663</th>\n",
       "      <td>s9664</td>\n",
       "      <td>Movie</td>\n",
       "      <td>Pride Of The Bowery</td>\n",
       "      <td>Joseph H. Lewis</td>\n",
       "      <td>Leo Gorcey, Bobby Jordan</td>\n",
       "      <td>NaN</td>\n",
       "      <td>NaN</td>\n",
       "      <td>1940</td>\n",
       "      <td>7+</td>\n",
       "      <td>60 min</td>\n",
       "      <td>Comedy</td>\n",
       "      <td>New York City street principles get an East Si...</td>\n",
       "    </tr>\n",
       "    <tr>\n",
       "      <th>9664</th>\n",
       "      <td>s9665</td>\n",
       "      <td>TV Show</td>\n",
       "      <td>Planet Patrol</td>\n",
       "      <td>NaN</td>\n",
       "      <td>DICK VOSBURGH, RONNIE STEVENS, LIBBY MORRIS, M...</td>\n",
       "      <td>NaN</td>\n",
       "      <td>NaN</td>\n",
       "      <td>2018</td>\n",
       "      <td>13+</td>\n",
       "      <td>4 Seasons</td>\n",
       "      <td>TV Shows</td>\n",
       "      <td>This is Earth, 2100AD - and these are the adve...</td>\n",
       "    </tr>\n",
       "    <tr>\n",
       "      <th>9665</th>\n",
       "      <td>s9666</td>\n",
       "      <td>Movie</td>\n",
       "      <td>Outpost</td>\n",
       "      <td>Steve Barker</td>\n",
       "      <td>Ray Stevenson, Julian Wadham, Richard Brake, M...</td>\n",
       "      <td>NaN</td>\n",
       "      <td>NaN</td>\n",
       "      <td>2008</td>\n",
       "      <td>R</td>\n",
       "      <td>90 min</td>\n",
       "      <td>Action</td>\n",
       "      <td>In war-torn Eastern Europe, a world-weary grou...</td>\n",
       "    </tr>\n",
       "    <tr>\n",
       "      <th>9666</th>\n",
       "      <td>s9667</td>\n",
       "      <td>TV Show</td>\n",
       "      <td>Maradona: Blessed Dream</td>\n",
       "      <td>NaN</td>\n",
       "      <td>Esteban Recagno, Ezequiel Stremiz, Luciano Vit...</td>\n",
       "      <td>NaN</td>\n",
       "      <td>NaN</td>\n",
       "      <td>2021</td>\n",
       "      <td>TV-MA</td>\n",
       "      <td>1 Season</td>\n",
       "      <td>Drama, Sports</td>\n",
       "      <td>The series tells the story of Diego Maradona, ...</td>\n",
       "    </tr>\n",
       "    <tr>\n",
       "      <th>9667</th>\n",
       "      <td>s9668</td>\n",
       "      <td>Movie</td>\n",
       "      <td>Harry Brown</td>\n",
       "      <td>Daniel Barber</td>\n",
       "      <td>Michael Caine, Emily Mortimer, Joseph Gilgun, ...</td>\n",
       "      <td>NaN</td>\n",
       "      <td>NaN</td>\n",
       "      <td>2010</td>\n",
       "      <td>R</td>\n",
       "      <td>103 min</td>\n",
       "      <td>Action, Drama, Suspense</td>\n",
       "      <td>Harry Brown, starring two-time Academy Award w...</td>\n",
       "    </tr>\n",
       "  </tbody>\n",
       "</table>\n",
       "<p>9668 rows × 12 columns</p>\n",
       "</div>"
      ],
      "text/plain": [
       "     show_id     type                    title         director  \\\n",
       "0         s1    Movie      The Grand Seduction     Don McKellar   \n",
       "1         s2    Movie     Take Care Good Night     Girish Joshi   \n",
       "2         s3    Movie     Secrets of Deception      Josh Webber   \n",
       "3         s4    Movie       Pink: Staying True   Sonia Anderson   \n",
       "4         s5    Movie            Monster Maker     Giles Foster   \n",
       "...      ...      ...                      ...              ...   \n",
       "9663   s9664    Movie      Pride Of The Bowery  Joseph H. Lewis   \n",
       "9664   s9665  TV Show            Planet Patrol              NaN   \n",
       "9665   s9666    Movie                  Outpost     Steve Barker   \n",
       "9666   s9667  TV Show  Maradona: Blessed Dream              NaN   \n",
       "9667   s9668    Movie              Harry Brown    Daniel Barber   \n",
       "\n",
       "                                                   cast         country  \\\n",
       "0        Brendan Gleeson, Taylor Kitsch, Gordon Pinsent          Canada   \n",
       "1      Mahesh Manjrekar, Abhay Mahajan, Sachin Khedekar           India   \n",
       "2     Tom Sizemore, Lorenzo Lamas, Robert LaSardo, R...   United States   \n",
       "3     Interviews with: Pink, Adele, Beyoncé, Britney...   United States   \n",
       "4     Harry Dean Stanton, Kieran O'Brien, George Cos...  United Kingdom   \n",
       "...                                                 ...             ...   \n",
       "9663                           Leo Gorcey, Bobby Jordan             NaN   \n",
       "9664  DICK VOSBURGH, RONNIE STEVENS, LIBBY MORRIS, M...             NaN   \n",
       "9665  Ray Stevenson, Julian Wadham, Richard Brake, M...             NaN   \n",
       "9666  Esteban Recagno, Ezequiel Stremiz, Luciano Vit...             NaN   \n",
       "9667  Michael Caine, Emily Mortimer, Joseph Gilgun, ...             NaN   \n",
       "\n",
       "          date_added  release_year rating   duration                listed_in  \\\n",
       "0     March 30, 2021          2014    NaN    113 min            Comedy, Drama   \n",
       "1     March 30, 2021          2018    13+    110 min     Drama, International   \n",
       "2     March 30, 2021          2017    NaN     74 min  Action, Drama, Suspense   \n",
       "3     March 30, 2021          2014    NaN     69 min              Documentary   \n",
       "4     March 30, 2021          1989    NaN     45 min           Drama, Fantasy   \n",
       "...              ...           ...    ...        ...                      ...   \n",
       "9663             NaN          1940     7+     60 min                   Comedy   \n",
       "9664             NaN          2018    13+  4 Seasons                 TV Shows   \n",
       "9665             NaN          2008      R     90 min                   Action   \n",
       "9666             NaN          2021  TV-MA   1 Season            Drama, Sports   \n",
       "9667             NaN          2010      R    103 min  Action, Drama, Suspense   \n",
       "\n",
       "                                            description  \n",
       "0     A small fishing village must procure a local d...  \n",
       "1     A Metro Family decides to fight a Cyber Crimin...  \n",
       "2     After a man discovers his wife is cheating on ...  \n",
       "3     Pink breaks the mold once again, bringing her ...  \n",
       "4     Teenage Matt Banting wants to work with a famo...  \n",
       "...                                                 ...  \n",
       "9663  New York City street principles get an East Si...  \n",
       "9664  This is Earth, 2100AD - and these are the adve...  \n",
       "9665  In war-torn Eastern Europe, a world-weary grou...  \n",
       "9666  The series tells the story of Diego Maradona, ...  \n",
       "9667  Harry Brown, starring two-time Academy Award w...  \n",
       "\n",
       "[9668 rows x 12 columns]"
      ]
     },
     "execution_count": 5,
     "metadata": {},
     "output_type": "execute_result"
    }
   ],
   "source": [
    "# Se visualiza el dataframe\n",
    "amazon"
   ]
  },
  {
   "cell_type": "code",
   "execution_count": 6,
   "id": "79fe262d",
   "metadata": {
    "scrolled": true
   },
   "outputs": [
    {
     "data": {
      "text/plain": [
       "'El dataset tiene 9668 filas y 12 columnas'"
      ]
     },
     "execution_count": 6,
     "metadata": {},
     "output_type": "execute_result"
    }
   ],
   "source": [
    "# Se observa la cantidad de filas y columnas del dataframe\n",
    "forma = amazon.shape\n",
    "f\"El dataset tiene {forma[0]} filas y {forma[1]} columnas\""
   ]
  },
  {
   "cell_type": "code",
   "execution_count": 7,
   "id": "b3d672d3",
   "metadata": {},
   "outputs": [
    {
     "data": {
      "text/plain": [
       "pandas.core.frame.DataFrame"
      ]
     },
     "execution_count": 7,
     "metadata": {},
     "output_type": "execute_result"
    }
   ],
   "source": [
    "# Se indaga sobre el tipo de estructura de datos que tiene el data frame.\n",
    "type(amazon)"
   ]
  },
  {
   "cell_type": "code",
   "execution_count": 7,
   "id": "4d6e4137",
   "metadata": {},
   "outputs": [
    {
     "name": "stdout",
     "output_type": "stream",
     "text": [
      "False    9668\n",
      "dtype: int64\n"
     ]
    }
   ],
   "source": [
    "# Se verifican si hay filas duplicadas\n",
    "dupl = amazon.duplicated()\n",
    "print(dupl.value_counts())"
   ]
  },
  {
   "cell_type": "markdown",
   "id": "528a9c58",
   "metadata": {},
   "source": [
    "No hay filas duplicadas. "
   ]
  },
  {
   "cell_type": "markdown",
   "id": "9919e046",
   "metadata": {},
   "source": [
    "## Exploración de las columnas"
   ]
  },
  {
   "cell_type": "code",
   "execution_count": 8,
   "id": "de6e4582",
   "metadata": {
    "scrolled": true
   },
   "outputs": [
    {
     "name": "stdout",
     "output_type": "stream",
     "text": [
      "Index(['show_id', 'type', 'title', 'director', 'cast', 'country', 'date_added',\n",
      "       'release_year', 'rating', 'duration', 'listed_in', 'description'],\n",
      "      dtype='object')\n"
     ]
    }
   ],
   "source": [
    "#Se observan los nombres de las columnas\n",
    "print(amazon.columns)"
   ]
  },
  {
   "cell_type": "code",
   "execution_count": 9,
   "id": "2c6239a1",
   "metadata": {},
   "outputs": [
    {
     "name": "stdout",
     "output_type": "stream",
     "text": [
      "<class 'pandas.core.frame.DataFrame'>\n",
      "RangeIndex: 9668 entries, 0 to 9667\n",
      "Data columns (total 12 columns):\n",
      " #   Column        Non-Null Count  Dtype \n",
      "---  ------        --------------  ----- \n",
      " 0   show_id       9668 non-null   object\n",
      " 1   type          9668 non-null   object\n",
      " 2   title         9668 non-null   object\n",
      " 3   director      7586 non-null   object\n",
      " 4   cast          8435 non-null   object\n",
      " 5   country       672 non-null    object\n",
      " 6   date_added    155 non-null    object\n",
      " 7   release_year  9668 non-null   int64 \n",
      " 8   rating        9331 non-null   object\n",
      " 9   duration      9668 non-null   object\n",
      " 10  listed_in     9668 non-null   object\n",
      " 11  description   9668 non-null   object\n",
      "dtypes: int64(1), object(11)\n",
      "memory usage: 906.5+ KB\n"
     ]
    }
   ],
   "source": [
    "# Se observa el tipo de dato de cada columna:\n",
    "amazon.info()"
   ]
  },
  {
   "cell_type": "code",
   "execution_count": 9,
   "id": "de9a7cc2",
   "metadata": {
    "scrolled": true
   },
   "outputs": [
    {
     "data": {
      "text/html": [
       "<div>\n",
       "<style scoped>\n",
       "    .dataframe tbody tr th:only-of-type {\n",
       "        vertical-align: middle;\n",
       "    }\n",
       "\n",
       "    .dataframe tbody tr th {\n",
       "        vertical-align: top;\n",
       "    }\n",
       "\n",
       "    .dataframe thead th {\n",
       "        text-align: right;\n",
       "    }\n",
       "</style>\n",
       "<table border=\"1\" class=\"dataframe\">\n",
       "  <thead>\n",
       "    <tr style=\"text-align: right;\">\n",
       "      <th></th>\n",
       "      <th>show_id</th>\n",
       "      <th>type</th>\n",
       "      <th>title</th>\n",
       "      <th>director</th>\n",
       "      <th>cast</th>\n",
       "      <th>country</th>\n",
       "      <th>date_added</th>\n",
       "      <th>release_year</th>\n",
       "      <th>rating</th>\n",
       "      <th>duration</th>\n",
       "      <th>listed_in</th>\n",
       "      <th>description</th>\n",
       "    </tr>\n",
       "  </thead>\n",
       "  <tbody>\n",
       "    <tr>\n",
       "      <th>0</th>\n",
       "      <td>s1</td>\n",
       "      <td>Movie</td>\n",
       "      <td>The Grand Seduction</td>\n",
       "      <td>Don McKellar</td>\n",
       "      <td>Brendan Gleeson, Taylor Kitsch, Gordon Pinsent</td>\n",
       "      <td>Canada</td>\n",
       "      <td>March 30, 2021</td>\n",
       "      <td>2014</td>\n",
       "      <td>NaN</td>\n",
       "      <td>113 min</td>\n",
       "      <td>Comedy, Drama</td>\n",
       "      <td>A small fishing village must procure a local d...</td>\n",
       "    </tr>\n",
       "    <tr>\n",
       "      <th>1</th>\n",
       "      <td>s2</td>\n",
       "      <td>Movie</td>\n",
       "      <td>Take Care Good Night</td>\n",
       "      <td>Girish Joshi</td>\n",
       "      <td>Mahesh Manjrekar, Abhay Mahajan, Sachin Khedekar</td>\n",
       "      <td>India</td>\n",
       "      <td>March 30, 2021</td>\n",
       "      <td>2018</td>\n",
       "      <td>13+</td>\n",
       "      <td>110 min</td>\n",
       "      <td>Drama, International</td>\n",
       "      <td>A Metro Family decides to fight a Cyber Crimin...</td>\n",
       "    </tr>\n",
       "    <tr>\n",
       "      <th>2</th>\n",
       "      <td>s3</td>\n",
       "      <td>Movie</td>\n",
       "      <td>Secrets of Deception</td>\n",
       "      <td>Josh Webber</td>\n",
       "      <td>Tom Sizemore, Lorenzo Lamas, Robert LaSardo, R...</td>\n",
       "      <td>United States</td>\n",
       "      <td>March 30, 2021</td>\n",
       "      <td>2017</td>\n",
       "      <td>NaN</td>\n",
       "      <td>74 min</td>\n",
       "      <td>Action, Drama, Suspense</td>\n",
       "      <td>After a man discovers his wife is cheating on ...</td>\n",
       "    </tr>\n",
       "    <tr>\n",
       "      <th>3</th>\n",
       "      <td>s4</td>\n",
       "      <td>Movie</td>\n",
       "      <td>Pink: Staying True</td>\n",
       "      <td>Sonia Anderson</td>\n",
       "      <td>Interviews with: Pink, Adele, Beyoncé, Britney...</td>\n",
       "      <td>United States</td>\n",
       "      <td>March 30, 2021</td>\n",
       "      <td>2014</td>\n",
       "      <td>NaN</td>\n",
       "      <td>69 min</td>\n",
       "      <td>Documentary</td>\n",
       "      <td>Pink breaks the mold once again, bringing her ...</td>\n",
       "    </tr>\n",
       "    <tr>\n",
       "      <th>4</th>\n",
       "      <td>s5</td>\n",
       "      <td>Movie</td>\n",
       "      <td>Monster Maker</td>\n",
       "      <td>Giles Foster</td>\n",
       "      <td>Harry Dean Stanton, Kieran O'Brien, George Cos...</td>\n",
       "      <td>United Kingdom</td>\n",
       "      <td>March 30, 2021</td>\n",
       "      <td>1989</td>\n",
       "      <td>NaN</td>\n",
       "      <td>45 min</td>\n",
       "      <td>Drama, Fantasy</td>\n",
       "      <td>Teenage Matt Banting wants to work with a famo...</td>\n",
       "    </tr>\n",
       "    <tr>\n",
       "      <th>5</th>\n",
       "      <td>s6</td>\n",
       "      <td>Movie</td>\n",
       "      <td>Living With Dinosaurs</td>\n",
       "      <td>Paul Weiland</td>\n",
       "      <td>Gregory Chisholm, Juliet Stevenson, Brian Hens...</td>\n",
       "      <td>United Kingdom</td>\n",
       "      <td>March 30, 2021</td>\n",
       "      <td>1989</td>\n",
       "      <td>NaN</td>\n",
       "      <td>52 min</td>\n",
       "      <td>Fantasy, Kids</td>\n",
       "      <td>The story unfolds in a an English seaside town...</td>\n",
       "    </tr>\n",
       "    <tr>\n",
       "      <th>6</th>\n",
       "      <td>s7</td>\n",
       "      <td>Movie</td>\n",
       "      <td>Hired Gun</td>\n",
       "      <td>Fran Strine</td>\n",
       "      <td>Alice Cooper, Liberty DeVitto, Ray Parker Jr.,...</td>\n",
       "      <td>United States</td>\n",
       "      <td>March 30, 2021</td>\n",
       "      <td>2017</td>\n",
       "      <td>NaN</td>\n",
       "      <td>98 min</td>\n",
       "      <td>Documentary, Special Interest</td>\n",
       "      <td>They are the \"First Call, A-list\" musicians, j...</td>\n",
       "    </tr>\n",
       "    <tr>\n",
       "      <th>7</th>\n",
       "      <td>s8</td>\n",
       "      <td>Movie</td>\n",
       "      <td>Grease Live!</td>\n",
       "      <td>Thomas Kail, Alex Rudzinski</td>\n",
       "      <td>Julianne Hough, Aaron Tveit, Vanessa Hudgens, ...</td>\n",
       "      <td>United States</td>\n",
       "      <td>March 30, 2021</td>\n",
       "      <td>2016</td>\n",
       "      <td>NaN</td>\n",
       "      <td>131 min</td>\n",
       "      <td>Comedy</td>\n",
       "      <td>This honest, uncompromising comedy chronicles ...</td>\n",
       "    </tr>\n",
       "    <tr>\n",
       "      <th>8</th>\n",
       "      <td>s9</td>\n",
       "      <td>Movie</td>\n",
       "      <td>Global Meltdown</td>\n",
       "      <td>Daniel Gilboy</td>\n",
       "      <td>Michael Paré, Leanne Khol Young, Patrick J. Ma...</td>\n",
       "      <td>Canada</td>\n",
       "      <td>March 30, 2021</td>\n",
       "      <td>2017</td>\n",
       "      <td>NaN</td>\n",
       "      <td>87 min</td>\n",
       "      <td>Action, Science Fiction, Suspense</td>\n",
       "      <td>A helicopter pilot and an environmental scient...</td>\n",
       "    </tr>\n",
       "    <tr>\n",
       "      <th>9</th>\n",
       "      <td>s10</td>\n",
       "      <td>Movie</td>\n",
       "      <td>David's Mother</td>\n",
       "      <td>Robert Allan Ackerman</td>\n",
       "      <td>Kirstie Alley, Sam Waterston, Stockard Channing</td>\n",
       "      <td>United States</td>\n",
       "      <td>April 1, 2021</td>\n",
       "      <td>1994</td>\n",
       "      <td>NaN</td>\n",
       "      <td>92 min</td>\n",
       "      <td>Drama</td>\n",
       "      <td>Sally Goodson is a devoted mother to her autis...</td>\n",
       "    </tr>\n",
       "  </tbody>\n",
       "</table>\n",
       "</div>"
      ],
      "text/plain": [
       "  show_id   type                  title                     director  \\\n",
       "0      s1  Movie    The Grand Seduction                 Don McKellar   \n",
       "1      s2  Movie   Take Care Good Night                 Girish Joshi   \n",
       "2      s3  Movie   Secrets of Deception                  Josh Webber   \n",
       "3      s4  Movie     Pink: Staying True               Sonia Anderson   \n",
       "4      s5  Movie          Monster Maker                 Giles Foster   \n",
       "5      s6  Movie  Living With Dinosaurs                 Paul Weiland   \n",
       "6      s7  Movie              Hired Gun                  Fran Strine   \n",
       "7      s8  Movie           Grease Live!  Thomas Kail, Alex Rudzinski   \n",
       "8      s9  Movie        Global Meltdown                Daniel Gilboy   \n",
       "9     s10  Movie         David's Mother        Robert Allan Ackerman   \n",
       "\n",
       "                                                cast         country  \\\n",
       "0     Brendan Gleeson, Taylor Kitsch, Gordon Pinsent          Canada   \n",
       "1   Mahesh Manjrekar, Abhay Mahajan, Sachin Khedekar           India   \n",
       "2  Tom Sizemore, Lorenzo Lamas, Robert LaSardo, R...   United States   \n",
       "3  Interviews with: Pink, Adele, Beyoncé, Britney...   United States   \n",
       "4  Harry Dean Stanton, Kieran O'Brien, George Cos...  United Kingdom   \n",
       "5  Gregory Chisholm, Juliet Stevenson, Brian Hens...  United Kingdom   \n",
       "6  Alice Cooper, Liberty DeVitto, Ray Parker Jr.,...   United States   \n",
       "7  Julianne Hough, Aaron Tveit, Vanessa Hudgens, ...   United States   \n",
       "8  Michael Paré, Leanne Khol Young, Patrick J. Ma...          Canada   \n",
       "9    Kirstie Alley, Sam Waterston, Stockard Channing   United States   \n",
       "\n",
       "       date_added  release_year rating duration  \\\n",
       "0  March 30, 2021          2014    NaN  113 min   \n",
       "1  March 30, 2021          2018    13+  110 min   \n",
       "2  March 30, 2021          2017    NaN   74 min   \n",
       "3  March 30, 2021          2014    NaN   69 min   \n",
       "4  March 30, 2021          1989    NaN   45 min   \n",
       "5  March 30, 2021          1989    NaN   52 min   \n",
       "6  March 30, 2021          2017    NaN   98 min   \n",
       "7  March 30, 2021          2016    NaN  131 min   \n",
       "8  March 30, 2021          2017    NaN   87 min   \n",
       "9   April 1, 2021          1994    NaN   92 min   \n",
       "\n",
       "                           listed_in  \\\n",
       "0                      Comedy, Drama   \n",
       "1               Drama, International   \n",
       "2            Action, Drama, Suspense   \n",
       "3                        Documentary   \n",
       "4                     Drama, Fantasy   \n",
       "5                      Fantasy, Kids   \n",
       "6      Documentary, Special Interest   \n",
       "7                             Comedy   \n",
       "8  Action, Science Fiction, Suspense   \n",
       "9                              Drama   \n",
       "\n",
       "                                         description  \n",
       "0  A small fishing village must procure a local d...  \n",
       "1  A Metro Family decides to fight a Cyber Crimin...  \n",
       "2  After a man discovers his wife is cheating on ...  \n",
       "3  Pink breaks the mold once again, bringing her ...  \n",
       "4  Teenage Matt Banting wants to work with a famo...  \n",
       "5  The story unfolds in a an English seaside town...  \n",
       "6  They are the \"First Call, A-list\" musicians, j...  \n",
       "7  This honest, uncompromising comedy chronicles ...  \n",
       "8  A helicopter pilot and an environmental scient...  \n",
       "9  Sally Goodson is a devoted mother to her autis...  "
      ]
     },
     "execution_count": 9,
     "metadata": {},
     "output_type": "execute_result"
    }
   ],
   "source": [
    "# Se observan las primeras filas del dataset\n",
    "amazon.head(10)"
   ]
  },
  {
   "cell_type": "raw",
   "id": "f71e1564",
   "metadata": {},
   "source": [
    "# Se inspeccionan las últimas filas del dataframe\n",
    "amazon.tail(10)  "
   ]
  },
  {
   "cell_type": "markdown",
   "id": "f01f5c51",
   "metadata": {},
   "source": [
    "## Análisis de datos faltantes"
   ]
  },
  {
   "cell_type": "code",
   "execution_count": 11,
   "id": "3f06b6f2",
   "metadata": {
    "scrolled": true
   },
   "outputs": [
    {
     "data": {
      "text/plain": [
       "date_added      9513\n",
       "country         8996\n",
       "director        2083\n",
       "cast            1233\n",
       "rating           337\n",
       "show_id            0\n",
       "type               0\n",
       "title              0\n",
       "release_year       0\n",
       "duration           0\n",
       "listed_in          0\n",
       "description        0\n",
       "dtype: int64"
      ]
     },
     "execution_count": 11,
     "metadata": {},
     "output_type": "execute_result"
    }
   ],
   "source": [
    "# Se observan cuántos valores faltantes tiene cada columna:\n",
    "missing_values = amazon.isnull().sum().sort_values(ascending = False) # contabiliza\n",
    "        # datos faltantes ordenados de mayor a menor\n",
    "        # según la columna\n",
    "missing_values"
   ]
  },
  {
   "cell_type": "code",
   "execution_count": 12,
   "id": "720d91b1",
   "metadata": {},
   "outputs": [
    {
     "data": {
      "image/png": "[encoded data removed]",
      "text/plain": [
       "<Figure size 1000x600 with 1 Axes>"
      ]
     },
     "metadata": {},
     "output_type": "display_data"
    }
   ],
   "source": [
    "import matplotlib.pyplot as plt\n",
    "import seaborn as sns\n",
    "# visualización de valores faltantes\n",
    "plt.figure(figsize=(10, 6))\n",
    "sns.heatmap(amazon.isnull(), cmap='viridis', cbar=False)\n",
    "plt.title('Valores Faltantes en el DataFrame')\n",
    "plt.show()"
   ]
  },
  {
   "cell_type": "markdown",
   "id": "bb509d02",
   "metadata": {},
   "source": [
    "Se pueden observar que en la columna fecha_agregada faltan todos datos. Lo mismo ocurre, con la columna país. Como no van a ser objeto de estudio de este análisis, no se  tendrá en cuenta su tratamiento. </br>\n",
    "Las columnas más importantes para el sistema de recomendación (título, descripcion, calificacion, elenco, listado_en) no tienen datos faltantes, por lo se trabajará con ellas sin dificultad. "
   ]
  },
  {
   "cell_type": "markdown",
   "id": "576bcda1",
   "metadata": {},
   "source": [
    "### ¿Cuántas películas y cuántas series hay en la plataforma?"
   ]
  },
  {
   "cell_type": "code",
   "execution_count": 13,
   "id": "c6b8ea99",
   "metadata": {},
   "outputs": [
    {
     "name": "stdout",
     "output_type": "stream",
     "text": [
      "Hay 7814 películas y 1854 series\n"
     ]
    }
   ],
   "source": [
    "# Se contabilizan la cantidad de filas de acuerdo a su tipo: películas o series. \n",
    "contar_tipo = amazon['type'].value_counts()\n",
    "print(f\"Hay {contar_tipo[0]} películas y {contar_tipo[1]} series\")\n"
   ]
  },
  {
   "cell_type": "code",
   "execution_count": 14,
   "id": "091cb51a",
   "metadata": {
    "scrolled": false
   },
   "outputs": [
    {
     "data": {
      "image/png": "[encoded data removed]",
      "text/plain": [
       "<Figure size 640x480 with 1 Axes>"
      ]
     },
     "metadata": {},
     "output_type": "display_data"
    }
   ],
   "source": [
    "# Se visualizan la cantidad de películas y tv show a travéz de un gráfico de barras\n",
    "\n",
    "plt.bar(contar_tipo.index, contar_tipo.values)\n",
    "plt.xlabel('Tipo', fontsize=18)\n",
    "plt.ylabel('Cantidad de títulos', fontsize=15)\n",
    "plt.title( 'Películas y series en amazon', fontsize=20)\n",
    "plt.xticks(rotation=45, fontsize=10)\n",
    "plt.yticks(fontsize=10)\n",
    "plt.tight_layout()\n",
    "\n",
    "# Mostrar el gráfico\n",
    "plt.show()"
   ]
  },
  {
   "cell_type": "markdown",
   "id": "bcf58415",
   "metadata": {},
   "source": [
    "## Columna calificación"
   ]
  },
  {
   "cell_type": "code",
   "execution_count": 15,
   "id": "7f01d14e",
   "metadata": {},
   "outputs": [
    {
     "name": "stdout",
     "output_type": "stream",
     "text": [
      "rating\n",
      "13+         2117\n",
      "16+         1547\n",
      "ALL         1268\n",
      "18+         1243\n",
      "R           1010\n",
      "PG-13        393\n",
      "7+           385\n",
      "PG           253\n",
      "NR           223\n",
      "TV-14        208\n",
      "TV-PG        169\n",
      "TV-NR        105\n",
      "G             93\n",
      "TV-G          81\n",
      "TV-MA         77\n",
      "TV-Y          74\n",
      "TV-Y7         39\n",
      "UNRATED       33\n",
      "NC-17          3\n",
      "AGES_18_       3\n",
      "NOT_RATE       3\n",
      "AGES_16_       2\n",
      "16             1\n",
      "ALL_AGES       1\n",
      "Name: count, dtype: int64\n"
     ]
    }
   ],
   "source": [
    "# Se contabilizan la cantidad de filas para cada calificacion\n",
    "contar_calif = amazon['rating'].value_counts()\n",
    "print(contar_calif)"
   ]
  },
  {
   "cell_type": "markdown",
   "id": "d3a2f2b2",
   "metadata": {},
   "source": [
    "Dado que las calificaciones para TV y cine son distintas, se graficaran por separado. "
   ]
  },
  {
   "cell_type": "code",
   "execution_count": 16,
   "id": "3c2d5fa9",
   "metadata": {},
   "outputs": [
    {
     "data": {
      "text/plain": [
       "(7814, 12)"
      ]
     },
     "execution_count": 16,
     "metadata": {},
     "output_type": "execute_result"
    }
   ],
   "source": [
    "# Se creará un nuevo dataframe filtrando por el valor de la columna tipo (película)\n",
    "amazon_peli = amazon[amazon['type'] == \"Movie\"]\n",
    "amazon_peli.shape ## Se verifica la cantidad de filas"
   ]
  },
  {
   "cell_type": "code",
   "execution_count": 17,
   "id": "629038b3",
   "metadata": {},
   "outputs": [
    {
     "data": {
      "text/plain": [
       "(1854, 12)"
      ]
     },
     "execution_count": 17,
     "metadata": {},
     "output_type": "execute_result"
    }
   ],
   "source": [
    "# Se creará un nuevo dataframe filtrando por el valor de la columna tipo (tv show)\n",
    "amazon_tv = amazon[amazon['type'] == \"TV Show\"]\n",
    "amazon_tv.shape ## Se verifica la cantidad de filas"
   ]
  },
  {
   "cell_type": "code",
   "execution_count": 18,
   "id": "fe8449a3",
   "metadata": {
    "scrolled": true
   },
   "outputs": [
    {
     "data": {
      "image/png": "[encoded data removed]",
      "text/plain": [
       "<Figure size 640x480 with 1 Axes>"
      ]
     },
     "metadata": {},
     "output_type": "display_data"
    }
   ],
   "source": [
    "# Se cuenta la cantidad de filasa a travpés de un gráfico de barras\n",
    "contar_calif_peli = amazon_peli['rating'].value_counts()\n",
    "\n",
    "# Crear el gráfico de barras\n",
    "plt.bar(contar_calif_peli.index, contar_calif_peli.values)\n",
    "plt.xlabel('Calificación', fontsize=15)\n",
    "plt.ylabel('Cantidad de títulos', fontsize=15)\n",
    "plt.title('Películas por cada calificación en amazon', fontsize=20)\n",
    "plt.xticks(rotation=45, fontsize=8)\n",
    "plt.yticks(fontsize=13)\n",
    "plt.tight_layout()\n",
    "\n",
    "# Mostrar el gráfico\n",
    "plt.show()"
   ]
  },
  {
   "cell_type": "markdown",
   "id": "a4edaf58",
   "metadata": {},
   "source": [
    "Posteriormente realizaremos una limpieza y procesamiento de las categorías de clasificación. "
   ]
  },
  {
   "cell_type": "code",
   "execution_count": 19,
   "id": "11e9ebb8",
   "metadata": {
    "scrolled": true
   },
   "outputs": [
    {
     "data": {
      "image/png": "[encoded data removed]",
      "text/plain": [
       "<Figure size 640x480 with 1 Axes>"
      ]
     },
     "metadata": {},
     "output_type": "display_data"
    }
   ],
   "source": [
    "# Se contabiliza la cantidad de filas \n",
    "contar_calif_tv = amazon_tv['rating'].value_counts()\n",
    "\n",
    "# Crear el gráfico de barras\n",
    "plt.bar(contar_calif_tv.index, contar_calif_tv.values)\n",
    "plt.xlabel('Calificación', fontsize=15)\n",
    "plt.ylabel('Cantidad de títulos', fontsize=15)\n",
    "plt.title('Series por calificación en amazon', fontsize=18)\n",
    "plt.xticks(rotation=45, fontsize=9)\n",
    "plt.yticks(fontsize=13)\n",
    "plt.tight_layout()\n",
    "\n",
    "# Mostrar el gráfico\n",
    "plt.show()"
   ]
  },
  {
   "cell_type": "code",
   "execution_count": 24,
   "id": "d6869a3e",
   "metadata": {},
   "outputs": [],
   "source": [
    "# Se guardan los dataframe en archivos CSV\n",
    "amazon_peli.to_csv(r'..\\\\datasets\\\\plataformas\\\\amazon_peli.csv', index=False)\n",
    "amazon_tv.to_csv(r'..\\\\datasets\\\\plataformas\\\\amazon_tv.csv', index=False)"
   ]
  },
  {
   "cell_type": "markdown",
   "id": "3eae7448",
   "metadata": {},
   "source": [
    "## Columna duracion"
   ]
  },
  {
   "cell_type": "code",
   "execution_count": 25,
   "id": "64748bac",
   "metadata": {},
   "outputs": [
    {
     "data": {
      "text/html": [
       "<div>\n",
       "<style scoped>\n",
       "    .dataframe tbody tr th:only-of-type {\n",
       "        vertical-align: middle;\n",
       "    }\n",
       "\n",
       "    .dataframe tbody tr th {\n",
       "        vertical-align: top;\n",
       "    }\n",
       "\n",
       "    .dataframe thead th {\n",
       "        text-align: right;\n",
       "    }\n",
       "</style>\n",
       "<table border=\"1\" class=\"dataframe\">\n",
       "  <thead>\n",
       "    <tr style=\"text-align: right;\">\n",
       "      <th></th>\n",
       "      <th>show_id</th>\n",
       "      <th>type</th>\n",
       "      <th>title</th>\n",
       "      <th>director</th>\n",
       "      <th>cast</th>\n",
       "      <th>country</th>\n",
       "      <th>date_added</th>\n",
       "      <th>release_year</th>\n",
       "      <th>rating</th>\n",
       "      <th>duration</th>\n",
       "      <th>listed_in</th>\n",
       "      <th>description</th>\n",
       "    </tr>\n",
       "  </thead>\n",
       "  <tbody>\n",
       "    <tr>\n",
       "      <th>0</th>\n",
       "      <td>s1</td>\n",
       "      <td>Movie</td>\n",
       "      <td>The Grand Seduction</td>\n",
       "      <td>Don McKellar</td>\n",
       "      <td>Brendan Gleeson, Taylor Kitsch, Gordon Pinsent</td>\n",
       "      <td>Canada</td>\n",
       "      <td>March 30, 2021</td>\n",
       "      <td>2014</td>\n",
       "      <td>NaN</td>\n",
       "      <td>113 min</td>\n",
       "      <td>Comedy, Drama</td>\n",
       "      <td>A small fishing village must procure a local d...</td>\n",
       "    </tr>\n",
       "    <tr>\n",
       "      <th>1</th>\n",
       "      <td>s2</td>\n",
       "      <td>Movie</td>\n",
       "      <td>Take Care Good Night</td>\n",
       "      <td>Girish Joshi</td>\n",
       "      <td>Mahesh Manjrekar, Abhay Mahajan, Sachin Khedekar</td>\n",
       "      <td>India</td>\n",
       "      <td>March 30, 2021</td>\n",
       "      <td>2018</td>\n",
       "      <td>13+</td>\n",
       "      <td>110 min</td>\n",
       "      <td>Drama, International</td>\n",
       "      <td>A Metro Family decides to fight a Cyber Crimin...</td>\n",
       "    </tr>\n",
       "    <tr>\n",
       "      <th>2</th>\n",
       "      <td>s3</td>\n",
       "      <td>Movie</td>\n",
       "      <td>Secrets of Deception</td>\n",
       "      <td>Josh Webber</td>\n",
       "      <td>Tom Sizemore, Lorenzo Lamas, Robert LaSardo, R...</td>\n",
       "      <td>United States</td>\n",
       "      <td>March 30, 2021</td>\n",
       "      <td>2017</td>\n",
       "      <td>NaN</td>\n",
       "      <td>74 min</td>\n",
       "      <td>Action, Drama, Suspense</td>\n",
       "      <td>After a man discovers his wife is cheating on ...</td>\n",
       "    </tr>\n",
       "  </tbody>\n",
       "</table>\n",
       "</div>"
      ],
      "text/plain": [
       "  show_id   type                 title      director  \\\n",
       "0      s1  Movie   The Grand Seduction  Don McKellar   \n",
       "1      s2  Movie  Take Care Good Night  Girish Joshi   \n",
       "2      s3  Movie  Secrets of Deception   Josh Webber   \n",
       "\n",
       "                                                cast        country  \\\n",
       "0     Brendan Gleeson, Taylor Kitsch, Gordon Pinsent         Canada   \n",
       "1   Mahesh Manjrekar, Abhay Mahajan, Sachin Khedekar          India   \n",
       "2  Tom Sizemore, Lorenzo Lamas, Robert LaSardo, R...  United States   \n",
       "\n",
       "       date_added  release_year rating duration                listed_in  \\\n",
       "0  March 30, 2021          2014    NaN  113 min            Comedy, Drama   \n",
       "1  March 30, 2021          2018    13+  110 min     Drama, International   \n",
       "2  March 30, 2021          2017    NaN   74 min  Action, Drama, Suspense   \n",
       "\n",
       "                                         description  \n",
       "0  A small fishing village must procure a local d...  \n",
       "1  A Metro Family decides to fight a Cyber Crimin...  \n",
       "2  After a man discovers his wife is cheating on ...  "
      ]
     },
     "execution_count": 25,
     "metadata": {},
     "output_type": "execute_result"
    }
   ],
   "source": [
    "# Se observa la columna duracion para las películas\n",
    "amazon_peli.head(3)"
   ]
  },
  {
   "cell_type": "code",
   "execution_count": 26,
   "id": "98c50bcf",
   "metadata": {
    "scrolled": false
   },
   "outputs": [
    {
     "data": {
      "text/html": [
       "<div>\n",
       "<style scoped>\n",
       "    .dataframe tbody tr th:only-of-type {\n",
       "        vertical-align: middle;\n",
       "    }\n",
       "\n",
       "    .dataframe tbody tr th {\n",
       "        vertical-align: top;\n",
       "    }\n",
       "\n",
       "    .dataframe thead th {\n",
       "        text-align: right;\n",
       "    }\n",
       "</style>\n",
       "<table border=\"1\" class=\"dataframe\">\n",
       "  <thead>\n",
       "    <tr style=\"text-align: right;\">\n",
       "      <th></th>\n",
       "      <th>show_id</th>\n",
       "      <th>type</th>\n",
       "      <th>title</th>\n",
       "      <th>director</th>\n",
       "      <th>cast</th>\n",
       "      <th>country</th>\n",
       "      <th>date_added</th>\n",
       "      <th>release_year</th>\n",
       "      <th>rating</th>\n",
       "      <th>duration</th>\n",
       "      <th>listed_in</th>\n",
       "      <th>description</th>\n",
       "    </tr>\n",
       "  </thead>\n",
       "  <tbody>\n",
       "    <tr>\n",
       "      <th>17</th>\n",
       "      <td>s18</td>\n",
       "      <td>TV Show</td>\n",
       "      <td>Zoo Babies</td>\n",
       "      <td>NaN</td>\n",
       "      <td>Narrator - Gillian Barlett</td>\n",
       "      <td>NaN</td>\n",
       "      <td>NaN</td>\n",
       "      <td>2008</td>\n",
       "      <td>ALL</td>\n",
       "      <td>1 Season</td>\n",
       "      <td>Kids, Special Interest</td>\n",
       "      <td>A heart warming and inspiring series that welc...</td>\n",
       "    </tr>\n",
       "    <tr>\n",
       "      <th>18</th>\n",
       "      <td>s19</td>\n",
       "      <td>TV Show</td>\n",
       "      <td>Zoë Coombs Marr: Bossy Bottom</td>\n",
       "      <td>NaN</td>\n",
       "      <td>Zoë Coombs Marr</td>\n",
       "      <td>NaN</td>\n",
       "      <td>NaN</td>\n",
       "      <td>2020</td>\n",
       "      <td>18+</td>\n",
       "      <td>1 Season</td>\n",
       "      <td>Comedy, Talk Show and Variety</td>\n",
       "      <td>Zoë Coombs Marr has been on hiatus. Sort of. F...</td>\n",
       "    </tr>\n",
       "    <tr>\n",
       "      <th>20</th>\n",
       "      <td>s21</td>\n",
       "      <td>TV Show</td>\n",
       "      <td>Zoboomafoo</td>\n",
       "      <td>NaN</td>\n",
       "      <td>NaN</td>\n",
       "      <td>NaN</td>\n",
       "      <td>NaN</td>\n",
       "      <td>2001</td>\n",
       "      <td>TV-Y</td>\n",
       "      <td>1 Season</td>\n",
       "      <td>Kids</td>\n",
       "      <td>Chris and Martin Kratt bring their enthusiasm ...</td>\n",
       "    </tr>\n",
       "  </tbody>\n",
       "</table>\n",
       "</div>"
      ],
      "text/plain": [
       "   show_id     type                          title director  \\\n",
       "17     s18  TV Show                     Zoo Babies      NaN   \n",
       "18     s19  TV Show  Zoë Coombs Marr: Bossy Bottom      NaN   \n",
       "20     s21  TV Show                     Zoboomafoo      NaN   \n",
       "\n",
       "                          cast country date_added  release_year rating  \\\n",
       "17  Narrator - Gillian Barlett     NaN        NaN          2008    ALL   \n",
       "18             Zoë Coombs Marr     NaN        NaN          2020    18+   \n",
       "20                         NaN     NaN        NaN          2001   TV-Y   \n",
       "\n",
       "    duration                      listed_in  \\\n",
       "17  1 Season         Kids, Special Interest   \n",
       "18  1 Season  Comedy, Talk Show and Variety   \n",
       "20  1 Season                           Kids   \n",
       "\n",
       "                                          description  \n",
       "17  A heart warming and inspiring series that welc...  \n",
       "18  Zoë Coombs Marr has been on hiatus. Sort of. F...  \n",
       "20  Chris and Martin Kratt bring their enthusiasm ...  "
      ]
     },
     "execution_count": 26,
     "metadata": {},
     "output_type": "execute_result"
    }
   ],
   "source": [
    "# Se observa la columna duracion para las series\n",
    "amazon_tv.head(3)"
   ]
  },
  {
   "cell_type": "markdown",
   "id": "8ea8a398",
   "metadata": {},
   "source": [
    "Se observa que para las películas, la duracion se expresa con la unidad minutos.Mientras que para las series, se expresa con la unidad temporadas. \n",
    "Esto significa que solamente se utilizará esta columna para clasificar por separado series o películas, ya que poseen distintas unidades de medida (minutos y temporadas respectivamente). \n",
    "Se procesarán los datos de la columna para utilizarlos. "
   ]
  },
  {
   "cell_type": "code",
   "execution_count": 27,
   "id": "a6a71dfc",
   "metadata": {},
   "outputs": [],
   "source": [
    "# Se importan los dataframe (CSV) creados, usando pandas.  \n",
    "amazon_peli = pd.read_csv(r'..\\\\datasets\\\\plataformas\\\\amazon_peli.csv')\n",
    "amazon_tv = pd.read_csv(r'..\\\\datasets\\\\plataformas\\\\amazon_tv.csv')"
   ]
  },
  {
   "cell_type": "code",
   "execution_count": 28,
   "id": "d176d9a8",
   "metadata": {},
   "outputs": [],
   "source": [
    "# Se quitan \"min\" y se transforma el tipo de dato númerico entero: integer \n",
    "amazon_peli['duration'] = amazon_peli['duration'].str.replace(' min', '').astype(int)\n"
   ]
  },
  {
   "cell_type": "code",
   "execution_count": 29,
   "id": "7890df69",
   "metadata": {},
   "outputs": [
    {
     "name": "stdout",
     "output_type": "stream",
     "text": [
      "['1 Season' '3 Seasons' '2 Seasons' '4 Seasons' '7 Seasons' '9 Seasons'\n",
      " '6 Seasons' '5 Seasons' '29 Seasons' '19 Seasons' '21 Seasons'\n",
      " '8 Seasons' '12 Seasons' '11 Seasons' '10 Seasons' '14 Seasons'\n",
      " '15 Seasons']\n"
     ]
    }
   ],
   "source": [
    "# Con las series se obtienen los valores unicos en la columna duracion para las series \n",
    "uniquedur = amazon_tv['duration'].unique()\n",
    "print(uniquedur)"
   ]
  },
  {
   "cell_type": "markdown",
   "id": "37b72d45",
   "metadata": {},
   "source": [
    "Se observa que hay algunas filas con el formato \"numero + season/seasons\" y otras con el formato \"numero + s\". </br>\n",
    "Asíque algunas son temporadas y otras segundos. </br>\n",
    "Por el momento se reemplazan las que estén en temporadas. "
   ]
  },
  {
   "cell_type": "code",
   "execution_count": 30,
   "id": "0f509100",
   "metadata": {},
   "outputs": [],
   "source": [
    "# Se quitan \"Season\" y \"Seasons\"\n",
    "amazon_tv['duration'] = amazon_tv['duration'].str.replace(' Season', '').str.replace(' Seasons', '')\n"
   ]
  },
  {
   "cell_type": "markdown",
   "id": "9b8de12d",
   "metadata": {},
   "source": [
    "No se puede convertir a integer porque algunas filas están en temporadass y no fueron modificadas, así que al convertir a integer se volverían nulas.\n",
    "Por ahora se continuará la exploración adelante aunque queda pendiente el procesamiento de esta columna.\n",
    "Según cómo querramos utilizar las distintas formas de duración, quizás deberíamos crear distintas columnas para cada forma de medición, y explorar por qué algunos productos se miden en segundos (qué tipo de productos son? nos sirven para el análisis? deberíamos eliminarlos?).\n"
   ]
  },
  {
   "cell_type": "markdown",
   "id": "91748d7d",
   "metadata": {},
   "source": [
    "### ¿Cuántas series y películas de cada año hay en la plataforma?"
   ]
  },
  {
   "cell_type": "code",
   "execution_count": 31,
   "id": "e6725475",
   "metadata": {},
   "outputs": [
    {
     "data": {
      "text/plain": [
       "<Figure size 1000x600 with 0 Axes>"
      ]
     },
     "metadata": {},
     "output_type": "display_data"
    },
    {
     "data": {
      "image/png": "[encoded data removed]",
      "text/plain": [
       "<Figure size 640x480 with 1 Axes>"
      ]
     },
     "metadata": {},
     "output_type": "display_data"
    }
   ],
   "source": [
    "# Agrupar por tipo y anio, y contar la cantidad de filas\n",
    "contar_anio = amazon.groupby(['release_year', 'type']).size().unstack()\n",
    "\n",
    "# Crear un gráfico de barras apiladas con anio en el eje x\n",
    "plt.figure(figsize=(10, 6))\n",
    "contar_anio.plot(kind='bar', stacked=True)\n",
    "plt.xlabel('Año', fontsize = 15)\n",
    "plt.ylabel('Cantidad de Títulos', fontsize = 15)\n",
    "plt.title('Series y películas por año', fontsize = 20)\n",
    "plt.legend(title='Tipo', fontsize = 15)\n",
    "plt.xticks([]) # eliminar etiquetas de eje x porque queda muy cargado\n",
    "plt.yticks(fontsize = 15)\n",
    "plt.tight_layout()\n",
    "plt.show()"
   ]
  },
  {
   "cell_type": "markdown",
   "id": "549ae861",
   "metadata": {},
   "source": [
    "## Columna listado_en: categorías y géneros"
   ]
  },
  {
   "cell_type": "code",
   "execution_count": 32,
   "id": "f1310a00",
   "metadata": {},
   "outputs": [
    {
     "data": {
      "text/plain": [
       "0              Comedy, Drama\n",
       "1       Drama, International\n",
       "2    Action, Drama, Suspense\n",
       "Name: listed_in, dtype: object"
      ]
     },
     "execution_count": 32,
     "metadata": {},
     "output_type": "execute_result"
    }
   ],
   "source": [
    "amazon['listed_in'].head(3)"
   ]
  },
  {
   "cell_type": "markdown",
   "id": "713c224a",
   "metadata": {},
   "source": [
    "Se observa que la columna listado_en contiene diversos valores separados por comas. Se separa cada valor en una columna para poder utilizarlas para agrupar las filas. "
   ]
  },
  {
   "cell_type": "code",
   "execution_count": 33,
   "id": "9a54773e",
   "metadata": {},
   "outputs": [
    {
     "name": "stdout",
     "output_type": "stream",
     "text": [
      "                0               1          2     3     4\n",
      "0          Comedy           Drama       None  None  None\n",
      "1           Drama   International       None  None  None\n",
      "2          Action           Drama   Suspense  None  None\n",
      "3     Documentary            None       None  None  None\n",
      "4           Drama         Fantasy       None  None  None\n",
      "...           ...             ...        ...   ...   ...\n",
      "9663       Comedy            None       None  None  None\n",
      "9664     TV Shows            None       None  None  None\n",
      "9665       Action            None       None  None  None\n",
      "9666        Drama          Sports       None  None  None\n",
      "9667       Action           Drama   Suspense  None  None\n",
      "\n",
      "[9668 rows x 5 columns]\n"
     ]
    }
   ],
   "source": [
    "# Dividir los valores en columnas separadas\n",
    "generos = amazon['listed_in'].str.split(',', expand=True)\n",
    "print(generos)"
   ]
  },
  {
   "cell_type": "code",
   "execution_count": 34,
   "id": "b583fc44",
   "metadata": {},
   "outputs": [],
   "source": [
    "generos.columns = ['gen1', 'gen2', 'gen3', 'gen4', 'gen5']"
   ]
  },
  {
   "cell_type": "code",
   "execution_count": 35,
   "id": "005f94db",
   "metadata": {},
   "outputs": [
    {
     "name": "stdout",
     "output_type": "stream",
     "text": [
      "             gen1            gen2       gen3  gen4  gen5\n",
      "0          Comedy           Drama       None  None  None\n",
      "1           Drama   International       None  None  None\n",
      "2          Action           Drama   Suspense  None  None\n",
      "3     Documentary            None       None  None  None\n",
      "4           Drama         Fantasy       None  None  None\n",
      "...           ...             ...        ...   ...   ...\n",
      "9663       Comedy            None       None  None  None\n",
      "9664     TV Shows            None       None  None  None\n",
      "9665       Action            None       None  None  None\n",
      "9666        Drama          Sports       None  None  None\n",
      "9667       Action           Drama   Suspense  None  None\n",
      "\n",
      "[9668 rows x 5 columns]\n"
     ]
    }
   ],
   "source": [
    "print(generos)"
   ]
  },
  {
   "cell_type": "code",
   "execution_count": 36,
   "id": "f35a2d0a",
   "metadata": {
    "scrolled": true
   },
   "outputs": [
    {
     "name": "stdout",
     "output_type": "stream",
     "text": [
      "     show_id     type                    title         director  \\\n",
      "0         s1    Movie      The Grand Seduction     Don McKellar   \n",
      "1         s2    Movie     Take Care Good Night     Girish Joshi   \n",
      "2         s3    Movie     Secrets of Deception      Josh Webber   \n",
      "3         s4    Movie       Pink: Staying True   Sonia Anderson   \n",
      "4         s5    Movie            Monster Maker     Giles Foster   \n",
      "...      ...      ...                      ...              ...   \n",
      "9663   s9664    Movie      Pride Of The Bowery  Joseph H. Lewis   \n",
      "9664   s9665  TV Show            Planet Patrol              NaN   \n",
      "9665   s9666    Movie                  Outpost     Steve Barker   \n",
      "9666   s9667  TV Show  Maradona: Blessed Dream              NaN   \n",
      "9667   s9668    Movie              Harry Brown    Daniel Barber   \n",
      "\n",
      "                                                   cast         country  \\\n",
      "0        Brendan Gleeson, Taylor Kitsch, Gordon Pinsent          Canada   \n",
      "1      Mahesh Manjrekar, Abhay Mahajan, Sachin Khedekar           India   \n",
      "2     Tom Sizemore, Lorenzo Lamas, Robert LaSardo, R...   United States   \n",
      "3     Interviews with: Pink, Adele, Beyoncé, Britney...   United States   \n",
      "4     Harry Dean Stanton, Kieran O'Brien, George Cos...  United Kingdom   \n",
      "...                                                 ...             ...   \n",
      "9663                           Leo Gorcey, Bobby Jordan             NaN   \n",
      "9664  DICK VOSBURGH, RONNIE STEVENS, LIBBY MORRIS, M...             NaN   \n",
      "9665  Ray Stevenson, Julian Wadham, Richard Brake, M...             NaN   \n",
      "9666  Esteban Recagno, Ezequiel Stremiz, Luciano Vit...             NaN   \n",
      "9667  Michael Caine, Emily Mortimer, Joseph Gilgun, ...             NaN   \n",
      "\n",
      "          date_added  release_year rating   duration                listed_in  \\\n",
      "0     March 30, 2021          2014    NaN    113 min            Comedy, Drama   \n",
      "1     March 30, 2021          2018    13+    110 min     Drama, International   \n",
      "2     March 30, 2021          2017    NaN     74 min  Action, Drama, Suspense   \n",
      "3     March 30, 2021          2014    NaN     69 min              Documentary   \n",
      "4     March 30, 2021          1989    NaN     45 min           Drama, Fantasy   \n",
      "...              ...           ...    ...        ...                      ...   \n",
      "9663             NaN          1940     7+     60 min                   Comedy   \n",
      "9664             NaN          2018    13+  4 Seasons                 TV Shows   \n",
      "9665             NaN          2008      R     90 min                   Action   \n",
      "9666             NaN          2021  TV-MA   1 Season            Drama, Sports   \n",
      "9667             NaN          2010      R    103 min  Action, Drama, Suspense   \n",
      "\n",
      "                                            description         gen1  \\\n",
      "0     A small fishing village must procure a local d...       Comedy   \n",
      "1     A Metro Family decides to fight a Cyber Crimin...        Drama   \n",
      "2     After a man discovers his wife is cheating on ...       Action   \n",
      "3     Pink breaks the mold once again, bringing her ...  Documentary   \n",
      "4     Teenage Matt Banting wants to work with a famo...        Drama   \n",
      "...                                                 ...          ...   \n",
      "9663  New York City street principles get an East Si...       Comedy   \n",
      "9664  This is Earth, 2100AD - and these are the adve...     TV Shows   \n",
      "9665  In war-torn Eastern Europe, a world-weary grou...       Action   \n",
      "9666  The series tells the story of Diego Maradona, ...        Drama   \n",
      "9667  Harry Brown, starring two-time Academy Award w...       Action   \n",
      "\n",
      "                gen2       gen3  gen4  gen5  \n",
      "0              Drama       None  None  None  \n",
      "1      International       None  None  None  \n",
      "2              Drama   Suspense  None  None  \n",
      "3               None       None  None  None  \n",
      "4            Fantasy       None  None  None  \n",
      "...              ...        ...   ...   ...  \n",
      "9663            None       None  None  None  \n",
      "9664            None       None  None  None  \n",
      "9665            None       None  None  None  \n",
      "9666          Sports       None  None  None  \n",
      "9667           Drama   Suspense  None  None  \n",
      "\n",
      "[9668 rows x 17 columns]\n"
     ]
    }
   ],
   "source": [
    "# Concatenar las nuevas columnas al DataFrame original\n",
    "amazon = pd.concat([amazon, generos], axis=1)\n",
    "print(amazon)"
   ]
  },
  {
   "cell_type": "markdown",
   "id": "11cc64cc",
   "metadata": {},
   "source": [
    "Para la segunda pre-entrega no pude procesar esta columna de manera que me permita agrupar y graficar por género/categoría. Un camino posible sería crear columnas dummies para cada categoría, tal que cada fila contenga 1 o 0 según corresponda. </br>\n",
    "Más adelante procesaremos esta columna. "
   ]
  },
  {
   "cell_type": "markdown",
   "id": "b16befa1",
   "metadata": {},
   "source": [
    "### Hasta acá se había llegado para la segunda pre-entrega. \n",
    "### A continuación avanzamos con la exploración de los datasets de otras plataformas. "
   ]
  },
  {
   "cell_type": "code",
   "execution_count": 44,
   "id": "2a3dff6b",
   "metadata": {},
   "outputs": [],
   "source": [
    "# importamos todos los datasets\n",
    "amazon = pd.read_csv('..\\\\datasets\\\\amazon_prime_titles.csv')\n",
    "hulu = pd.read_csv('..\\\\datasets\\\\hulu_titles.csv')\n",
    "disney = pd.read_csv('..\\\\datasets\\\\disney_plus_titles.csv')\n",
    "netflix = pd.read_csv('..\\\\datasets\\\\netflix_titles.csv')"
   ]
  },
  {
   "cell_type": "code",
   "execution_count": 45,
   "id": "d642107f",
   "metadata": {},
   "outputs": [
    {
     "data": {
      "text/plain": [
       "'El dataset tiene 9668 filas y 12 columnas'"
      ]
     },
     "execution_count": 45,
     "metadata": {},
     "output_type": "execute_result"
    }
   ],
   "source": [
    "## vemos la forma del dataset\n",
    "forma_amazon = amazon.shape\n",
    "\n",
    "f\"El dataset tiene {forma_amazon[0]} filas y {forma_amazon[1]} columnas\""
   ]
  },
  {
   "cell_type": "code",
   "execution_count": 47,
   "id": "2f1a0007",
   "metadata": {},
   "outputs": [
    {
     "data": {
      "text/plain": [
       "'El dataset tiene 3073 filas y 12 columnas'"
      ]
     },
     "execution_count": 47,
     "metadata": {},
     "output_type": "execute_result"
    }
   ],
   "source": [
    "## vemos la forma del dataset\n",
    "forma_hulu = hulu.shape\n",
    "f\"El dataset tiene {forma_hulu[0]} filas y {forma_hulu[1]} columnas\""
   ]
  },
  {
   "cell_type": "code",
   "execution_count": 48,
   "id": "3f67c5a7",
   "metadata": {},
   "outputs": [
    {
     "data": {
      "text/plain": [
       "'El dataset tiene 1450 filas y 12 columnas'"
      ]
     },
     "execution_count": 48,
     "metadata": {},
     "output_type": "execute_result"
    }
   ],
   "source": [
    "forma_disney = disney.shape\n",
    "f\"El dataset tiene {forma_disney[0]} filas y {forma_disney[1]} columnas\""
   ]
  },
  {
   "cell_type": "code",
   "execution_count": 49,
   "id": "03a3dc69",
   "metadata": {},
   "outputs": [
    {
     "data": {
      "text/plain": [
       "'El dataset tiene 8807 filas y 12 columnas'"
      ]
     },
     "execution_count": 49,
     "metadata": {},
     "output_type": "execute_result"
    }
   ],
   "source": [
    "forma_netflix = netflix.shape\n",
    "f\"El dataset tiene {forma_netflix[0]} filas y {forma_netflix[1]} columnas\""
   ]
  },
  {
   "cell_type": "code",
   "execution_count": 50,
   "id": "9a777400",
   "metadata": {},
   "outputs": [
    {
     "data": {
      "text/html": [
       "<div>\n",
       "<style scoped>\n",
       "    .dataframe tbody tr th:only-of-type {\n",
       "        vertical-align: middle;\n",
       "    }\n",
       "\n",
       "    .dataframe tbody tr th {\n",
       "        vertical-align: top;\n",
       "    }\n",
       "\n",
       "    .dataframe thead th {\n",
       "        text-align: right;\n",
       "    }\n",
       "</style>\n",
       "<table border=\"1\" class=\"dataframe\">\n",
       "  <thead>\n",
       "    <tr style=\"text-align: right;\">\n",
       "      <th></th>\n",
       "      <th>Dataset</th>\n",
       "      <th>Filas</th>\n",
       "      <th>Columnas</th>\n",
       "    </tr>\n",
       "  </thead>\n",
       "  <tbody>\n",
       "    <tr>\n",
       "      <th>0</th>\n",
       "      <td>Amazon</td>\n",
       "      <td>9668</td>\n",
       "      <td>12</td>\n",
       "    </tr>\n",
       "    <tr>\n",
       "      <th>1</th>\n",
       "      <td>Hulu</td>\n",
       "      <td>3073</td>\n",
       "      <td>12</td>\n",
       "    </tr>\n",
       "    <tr>\n",
       "      <th>2</th>\n",
       "      <td>Netflix</td>\n",
       "      <td>8807</td>\n",
       "      <td>12</td>\n",
       "    </tr>\n",
       "    <tr>\n",
       "      <th>3</th>\n",
       "      <td>Disney</td>\n",
       "      <td>1450</td>\n",
       "      <td>12</td>\n",
       "    </tr>\n",
       "  </tbody>\n",
       "</table>\n",
       "</div>"
      ],
      "text/plain": [
       "   Dataset  Filas  Columnas\n",
       "0   Amazon   9668        12\n",
       "1     Hulu   3073        12\n",
       "2  Netflix   8807        12\n",
       "3   Disney   1450        12"
      ]
     },
     "execution_count": 50,
     "metadata": {},
     "output_type": "execute_result"
    }
   ],
   "source": [
    "# Creamos una tabla con el numero de filas y columnas de cada dataset\n",
    "forma_df = pd.DataFrame({\n",
    "    'Dataset': ['Amazon', 'Hulu', 'Netflix', 'Disney'],\n",
    "    'Filas': [amazon.shape[0], hulu.shape[0], netflix.shape[0], disney.shape[0]],\n",
    "    'Columnas': [amazon.shape[1], hulu.shape[1], netflix.shape[1], disney.shape[1]]\n",
    "})\n",
    "\n",
    "forma_df"
   ]
  },
  {
   "cell_type": "markdown",
   "id": "626f4dce",
   "metadata": {},
   "source": [
    "## Concatenación de datasets"
   ]
  },
  {
   "cell_type": "markdown",
   "id": "a9be61be",
   "metadata": {},
   "source": [
    "Primero verificamos que los 4 datasets tengan las mismas columnas"
   ]
  },
  {
   "cell_type": "code",
   "execution_count": 52,
   "id": "a6dd64bf",
   "metadata": {},
   "outputs": [
    {
     "name": "stdout",
     "output_type": "stream",
     "text": [
      "Index(['show_id', 'type', 'title', 'director', 'cast', 'country', 'date_added',\n",
      "       'release_year', 'rating', 'duration', 'listed_in', 'description'],\n",
      "      dtype='object')\n",
      "Index(['show_id', 'type', 'title', 'director', 'cast', 'country', 'date_added',\n",
      "       'release_year', 'rating', 'duration', 'listed_in', 'description'],\n",
      "      dtype='object')\n",
      "Index(['show_id', 'type', 'title', 'director', 'cast', 'country', 'date_added',\n",
      "       'release_year', 'rating', 'duration', 'listed_in', 'description'],\n",
      "      dtype='object')\n",
      "Index(['show_id', 'type', 'title', 'director', 'cast', 'country', 'date_added',\n",
      "       'release_year', 'rating', 'duration', 'listed_in', 'description'],\n",
      "      dtype='object')\n"
     ]
    }
   ],
   "source": [
    "# vemos los nombres de las columnas\n",
    "print(amazon.columns)\n",
    "print(disney.columns)\n",
    "print(hulu.columns)\n",
    "print(netflix.columns)"
   ]
  },
  {
   "cell_type": "markdown",
   "id": "de8d5a6e",
   "metadata": {},
   "source": [
    "Creamos una columna en cada dataset que indica la plataforma"
   ]
  },
  {
   "cell_type": "code",
   "execution_count": 53,
   "id": "082176b2",
   "metadata": {},
   "outputs": [],
   "source": [
    "amazon['plataforma'] = \"amazon\"\n",
    "hulu['plataforma'] = \"hulu\"\n",
    "disney['plataforma'] = \"disney\"\n",
    "netflix['plataforma'] = \"netflix\""
   ]
  },
  {
   "cell_type": "code",
   "execution_count": 54,
   "id": "acd64ecb",
   "metadata": {},
   "outputs": [],
   "source": [
    "df = pd.concat([amazon, hulu, netflix, disney], axis=0, ignore_index=True)"
   ]
  },
  {
   "cell_type": "code",
   "execution_count": 55,
   "id": "a1e207e6",
   "metadata": {},
   "outputs": [
    {
     "data": {
      "text/plain": [
       "(22998, 13)"
      ]
     },
     "execution_count": 55,
     "metadata": {},
     "output_type": "execute_result"
    }
   ],
   "source": [
    "df.shape"
   ]
  },
  {
   "cell_type": "code",
   "execution_count": null,
   "id": "061bb481",
   "metadata": {},
   "outputs": [
    {
     "data": {
      "text/html": [
       "<div>\n",
       "<style scoped>\n",
       "    .dataframe tbody tr th:only-of-type {\n",
       "        vertical-align: middle;\n",
       "    }\n",
       "\n",
       "    .dataframe tbody tr th {\n",
       "        vertical-align: top;\n",
       "    }\n",
       "\n",
       "    .dataframe thead th {\n",
       "        text-align: right;\n",
       "    }\n",
       "</style>\n",
       "<table border=\"1\" class=\"dataframe\">\n",
       "  <thead>\n",
       "    <tr style=\"text-align: right;\">\n",
       "      <th></th>\n",
       "      <th>show_id</th>\n",
       "      <th>type</th>\n",
       "      <th>title</th>\n",
       "      <th>director</th>\n",
       "      <th>cast</th>\n",
       "      <th>country</th>\n",
       "      <th>date_added</th>\n",
       "      <th>release_year</th>\n",
       "      <th>rating</th>\n",
       "      <th>duration</th>\n",
       "      <th>listed_in</th>\n",
       "      <th>description</th>\n",
       "      <th>plataforma</th>\n",
       "    </tr>\n",
       "  </thead>\n",
       "  <tbody>\n",
       "    <tr>\n",
       "      <th>22993</th>\n",
       "      <td>s1446</td>\n",
       "      <td>Movie</td>\n",
       "      <td>X-Men Origins: Wolverine</td>\n",
       "      <td>Gavin Hood</td>\n",
       "      <td>Hugh Jackman, Liev Schreiber, Danny Huston, wi...</td>\n",
       "      <td>United States, United Kingdom</td>\n",
       "      <td>June 4, 2021</td>\n",
       "      <td>2009</td>\n",
       "      <td>PG-13</td>\n",
       "      <td>108 min</td>\n",
       "      <td>Action-Adventure, Family, Science Fiction</td>\n",
       "      <td>Wolverine unites with legendary X-Men to fight...</td>\n",
       "      <td>disney</td>\n",
       "    </tr>\n",
       "    <tr>\n",
       "      <th>22994</th>\n",
       "      <td>s1447</td>\n",
       "      <td>Movie</td>\n",
       "      <td>Night at the Museum: Battle of the Smithsonian</td>\n",
       "      <td>Shawn Levy</td>\n",
       "      <td>Ben Stiller, Amy Adams, Owen Wilson, Hank Azar...</td>\n",
       "      <td>United States, Canada</td>\n",
       "      <td>April 2, 2021</td>\n",
       "      <td>2009</td>\n",
       "      <td>PG</td>\n",
       "      <td>106 min</td>\n",
       "      <td>Action-Adventure, Comedy, Family</td>\n",
       "      <td>Larry Daley returns to rescue some old friends...</td>\n",
       "      <td>disney</td>\n",
       "    </tr>\n",
       "    <tr>\n",
       "      <th>22995</th>\n",
       "      <td>s1448</td>\n",
       "      <td>Movie</td>\n",
       "      <td>Eddie the Eagle</td>\n",
       "      <td>Dexter Fletcher</td>\n",
       "      <td>Tom Costello, Jo Hartley, Keith Allen, Dickon ...</td>\n",
       "      <td>United Kingdom, Germany, United States</td>\n",
       "      <td>December 18, 2020</td>\n",
       "      <td>2016</td>\n",
       "      <td>PG-13</td>\n",
       "      <td>107 min</td>\n",
       "      <td>Biographical, Comedy, Drama</td>\n",
       "      <td>True story of Eddie Edwards, a British ski-jum...</td>\n",
       "      <td>disney</td>\n",
       "    </tr>\n",
       "    <tr>\n",
       "      <th>22996</th>\n",
       "      <td>s1449</td>\n",
       "      <td>Movie</td>\n",
       "      <td>Bend It Like Beckham</td>\n",
       "      <td>Gurinder Chadha</td>\n",
       "      <td>Parminder Nagra, Keira Knightley, Jonathan Rhy...</td>\n",
       "      <td>United Kingdom, Germany, United States</td>\n",
       "      <td>September 18, 2020</td>\n",
       "      <td>2003</td>\n",
       "      <td>PG-13</td>\n",
       "      <td>112 min</td>\n",
       "      <td>Buddy, Comedy, Coming of Age</td>\n",
       "      <td>Despite the wishes of their traditional famili...</td>\n",
       "      <td>disney</td>\n",
       "    </tr>\n",
       "    <tr>\n",
       "      <th>22997</th>\n",
       "      <td>s1450</td>\n",
       "      <td>Movie</td>\n",
       "      <td>Captain Sparky vs. The Flying Saucers</td>\n",
       "      <td>Mark Waring</td>\n",
       "      <td>Charlie Tahan</td>\n",
       "      <td>United States</td>\n",
       "      <td>April 1, 2020</td>\n",
       "      <td>2012</td>\n",
       "      <td>TV-G</td>\n",
       "      <td>2 min</td>\n",
       "      <td>Action-Adventure, Animals &amp; Nature, Animation</td>\n",
       "      <td>View one of Sparky's favorite home movies.</td>\n",
       "      <td>disney</td>\n",
       "    </tr>\n",
       "  </tbody>\n",
       "</table>\n",
       "</div>"
      ],
      "text/plain": [
       "      show_id   type                                           title  \\\n",
       "22993   s1446  Movie                        X-Men Origins: Wolverine   \n",
       "22994   s1447  Movie  Night at the Museum: Battle of the Smithsonian   \n",
       "22995   s1448  Movie                                 Eddie the Eagle   \n",
       "22996   s1449  Movie                            Bend It Like Beckham   \n",
       "22997   s1450  Movie           Captain Sparky vs. The Flying Saucers   \n",
       "\n",
       "              director                                               cast  \\\n",
       "22993       Gavin Hood  Hugh Jackman, Liev Schreiber, Danny Huston, wi...   \n",
       "22994       Shawn Levy  Ben Stiller, Amy Adams, Owen Wilson, Hank Azar...   \n",
       "22995  Dexter Fletcher  Tom Costello, Jo Hartley, Keith Allen, Dickon ...   \n",
       "22996  Gurinder Chadha  Parminder Nagra, Keira Knightley, Jonathan Rhy...   \n",
       "22997      Mark Waring                                      Charlie Tahan   \n",
       "\n",
       "                                      country          date_added  \\\n",
       "22993           United States, United Kingdom        June 4, 2021   \n",
       "22994                   United States, Canada       April 2, 2021   \n",
       "22995  United Kingdom, Germany, United States   December 18, 2020   \n",
       "22996  United Kingdom, Germany, United States  September 18, 2020   \n",
       "22997                           United States       April 1, 2020   \n",
       "\n",
       "       release_year rating duration  \\\n",
       "22993          2009  PG-13  108 min   \n",
       "22994          2009     PG  106 min   \n",
       "22995          2016  PG-13  107 min   \n",
       "22996          2003  PG-13  112 min   \n",
       "22997          2012   TV-G    2 min   \n",
       "\n",
       "                                           listed_in  \\\n",
       "22993      Action-Adventure, Family, Science Fiction   \n",
       "22994               Action-Adventure, Comedy, Family   \n",
       "22995                    Biographical, Comedy, Drama   \n",
       "22996                   Buddy, Comedy, Coming of Age   \n",
       "22997  Action-Adventure, Animals & Nature, Animation   \n",
       "\n",
       "                                             description plataforma  \n",
       "22993  Wolverine unites with legendary X-Men to fight...     disney  \n",
       "22994  Larry Daley returns to rescue some old friends...     disney  \n",
       "22995  True story of Eddie Edwards, a British ski-jum...     disney  \n",
       "22996  Despite the wishes of their traditional famili...     disney  \n",
       "22997         View one of Sparky's favorite home movies.     disney  "
      ]
     },
     "metadata": {},
     "output_type": "display_data"
    }
   ],
   "source": [
    "df.tail(5)"
   ]
  },
  {
   "cell_type": "markdown",
   "id": "aef368fa",
   "metadata": {},
   "source": [
    "## Renombramos las columnas para que estén en español y sean más intuitivos:"
   ]
  },
  {
   "cell_type": "code",
   "execution_count": 56,
   "id": "b848eeee",
   "metadata": {},
   "outputs": [],
   "source": [
    "\n",
    "df.columns = ['show_id', 'tipo', 'titulo', 'director', 'elenco', \n",
    "                  'pais', 'fecha_agregado', 'anio', 'clasificacion', 'duracion', \n",
    "                 'listado_en', 'descripcion', 'plataforma']"
   ]
  },
  {
   "cell_type": "code",
   "execution_count": 57,
   "id": "050c7d6e",
   "metadata": {},
   "outputs": [
    {
     "name": "stdout",
     "output_type": "stream",
     "text": [
      "Index(['show_id', 'tipo', 'titulo', 'director', 'elenco', 'pais',\n",
      "       'fecha_agregado', 'anio', 'clasificacion', 'duracion', 'listado_en',\n",
      "       'descripcion', 'plataforma'],\n",
      "      dtype='object')\n"
     ]
    }
   ],
   "source": [
    "# chequeamos que los nombres cambiaron\n",
    "print(df.columns)"
   ]
  },
  {
   "cell_type": "code",
   "execution_count": 58,
   "id": "0a7103cb",
   "metadata": {},
   "outputs": [
    {
     "data": {
      "text/html": [
       "<div>\n",
       "<style scoped>\n",
       "    .dataframe tbody tr th:only-of-type {\n",
       "        vertical-align: middle;\n",
       "    }\n",
       "\n",
       "    .dataframe tbody tr th {\n",
       "        vertical-align: top;\n",
       "    }\n",
       "\n",
       "    .dataframe thead th {\n",
       "        text-align: right;\n",
       "    }\n",
       "</style>\n",
       "<table border=\"1\" class=\"dataframe\">\n",
       "  <thead>\n",
       "    <tr style=\"text-align: right;\">\n",
       "      <th></th>\n",
       "      <th>show_id</th>\n",
       "      <th>tipo</th>\n",
       "      <th>titulo</th>\n",
       "      <th>director</th>\n",
       "      <th>elenco</th>\n",
       "      <th>pais</th>\n",
       "      <th>fecha_agregado</th>\n",
       "      <th>anio</th>\n",
       "      <th>clasificacion</th>\n",
       "      <th>duracion</th>\n",
       "      <th>listado_en</th>\n",
       "      <th>descripcion</th>\n",
       "      <th>plataforma</th>\n",
       "    </tr>\n",
       "  </thead>\n",
       "  <tbody>\n",
       "    <tr>\n",
       "      <th>0</th>\n",
       "      <td>s1</td>\n",
       "      <td>Movie</td>\n",
       "      <td>The Grand Seduction</td>\n",
       "      <td>Don McKellar</td>\n",
       "      <td>Brendan Gleeson, Taylor Kitsch, Gordon Pinsent</td>\n",
       "      <td>Canada</td>\n",
       "      <td>March 30, 2021</td>\n",
       "      <td>2014</td>\n",
       "      <td>NaN</td>\n",
       "      <td>113 min</td>\n",
       "      <td>Comedy, Drama</td>\n",
       "      <td>A small fishing village must procure a local d...</td>\n",
       "      <td>amazon</td>\n",
       "    </tr>\n",
       "    <tr>\n",
       "      <th>1</th>\n",
       "      <td>s2</td>\n",
       "      <td>Movie</td>\n",
       "      <td>Take Care Good Night</td>\n",
       "      <td>Girish Joshi</td>\n",
       "      <td>Mahesh Manjrekar, Abhay Mahajan, Sachin Khedekar</td>\n",
       "      <td>India</td>\n",
       "      <td>March 30, 2021</td>\n",
       "      <td>2018</td>\n",
       "      <td>13+</td>\n",
       "      <td>110 min</td>\n",
       "      <td>Drama, International</td>\n",
       "      <td>A Metro Family decides to fight a Cyber Crimin...</td>\n",
       "      <td>amazon</td>\n",
       "    </tr>\n",
       "    <tr>\n",
       "      <th>2</th>\n",
       "      <td>s3</td>\n",
       "      <td>Movie</td>\n",
       "      <td>Secrets of Deception</td>\n",
       "      <td>Josh Webber</td>\n",
       "      <td>Tom Sizemore, Lorenzo Lamas, Robert LaSardo, R...</td>\n",
       "      <td>United States</td>\n",
       "      <td>March 30, 2021</td>\n",
       "      <td>2017</td>\n",
       "      <td>NaN</td>\n",
       "      <td>74 min</td>\n",
       "      <td>Action, Drama, Suspense</td>\n",
       "      <td>After a man discovers his wife is cheating on ...</td>\n",
       "      <td>amazon</td>\n",
       "    </tr>\n",
       "    <tr>\n",
       "      <th>3</th>\n",
       "      <td>s4</td>\n",
       "      <td>Movie</td>\n",
       "      <td>Pink: Staying True</td>\n",
       "      <td>Sonia Anderson</td>\n",
       "      <td>Interviews with: Pink, Adele, Beyoncé, Britney...</td>\n",
       "      <td>United States</td>\n",
       "      <td>March 30, 2021</td>\n",
       "      <td>2014</td>\n",
       "      <td>NaN</td>\n",
       "      <td>69 min</td>\n",
       "      <td>Documentary</td>\n",
       "      <td>Pink breaks the mold once again, bringing her ...</td>\n",
       "      <td>amazon</td>\n",
       "    </tr>\n",
       "    <tr>\n",
       "      <th>4</th>\n",
       "      <td>s5</td>\n",
       "      <td>Movie</td>\n",
       "      <td>Monster Maker</td>\n",
       "      <td>Giles Foster</td>\n",
       "      <td>Harry Dean Stanton, Kieran O'Brien, George Cos...</td>\n",
       "      <td>United Kingdom</td>\n",
       "      <td>March 30, 2021</td>\n",
       "      <td>1989</td>\n",
       "      <td>NaN</td>\n",
       "      <td>45 min</td>\n",
       "      <td>Drama, Fantasy</td>\n",
       "      <td>Teenage Matt Banting wants to work with a famo...</td>\n",
       "      <td>amazon</td>\n",
       "    </tr>\n",
       "    <tr>\n",
       "      <th>5</th>\n",
       "      <td>s6</td>\n",
       "      <td>Movie</td>\n",
       "      <td>Living With Dinosaurs</td>\n",
       "      <td>Paul Weiland</td>\n",
       "      <td>Gregory Chisholm, Juliet Stevenson, Brian Hens...</td>\n",
       "      <td>United Kingdom</td>\n",
       "      <td>March 30, 2021</td>\n",
       "      <td>1989</td>\n",
       "      <td>NaN</td>\n",
       "      <td>52 min</td>\n",
       "      <td>Fantasy, Kids</td>\n",
       "      <td>The story unfolds in a an English seaside town...</td>\n",
       "      <td>amazon</td>\n",
       "    </tr>\n",
       "    <tr>\n",
       "      <th>6</th>\n",
       "      <td>s7</td>\n",
       "      <td>Movie</td>\n",
       "      <td>Hired Gun</td>\n",
       "      <td>Fran Strine</td>\n",
       "      <td>Alice Cooper, Liberty DeVitto, Ray Parker Jr.,...</td>\n",
       "      <td>United States</td>\n",
       "      <td>March 30, 2021</td>\n",
       "      <td>2017</td>\n",
       "      <td>NaN</td>\n",
       "      <td>98 min</td>\n",
       "      <td>Documentary, Special Interest</td>\n",
       "      <td>They are the \"First Call, A-list\" musicians, j...</td>\n",
       "      <td>amazon</td>\n",
       "    </tr>\n",
       "    <tr>\n",
       "      <th>7</th>\n",
       "      <td>s8</td>\n",
       "      <td>Movie</td>\n",
       "      <td>Grease Live!</td>\n",
       "      <td>Thomas Kail, Alex Rudzinski</td>\n",
       "      <td>Julianne Hough, Aaron Tveit, Vanessa Hudgens, ...</td>\n",
       "      <td>United States</td>\n",
       "      <td>March 30, 2021</td>\n",
       "      <td>2016</td>\n",
       "      <td>NaN</td>\n",
       "      <td>131 min</td>\n",
       "      <td>Comedy</td>\n",
       "      <td>This honest, uncompromising comedy chronicles ...</td>\n",
       "      <td>amazon</td>\n",
       "    </tr>\n",
       "    <tr>\n",
       "      <th>8</th>\n",
       "      <td>s9</td>\n",
       "      <td>Movie</td>\n",
       "      <td>Global Meltdown</td>\n",
       "      <td>Daniel Gilboy</td>\n",
       "      <td>Michael Paré, Leanne Khol Young, Patrick J. Ma...</td>\n",
       "      <td>Canada</td>\n",
       "      <td>March 30, 2021</td>\n",
       "      <td>2017</td>\n",
       "      <td>NaN</td>\n",
       "      <td>87 min</td>\n",
       "      <td>Action, Science Fiction, Suspense</td>\n",
       "      <td>A helicopter pilot and an environmental scient...</td>\n",
       "      <td>amazon</td>\n",
       "    </tr>\n",
       "    <tr>\n",
       "      <th>9</th>\n",
       "      <td>s10</td>\n",
       "      <td>Movie</td>\n",
       "      <td>David's Mother</td>\n",
       "      <td>Robert Allan Ackerman</td>\n",
       "      <td>Kirstie Alley, Sam Waterston, Stockard Channing</td>\n",
       "      <td>United States</td>\n",
       "      <td>April 1, 2021</td>\n",
       "      <td>1994</td>\n",
       "      <td>NaN</td>\n",
       "      <td>92 min</td>\n",
       "      <td>Drama</td>\n",
       "      <td>Sally Goodson is a devoted mother to her autis...</td>\n",
       "      <td>amazon</td>\n",
       "    </tr>\n",
       "  </tbody>\n",
       "</table>\n",
       "</div>"
      ],
      "text/plain": [
       "  show_id   tipo                 titulo                     director  \\\n",
       "0      s1  Movie    The Grand Seduction                 Don McKellar   \n",
       "1      s2  Movie   Take Care Good Night                 Girish Joshi   \n",
       "2      s3  Movie   Secrets of Deception                  Josh Webber   \n",
       "3      s4  Movie     Pink: Staying True               Sonia Anderson   \n",
       "4      s5  Movie          Monster Maker                 Giles Foster   \n",
       "5      s6  Movie  Living With Dinosaurs                 Paul Weiland   \n",
       "6      s7  Movie              Hired Gun                  Fran Strine   \n",
       "7      s8  Movie           Grease Live!  Thomas Kail, Alex Rudzinski   \n",
       "8      s9  Movie        Global Meltdown                Daniel Gilboy   \n",
       "9     s10  Movie         David's Mother        Robert Allan Ackerman   \n",
       "\n",
       "                                              elenco            pais  \\\n",
       "0     Brendan Gleeson, Taylor Kitsch, Gordon Pinsent          Canada   \n",
       "1   Mahesh Manjrekar, Abhay Mahajan, Sachin Khedekar           India   \n",
       "2  Tom Sizemore, Lorenzo Lamas, Robert LaSardo, R...   United States   \n",
       "3  Interviews with: Pink, Adele, Beyoncé, Britney...   United States   \n",
       "4  Harry Dean Stanton, Kieran O'Brien, George Cos...  United Kingdom   \n",
       "5  Gregory Chisholm, Juliet Stevenson, Brian Hens...  United Kingdom   \n",
       "6  Alice Cooper, Liberty DeVitto, Ray Parker Jr.,...   United States   \n",
       "7  Julianne Hough, Aaron Tveit, Vanessa Hudgens, ...   United States   \n",
       "8  Michael Paré, Leanne Khol Young, Patrick J. Ma...          Canada   \n",
       "9    Kirstie Alley, Sam Waterston, Stockard Channing   United States   \n",
       "\n",
       "   fecha_agregado  anio clasificacion duracion  \\\n",
       "0  March 30, 2021  2014           NaN  113 min   \n",
       "1  March 30, 2021  2018           13+  110 min   \n",
       "2  March 30, 2021  2017           NaN   74 min   \n",
       "3  March 30, 2021  2014           NaN   69 min   \n",
       "4  March 30, 2021  1989           NaN   45 min   \n",
       "5  March 30, 2021  1989           NaN   52 min   \n",
       "6  March 30, 2021  2017           NaN   98 min   \n",
       "7  March 30, 2021  2016           NaN  131 min   \n",
       "8  March 30, 2021  2017           NaN   87 min   \n",
       "9   April 1, 2021  1994           NaN   92 min   \n",
       "\n",
       "                          listado_en  \\\n",
       "0                      Comedy, Drama   \n",
       "1               Drama, International   \n",
       "2            Action, Drama, Suspense   \n",
       "3                        Documentary   \n",
       "4                     Drama, Fantasy   \n",
       "5                      Fantasy, Kids   \n",
       "6      Documentary, Special Interest   \n",
       "7                             Comedy   \n",
       "8  Action, Science Fiction, Suspense   \n",
       "9                              Drama   \n",
       "\n",
       "                                         descripcion plataforma  \n",
       "0  A small fishing village must procure a local d...     amazon  \n",
       "1  A Metro Family decides to fight a Cyber Crimin...     amazon  \n",
       "2  After a man discovers his wife is cheating on ...     amazon  \n",
       "3  Pink breaks the mold once again, bringing her ...     amazon  \n",
       "4  Teenage Matt Banting wants to work with a famo...     amazon  \n",
       "5  The story unfolds in a an English seaside town...     amazon  \n",
       "6  They are the \"First Call, A-list\" musicians, j...     amazon  \n",
       "7  This honest, uncompromising comedy chronicles ...     amazon  \n",
       "8  A helicopter pilot and an environmental scient...     amazon  \n",
       "9  Sally Goodson is a devoted mother to her autis...     amazon  "
      ]
     },
     "execution_count": 58,
     "metadata": {},
     "output_type": "execute_result"
    }
   ],
   "source": [
    "# vemos las primeras filas del dataset\n",
    "df.head(10)"
   ]
  },
  {
   "cell_type": "markdown",
   "id": "44d4ab06",
   "metadata": {},
   "source": [
    "### Las columnas contienen los siguientes datos:\n",
    "- **show_id:** identificador único de cada serie o película\n",
    "- **tipo:** indica si se trata de una serie (\"TV Show\") o de una película (\"Movie\")\n",
    "- **titulo**\n",
    "- **director**\n",
    "- **elenco:** lista separada por comas de los nombres del elenco\n",
    "- **pais:** país de producción\n",
    "- **fecha_agregado:** fecha en que se agregó a la plataforma\n",
    "- **anio:** año de producción\n",
    "- **calificacion:** edad mínima o público recomendado\n",
    "- **duracion:** duración en minutos para películas, en temporadas para series </br>\n",
    "        - *Procesamiento necesario:* eliminar las palabras \"min\"/\"season\" y convertir a integer\n",
    "- **listado_en:** géneros en los cuales aparece listada la serie o película en la plataforma. </br>\n",
    "       - *Procesamiento necesario:* Valores separados por comas, hay que separar en columnas tipo dummies. Cada producto aparece listado en al menos una categoría/género, pero la cantidad total es variable. \n",
    "- **descripcion:** una descripción en inglés de la trama de la serie o película"
   ]
  },
  {
   "cell_type": "markdown",
   "id": "7f8092f9",
   "metadata": {},
   "source": [
    "### Decidimos no incluir el dataset de hulu ya que no es una plataforma de uso en Argentina.\n",
    "    "
   ]
  },
  {
   "cell_type": "code",
   "execution_count": 59,
   "id": "9a8006e1",
   "metadata": {},
   "outputs": [],
   "source": [
    "# eliminamos el dataset de hulu\n",
    "df = df[df['plataforma'] != 'hulu']"
   ]
  },
  {
   "cell_type": "markdown",
   "id": "7623b772",
   "metadata": {},
   "source": [
    "# Análisis del dataset: Plataformas Netflix, Amazon Primer y Disney+ "
   ]
  },
  {
   "cell_type": "markdown",
   "id": "7b2d1ce0",
   "metadata": {},
   "source": [
    "¿Cuántas películas y cuántas series hay en las plataformas?"
   ]
  },
  {
   "cell_type": "code",
   "execution_count": 60,
   "id": "5b3c82f8",
   "metadata": {},
   "outputs": [
    {
     "name": "stdout",
     "output_type": "stream",
     "text": [
      "Hay 14997 películas y 4928 series\n"
     ]
    }
   ],
   "source": [
    "# Contar la cantidad de filas por tipo\n",
    "contar_tipo = df['tipo'].value_counts()\n",
    "print(f\"Hay {contar_tipo[0]} películas y {contar_tipo[1]} series\")\n"
   ]
  },
  {
   "cell_type": "markdown",
   "id": "a23ec66d",
   "metadata": {},
   "source": [
    "## Filtramos para quedarnos sólo las películas"
   ]
  },
  {
   "cell_type": "code",
   "execution_count": 61,
   "id": "4737bb0c",
   "metadata": {},
   "outputs": [
    {
     "data": {
      "text/plain": [
       "(14997, 13)"
      ]
     },
     "execution_count": 61,
     "metadata": {},
     "output_type": "execute_result"
    }
   ],
   "source": [
    "# Armo un nuevo dataframe filtrando por el valor de la columna tipo\n",
    "df = df[df['tipo'] == \"Movie\"]\n",
    "df.shape ## chequeo la cantidad de filas"
   ]
  },
  {
   "cell_type": "markdown",
   "id": "b10d55e9",
   "metadata": {},
   "source": [
    "## Análisis de datos faltantes"
   ]
  },
  {
   "cell_type": "code",
   "execution_count": 62,
   "id": "3c08db09",
   "metadata": {},
   "outputs": [
    {
     "data": {
      "text/plain": [
       "fecha_agregado    7798\n",
       "pais              7791\n",
       "elenco            1358\n",
       "director           492\n",
       "clasificacion      334\n",
       "duracion             3\n",
       "show_id              0\n",
       "tipo                 0\n",
       "titulo               0\n",
       "anio                 0\n",
       "listado_en           0\n",
       "descripcion          0\n",
       "plataforma           0\n",
       "dtype: int64"
      ]
     },
     "execution_count": 62,
     "metadata": {},
     "output_type": "execute_result"
    }
   ],
   "source": [
    "# Vemos cuántos valores faltantes tiene cada columna:\n",
    "missing_values = df.isnull().sum().sort_values(ascending = False) # contabiliza\n",
    "        # datos faltantes y los ordena de mayor a menor\n",
    "        # según la columna\n",
    "missing_values"
   ]
  },
  {
   "cell_type": "code",
   "execution_count": 63,
   "id": "6cbe89e5",
   "metadata": {},
   "outputs": [
    {
     "data": {
      "image/png": "[encoded data removed]",
      "text/plain": [
       "<Figure size 1000x600 with 1 Axes>"
      ]
     },
     "metadata": {},
     "output_type": "display_data"
    }
   ],
   "source": [
    "# visualización de valores faltantes\n",
    "plt.figure(figsize=(10, 6))\n",
    "sns.heatmap(df.isnull(), cmap='viridis', cbar=False)\n",
    "plt.title('Valores Faltantes en el DataFrame')\n",
    "plt.show()"
   ]
  },
  {
   "cell_type": "code",
   "execution_count": 64,
   "id": "abeba499",
   "metadata": {},
   "outputs": [
    {
     "name": "stdout",
     "output_type": "stream",
     "text": [
      "plataforma      amazon  disney  netflix\n",
      "show_id              0       0        0\n",
      "tipo                 0       0        0\n",
      "titulo               0       0        0\n",
      "director           229      75      188\n",
      "elenco             764     119      475\n",
      "pais              7245     106      440\n",
      "fecha_agregado    7798       0        0\n",
      "anio                 0       0        0\n",
      "clasificacion      331       1        2\n",
      "duracion             0       0        3\n",
      "listado_en           0       0        0\n",
      "descripcion          0       0        0\n",
      "plataforma           0       0        0\n"
     ]
    }
   ],
   "source": [
    "\n",
    "# Agrupa los datos por los valores de la columna \"plataforma\" y calcula la suma de valores faltantes por columna en cada grupo\n",
    "missing_values_por_plataforma = df.groupby('plataforma').apply(lambda x: x.isnull().sum()).T\n",
    "\n",
    "# Muestra los valores faltantes por columna agrupados por \"plataforma\"\n",
    "print(missing_values_por_plataforma)"
   ]
  },
  {
   "cell_type": "markdown",
   "id": "c691912c",
   "metadata": {},
   "source": [
    "Vemos que la columna fecha_agregada son casi todos datos faltantes para la paltaforma amazon. Lo mismo pasa con la columna país. Estos no van a ser elementos útiles para la recomendación. </br>\n",
    "Las columnas más importantes para el sistema de recomendación (título, descripcion, calificacion, elenco, listado_en) no tienen datos faltantes, asíque podemos trabajar con ellas sin problema. "
   ]
  },
  {
   "cell_type": "code",
   "execution_count": 65,
   "id": "48d9b952",
   "metadata": {},
   "outputs": [],
   "source": [
    "# eliminamos columnas que no serán utilizadas\n",
    "df = df.drop(columns=['fecha_agregado', 'pais', 'tipo'])"
   ]
  },
  {
   "cell_type": "markdown",
   "id": "57023388",
   "metadata": {},
   "source": [
    "### Guardamos el dataset en csv, listo para continuar con su procesamiento en la notebook correspondiente. "
   ]
  },
  {
   "cell_type": "code",
   "execution_count": 66,
   "id": "6a8f7d49",
   "metadata": {},
   "outputs": [],
   "source": [
    "df.to_csv('..\\\\datasets\\\\peliculas1.csv', index=False)"
   ]
  }
 ],
 "metadata": {
  "kernelspec": {
   "display_name": "Python 3 (ipykernel)",
   "language": "python",
   "name": "python3"
  },
  "language_info": {
   "codemirror_mode": {
    "name": "ipython",
    "version": 3
   },
   "file_extension": ".py",
   "mimetype": "text/x-python",
   "name": "python",
   "nbconvert_exporter": "python",
   "pygments_lexer": "ipython3",
   "version": "3.10.13"
  }
 },
 "nbformat": 4,
 "nbformat_minor": 5
}
