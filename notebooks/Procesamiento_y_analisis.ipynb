{
 "cells": [
  {
   "cell_type": "markdown",
   "id": "f21bc51f",
   "metadata": {},
   "source": [
    "# Análisis Exploratorio y Procesamiento de Datos "
   ]
  },
  {
   "cell_type": "markdown",
   "id": "ab88839a",
   "metadata": {},
   "source": [
    "## Importación de datasets y librerías"
   ]
  },
  {
   "cell_type": "code",
   "execution_count": 2,
   "id": "243bccdf",
   "metadata": {},
   "outputs": [],
   "source": [
    "import pandas as pd\n",
    "import numpy as np"
   ]
  },
  {
   "cell_type": "code",
   "execution_count": 1,
   "id": "4b5c0d5e",
   "metadata": {},
   "outputs": [],
   "source": [
    "import matplotlib.pyplot as plt\n",
    "import seaborn as sns"
   ]
  },
  {
   "cell_type": "code",
   "execution_count": 5,
   "id": "cf15208d",
   "metadata": {},
   "outputs": [
    {
     "data": {
      "text/plain": [
       "'d:\\\\Luna\\\\Documents\\\\Repositorios\\\\IngeniasDataScience\\\\notebooks'"
      ]
     },
     "execution_count": 5,
     "metadata": {},
     "output_type": "execute_result"
    }
   ],
   "source": [
    "## chequeamos el working directory\n",
    "%pwd"
   ]
  },
  {
   "cell_type": "code",
   "execution_count": 4,
   "id": "998a8cdd",
   "metadata": {},
   "outputs": [],
   "source": [
    "# importamos el dataset en una varialbe llamada amazon\n",
    "amazon = pd.read_csv('..\\\\datasets\\\\amazon_prime_titles.csv')\n",
    "hulu = pd.read_csv('..\\\\datasets\\\\hulu_titles.csv')\n",
    "disney = pd.read_csv('..\\\\datasets\\\\disney_plus_titles.csv')\n",
    "netflix = pd.read_csv('..\\\\datasets\\\\netflix_titles.csv')"
   ]
  },
  {
   "cell_type": "code",
   "execution_count": 7,
   "id": "79fe262d",
   "metadata": {
    "scrolled": true
   },
   "outputs": [
    {
     "data": {
      "text/plain": [
       "'El dataset tiene 9668 filas y 12 columnas'"
      ]
     },
     "execution_count": 7,
     "metadata": {},
     "output_type": "execute_result"
    }
   ],
   "source": [
    "## vemos la forma del dataset\n",
    "forma_amazon = amazon.shape\n",
    "\n",
    "f\"El dataset tiene {forma_amazon[0]} filas y {forma_amazon[1]} columnas\""
   ]
  },
  {
   "cell_type": "code",
   "execution_count": 5,
   "id": "c4f379f9",
   "metadata": {
    "scrolled": true
   },
   "outputs": [
    {
     "data": {
      "text/plain": [
       "'El dataset tiene 3073 filas y 12 columnas'"
      ]
     },
     "execution_count": 5,
     "metadata": {},
     "output_type": "execute_result"
    }
   ],
   "source": [
    "## vemos la forma del dataset\n",
    "forma_hulu = hulu.shape\n",
    "f\"El dataset tiene {forma_hulu[0]} filas y {forma_hulu[1]} columnas\""
   ]
  },
  {
   "cell_type": "code",
   "execution_count": 6,
   "id": "33348a7e",
   "metadata": {},
   "outputs": [
    {
     "data": {
      "text/plain": [
       "'El dataset tiene 1450 filas y 12 columnas'"
      ]
     },
     "execution_count": 6,
     "metadata": {},
     "output_type": "execute_result"
    }
   ],
   "source": [
    "forma_disney = disney.shape\n",
    "f\"El dataset tiene {forma_disney[0]} filas y {forma_disney[1]} columnas\""
   ]
  },
  {
   "cell_type": "code",
   "execution_count": 7,
   "id": "18420e6a",
   "metadata": {},
   "outputs": [
    {
     "data": {
      "text/plain": [
       "'El dataset tiene 8807 filas y 12 columnas'"
      ]
     },
     "execution_count": 7,
     "metadata": {},
     "output_type": "execute_result"
    }
   ],
   "source": [
    "forma_netflix = netflix.shape\n",
    "f\"El dataset tiene {forma_netflix[0]} filas y {forma_netflix[1]} columnas\""
   ]
  },
  {
   "cell_type": "code",
   "execution_count": 8,
   "id": "aa755fa6",
   "metadata": {},
   "outputs": [
    {
     "data": {
      "text/html": [
       "<div>\n",
       "<style scoped>\n",
       "    .dataframe tbody tr th:only-of-type {\n",
       "        vertical-align: middle;\n",
       "    }\n",
       "\n",
       "    .dataframe tbody tr th {\n",
       "        vertical-align: top;\n",
       "    }\n",
       "\n",
       "    .dataframe thead th {\n",
       "        text-align: right;\n",
       "    }\n",
       "</style>\n",
       "<table border=\"1\" class=\"dataframe\">\n",
       "  <thead>\n",
       "    <tr style=\"text-align: right;\">\n",
       "      <th></th>\n",
       "      <th>Dataset</th>\n",
       "      <th>Filas</th>\n",
       "      <th>Columnas</th>\n",
       "    </tr>\n",
       "  </thead>\n",
       "  <tbody>\n",
       "    <tr>\n",
       "      <th>0</th>\n",
       "      <td>Amazon</td>\n",
       "      <td>9668</td>\n",
       "      <td>12</td>\n",
       "    </tr>\n",
       "    <tr>\n",
       "      <th>1</th>\n",
       "      <td>Hulu</td>\n",
       "      <td>3073</td>\n",
       "      <td>12</td>\n",
       "    </tr>\n",
       "    <tr>\n",
       "      <th>2</th>\n",
       "      <td>Netflix</td>\n",
       "      <td>8807</td>\n",
       "      <td>12</td>\n",
       "    </tr>\n",
       "    <tr>\n",
       "      <th>3</th>\n",
       "      <td>Disney</td>\n",
       "      <td>1450</td>\n",
       "      <td>12</td>\n",
       "    </tr>\n",
       "  </tbody>\n",
       "</table>\n",
       "</div>"
      ],
      "text/plain": [
       "   Dataset  Filas  Columnas\n",
       "0   Amazon   9668        12\n",
       "1     Hulu   3073        12\n",
       "2  Netflix   8807        12\n",
       "3   Disney   1450        12"
      ]
     },
     "execution_count": 8,
     "metadata": {},
     "output_type": "execute_result"
    }
   ],
   "source": [
    "forma_df = pd.DataFrame({\n",
    "    'Dataset': ['Amazon', 'Hulu', 'Netflix', 'Disney'],\n",
    "    'Filas': [amazon.shape[0], hulu.shape[0], netflix.shape[0], disney.shape[0]],\n",
    "    'Columnas': [amazon.shape[1], hulu.shape[1], netflix.shape[1], disney.shape[1]]\n",
    "})\n",
    "\n",
    "forma_df"
   ]
  },
  {
   "cell_type": "code",
   "execution_count": 9,
   "id": "9cd09f9e",
   "metadata": {},
   "outputs": [
    {
     "data": {
      "text/html": [
       "<div>\n",
       "<style scoped>\n",
       "    .dataframe tbody tr th:only-of-type {\n",
       "        vertical-align: middle;\n",
       "    }\n",
       "\n",
       "    .dataframe tbody tr th {\n",
       "        vertical-align: top;\n",
       "    }\n",
       "\n",
       "    .dataframe thead th {\n",
       "        text-align: right;\n",
       "    }\n",
       "</style>\n",
       "<table border=\"1\" class=\"dataframe\">\n",
       "  <thead>\n",
       "    <tr style=\"text-align: right;\">\n",
       "      <th></th>\n",
       "      <th>show_id</th>\n",
       "      <th>type</th>\n",
       "      <th>title</th>\n",
       "      <th>director</th>\n",
       "      <th>cast</th>\n",
       "      <th>country</th>\n",
       "      <th>date_added</th>\n",
       "      <th>release_year</th>\n",
       "      <th>rating</th>\n",
       "      <th>duration</th>\n",
       "      <th>listed_in</th>\n",
       "      <th>description</th>\n",
       "    </tr>\n",
       "  </thead>\n",
       "  <tbody>\n",
       "    <tr>\n",
       "      <th>3068</th>\n",
       "      <td>s3069</td>\n",
       "      <td>TV Show</td>\n",
       "      <td>Star Trek: The Original Series</td>\n",
       "      <td>NaN</td>\n",
       "      <td>NaN</td>\n",
       "      <td>United States</td>\n",
       "      <td>NaN</td>\n",
       "      <td>1966</td>\n",
       "      <td>TV-PG</td>\n",
       "      <td>3 Seasons</td>\n",
       "      <td>Action, Adventure, Classics</td>\n",
       "      <td>The 23rd century adventures of Captain James T...</td>\n",
       "    </tr>\n",
       "    <tr>\n",
       "      <th>3069</th>\n",
       "      <td>s3070</td>\n",
       "      <td>TV Show</td>\n",
       "      <td>Star Trek: Voyager</td>\n",
       "      <td>NaN</td>\n",
       "      <td>NaN</td>\n",
       "      <td>United States</td>\n",
       "      <td>NaN</td>\n",
       "      <td>1997</td>\n",
       "      <td>TV-PG</td>\n",
       "      <td>7 Seasons</td>\n",
       "      <td>Action, Adventure, Science Fiction</td>\n",
       "      <td>Catapulted into the distant sector of the gala...</td>\n",
       "    </tr>\n",
       "    <tr>\n",
       "      <th>3070</th>\n",
       "      <td>s3071</td>\n",
       "      <td>TV Show</td>\n",
       "      <td>The Fades</td>\n",
       "      <td>NaN</td>\n",
       "      <td>NaN</td>\n",
       "      <td>United Kingdom</td>\n",
       "      <td>NaN</td>\n",
       "      <td>2011</td>\n",
       "      <td>TV-14</td>\n",
       "      <td>1 Season</td>\n",
       "      <td>Horror, International, Science Fiction</td>\n",
       "      <td>Seventeen-year-old Paul is haunted by apocalyp...</td>\n",
       "    </tr>\n",
       "    <tr>\n",
       "      <th>3071</th>\n",
       "      <td>s3072</td>\n",
       "      <td>TV Show</td>\n",
       "      <td>The Twilight Zone</td>\n",
       "      <td>NaN</td>\n",
       "      <td>NaN</td>\n",
       "      <td>United States</td>\n",
       "      <td>NaN</td>\n",
       "      <td>1959</td>\n",
       "      <td>TV-PG</td>\n",
       "      <td>5 Seasons</td>\n",
       "      <td>Classics, Science Fiction, Thriller</td>\n",
       "      <td>Rod Serling's seminal anthology series focused...</td>\n",
       "    </tr>\n",
       "    <tr>\n",
       "      <th>3072</th>\n",
       "      <td>s3073</td>\n",
       "      <td>TV Show</td>\n",
       "      <td>Tokyo Magnitude 8.0</td>\n",
       "      <td>NaN</td>\n",
       "      <td>NaN</td>\n",
       "      <td>Japan</td>\n",
       "      <td>NaN</td>\n",
       "      <td>2009</td>\n",
       "      <td>TV-14</td>\n",
       "      <td>1 Season</td>\n",
       "      <td>Anime, Drama, International</td>\n",
       "      <td>The devastation is unleashed in the span of se...</td>\n",
       "    </tr>\n",
       "  </tbody>\n",
       "</table>\n",
       "</div>"
      ],
      "text/plain": [
       "     show_id     type                           title director  cast  \\\n",
       "3068   s3069  TV Show  Star Trek: The Original Series      NaN   NaN   \n",
       "3069   s3070  TV Show              Star Trek: Voyager      NaN   NaN   \n",
       "3070   s3071  TV Show                       The Fades      NaN   NaN   \n",
       "3071   s3072  TV Show               The Twilight Zone      NaN   NaN   \n",
       "3072   s3073  TV Show             Tokyo Magnitude 8.0      NaN   NaN   \n",
       "\n",
       "             country date_added  release_year rating   duration  \\\n",
       "3068   United States        NaN          1966  TV-PG  3 Seasons   \n",
       "3069   United States        NaN          1997  TV-PG  7 Seasons   \n",
       "3070  United Kingdom        NaN          2011  TV-14   1 Season   \n",
       "3071   United States        NaN          1959  TV-PG  5 Seasons   \n",
       "3072           Japan        NaN          2009  TV-14   1 Season   \n",
       "\n",
       "                                   listed_in  \\\n",
       "3068             Action, Adventure, Classics   \n",
       "3069      Action, Adventure, Science Fiction   \n",
       "3070  Horror, International, Science Fiction   \n",
       "3071     Classics, Science Fiction, Thriller   \n",
       "3072             Anime, Drama, International   \n",
       "\n",
       "                                            description  \n",
       "3068  The 23rd century adventures of Captain James T...  \n",
       "3069  Catapulted into the distant sector of the gala...  \n",
       "3070  Seventeen-year-old Paul is haunted by apocalyp...  \n",
       "3071  Rod Serling's seminal anthology series focused...  \n",
       "3072  The devastation is unleashed in the span of se...  "
      ]
     },
     "execution_count": 9,
     "metadata": {},
     "output_type": "execute_result"
    }
   ],
   "source": [
    "hulu.tail(5)"
   ]
  },
  {
   "cell_type": "markdown",
   "id": "807dc425",
   "metadata": {},
   "source": [
    "## Concatenación de datasets"
   ]
  },
  {
   "cell_type": "markdown",
   "id": "1bc0f31e",
   "metadata": {},
   "source": [
    "Primero verificamos que los 4 datasets tengan las mismas columnas"
   ]
  },
  {
   "cell_type": "code",
   "execution_count": 11,
   "id": "de6e4582",
   "metadata": {
    "scrolled": false
   },
   "outputs": [
    {
     "name": "stdout",
     "output_type": "stream",
     "text": [
      "Index(['show_id', 'type', 'title', 'director', 'cast', 'country', 'date_added',\n",
      "       'release_year', 'rating', 'duration', 'listed_in', 'description'],\n",
      "      dtype='object')\n",
      "Index(['show_id', 'type', 'title', 'director', 'cast', 'country', 'date_added',\n",
      "       'release_year', 'rating', 'duration', 'listed_in', 'description'],\n",
      "      dtype='object')\n",
      "Index(['show_id', 'type', 'title', 'director', 'cast', 'country', 'date_added',\n",
      "       'release_year', 'rating', 'duration', 'listed_in', 'description'],\n",
      "      dtype='object')\n",
      "Index(['show_id', 'type', 'title', 'director', 'cast', 'country', 'date_added',\n",
      "       'release_year', 'rating', 'duration', 'listed_in', 'description'],\n",
      "      dtype='object')\n"
     ]
    }
   ],
   "source": [
    "# vemos los nombres de las columnas\n",
    "print(amazon.columns)\n",
    "print(disney.columns)\n",
    "print(hulu.columns)\n",
    "print(netflix.columns)"
   ]
  },
  {
   "cell_type": "markdown",
   "id": "49d45238",
   "metadata": {},
   "source": [
    "Creamos una columna en cada dataset que indica la plataforma"
   ]
  },
  {
   "cell_type": "code",
   "execution_count": 12,
   "id": "9142763e",
   "metadata": {},
   "outputs": [],
   "source": [
    "amazon['plataforma'] = \"amazon\"\n",
    "hulu['plataforma'] = \"hulu\"\n",
    "disney['plataforma'] = \"disney\"\n",
    "netflix['plataforma'] = \"netflix\""
   ]
  },
  {
   "cell_type": "code",
   "execution_count": 42,
   "id": "8745902c",
   "metadata": {},
   "outputs": [],
   "source": [
    "df = pd.concat([amazon, hulu, netflix, disney], axis=0, ignore_index=True)"
   ]
  },
  {
   "cell_type": "code",
   "execution_count": 43,
   "id": "13c7b019",
   "metadata": {},
   "outputs": [
    {
     "data": {
      "text/plain": [
       "(22998, 13)"
      ]
     },
     "execution_count": 43,
     "metadata": {},
     "output_type": "execute_result"
    }
   ],
   "source": [
    "df.shape"
   ]
  },
  {
   "cell_type": "code",
   "execution_count": 44,
   "id": "731e4014",
   "metadata": {},
   "outputs": [
    {
     "data": {
      "text/html": [
       "<div>\n",
       "<style scoped>\n",
       "    .dataframe tbody tr th:only-of-type {\n",
       "        vertical-align: middle;\n",
       "    }\n",
       "\n",
       "    .dataframe tbody tr th {\n",
       "        vertical-align: top;\n",
       "    }\n",
       "\n",
       "    .dataframe thead th {\n",
       "        text-align: right;\n",
       "    }\n",
       "</style>\n",
       "<table border=\"1\" class=\"dataframe\">\n",
       "  <thead>\n",
       "    <tr style=\"text-align: right;\">\n",
       "      <th></th>\n",
       "      <th>show_id</th>\n",
       "      <th>type</th>\n",
       "      <th>title</th>\n",
       "      <th>director</th>\n",
       "      <th>cast</th>\n",
       "      <th>country</th>\n",
       "      <th>date_added</th>\n",
       "      <th>release_year</th>\n",
       "      <th>rating</th>\n",
       "      <th>duration</th>\n",
       "      <th>listed_in</th>\n",
       "      <th>description</th>\n",
       "      <th>plataforma</th>\n",
       "    </tr>\n",
       "  </thead>\n",
       "  <tbody>\n",
       "    <tr>\n",
       "      <th>22993</th>\n",
       "      <td>s1446</td>\n",
       "      <td>Movie</td>\n",
       "      <td>X-Men Origins: Wolverine</td>\n",
       "      <td>Gavin Hood</td>\n",
       "      <td>Hugh Jackman, Liev Schreiber, Danny Huston, wi...</td>\n",
       "      <td>United States, United Kingdom</td>\n",
       "      <td>June 4, 2021</td>\n",
       "      <td>2009</td>\n",
       "      <td>PG-13</td>\n",
       "      <td>108 min</td>\n",
       "      <td>Action-Adventure, Family, Science Fiction</td>\n",
       "      <td>Wolverine unites with legendary X-Men to fight...</td>\n",
       "      <td>disney</td>\n",
       "    </tr>\n",
       "    <tr>\n",
       "      <th>22994</th>\n",
       "      <td>s1447</td>\n",
       "      <td>Movie</td>\n",
       "      <td>Night at the Museum: Battle of the Smithsonian</td>\n",
       "      <td>Shawn Levy</td>\n",
       "      <td>Ben Stiller, Amy Adams, Owen Wilson, Hank Azar...</td>\n",
       "      <td>United States, Canada</td>\n",
       "      <td>April 2, 2021</td>\n",
       "      <td>2009</td>\n",
       "      <td>PG</td>\n",
       "      <td>106 min</td>\n",
       "      <td>Action-Adventure, Comedy, Family</td>\n",
       "      <td>Larry Daley returns to rescue some old friends...</td>\n",
       "      <td>disney</td>\n",
       "    </tr>\n",
       "    <tr>\n",
       "      <th>22995</th>\n",
       "      <td>s1448</td>\n",
       "      <td>Movie</td>\n",
       "      <td>Eddie the Eagle</td>\n",
       "      <td>Dexter Fletcher</td>\n",
       "      <td>Tom Costello, Jo Hartley, Keith Allen, Dickon ...</td>\n",
       "      <td>United Kingdom, Germany, United States</td>\n",
       "      <td>December 18, 2020</td>\n",
       "      <td>2016</td>\n",
       "      <td>PG-13</td>\n",
       "      <td>107 min</td>\n",
       "      <td>Biographical, Comedy, Drama</td>\n",
       "      <td>True story of Eddie Edwards, a British ski-jum...</td>\n",
       "      <td>disney</td>\n",
       "    </tr>\n",
       "    <tr>\n",
       "      <th>22996</th>\n",
       "      <td>s1449</td>\n",
       "      <td>Movie</td>\n",
       "      <td>Bend It Like Beckham</td>\n",
       "      <td>Gurinder Chadha</td>\n",
       "      <td>Parminder Nagra, Keira Knightley, Jonathan Rhy...</td>\n",
       "      <td>United Kingdom, Germany, United States</td>\n",
       "      <td>September 18, 2020</td>\n",
       "      <td>2003</td>\n",
       "      <td>PG-13</td>\n",
       "      <td>112 min</td>\n",
       "      <td>Buddy, Comedy, Coming of Age</td>\n",
       "      <td>Despite the wishes of their traditional famili...</td>\n",
       "      <td>disney</td>\n",
       "    </tr>\n",
       "    <tr>\n",
       "      <th>22997</th>\n",
       "      <td>s1450</td>\n",
       "      <td>Movie</td>\n",
       "      <td>Captain Sparky vs. The Flying Saucers</td>\n",
       "      <td>Mark Waring</td>\n",
       "      <td>Charlie Tahan</td>\n",
       "      <td>United States</td>\n",
       "      <td>April 1, 2020</td>\n",
       "      <td>2012</td>\n",
       "      <td>TV-G</td>\n",
       "      <td>2 min</td>\n",
       "      <td>Action-Adventure, Animals &amp; Nature, Animation</td>\n",
       "      <td>View one of Sparky's favorite home movies.</td>\n",
       "      <td>disney</td>\n",
       "    </tr>\n",
       "  </tbody>\n",
       "</table>\n",
       "</div>"
      ],
      "text/plain": [
       "      show_id   type                                           title  \\\n",
       "22993   s1446  Movie                        X-Men Origins: Wolverine   \n",
       "22994   s1447  Movie  Night at the Museum: Battle of the Smithsonian   \n",
       "22995   s1448  Movie                                 Eddie the Eagle   \n",
       "22996   s1449  Movie                            Bend It Like Beckham   \n",
       "22997   s1450  Movie           Captain Sparky vs. The Flying Saucers   \n",
       "\n",
       "              director                                               cast  \\\n",
       "22993       Gavin Hood  Hugh Jackman, Liev Schreiber, Danny Huston, wi...   \n",
       "22994       Shawn Levy  Ben Stiller, Amy Adams, Owen Wilson, Hank Azar...   \n",
       "22995  Dexter Fletcher  Tom Costello, Jo Hartley, Keith Allen, Dickon ...   \n",
       "22996  Gurinder Chadha  Parminder Nagra, Keira Knightley, Jonathan Rhy...   \n",
       "22997      Mark Waring                                      Charlie Tahan   \n",
       "\n",
       "                                      country          date_added  \\\n",
       "22993           United States, United Kingdom        June 4, 2021   \n",
       "22994                   United States, Canada       April 2, 2021   \n",
       "22995  United Kingdom, Germany, United States   December 18, 2020   \n",
       "22996  United Kingdom, Germany, United States  September 18, 2020   \n",
       "22997                           United States       April 1, 2020   \n",
       "\n",
       "       release_year rating duration  \\\n",
       "22993          2009  PG-13  108 min   \n",
       "22994          2009     PG  106 min   \n",
       "22995          2016  PG-13  107 min   \n",
       "22996          2003  PG-13  112 min   \n",
       "22997          2012   TV-G    2 min   \n",
       "\n",
       "                                           listed_in  \\\n",
       "22993      Action-Adventure, Family, Science Fiction   \n",
       "22994               Action-Adventure, Comedy, Family   \n",
       "22995                    Biographical, Comedy, Drama   \n",
       "22996                   Buddy, Comedy, Coming of Age   \n",
       "22997  Action-Adventure, Animals & Nature, Animation   \n",
       "\n",
       "                                             description plataforma  \n",
       "22993  Wolverine unites with legendary X-Men to fight...     disney  \n",
       "22994  Larry Daley returns to rescue some old friends...     disney  \n",
       "22995  True story of Eddie Edwards, a British ski-jum...     disney  \n",
       "22996  Despite the wishes of their traditional famili...     disney  \n",
       "22997         View one of Sparky's favorite home movies.     disney  "
      ]
     },
     "execution_count": 44,
     "metadata": {},
     "output_type": "execute_result"
    }
   ],
   "source": [
    "df.tail(5)"
   ]
  },
  {
   "cell_type": "markdown",
   "id": "d7aaf5dd",
   "metadata": {},
   "source": [
    "## Renombramos las columnas para que estén en español y sean más intuitivos:"
   ]
  },
  {
   "cell_type": "code",
   "execution_count": 45,
   "id": "eeb513cd",
   "metadata": {},
   "outputs": [],
   "source": [
    "\n",
    "df.columns = ['show_id', 'tipo', 'titulo', 'director', 'elenco', \n",
    "                  'pais', 'fecha_agregado', 'anio', 'clasificacion', 'duracion', \n",
    "                 'listado_en', 'descripcion', 'plataforma']"
   ]
  },
  {
   "cell_type": "code",
   "execution_count": 46,
   "id": "1ed29cc2",
   "metadata": {},
   "outputs": [
    {
     "name": "stdout",
     "output_type": "stream",
     "text": [
      "Index(['show_id', 'tipo', 'titulo', 'director', 'elenco', 'pais',\n",
      "       'fecha_agregado', 'anio', 'clasificacion', 'duracion', 'listado_en',\n",
      "       'descripcion', 'plataforma'],\n",
      "      dtype='object')\n"
     ]
    }
   ],
   "source": [
    "# chequeamos que los nombres cambiaron\n",
    "print(df.columns)"
   ]
  },
  {
   "cell_type": "code",
   "execution_count": 47,
   "id": "de9a7cc2",
   "metadata": {
    "scrolled": true
   },
   "outputs": [
    {
     "data": {
      "text/html": [
       "<div>\n",
       "<style scoped>\n",
       "    .dataframe tbody tr th:only-of-type {\n",
       "        vertical-align: middle;\n",
       "    }\n",
       "\n",
       "    .dataframe tbody tr th {\n",
       "        vertical-align: top;\n",
       "    }\n",
       "\n",
       "    .dataframe thead th {\n",
       "        text-align: right;\n",
       "    }\n",
       "</style>\n",
       "<table border=\"1\" class=\"dataframe\">\n",
       "  <thead>\n",
       "    <tr style=\"text-align: right;\">\n",
       "      <th></th>\n",
       "      <th>show_id</th>\n",
       "      <th>tipo</th>\n",
       "      <th>titulo</th>\n",
       "      <th>director</th>\n",
       "      <th>elenco</th>\n",
       "      <th>pais</th>\n",
       "      <th>fecha_agregado</th>\n",
       "      <th>anio</th>\n",
       "      <th>clasificacion</th>\n",
       "      <th>duracion</th>\n",
       "      <th>listado_en</th>\n",
       "      <th>descripcion</th>\n",
       "      <th>plataforma</th>\n",
       "    </tr>\n",
       "  </thead>\n",
       "  <tbody>\n",
       "    <tr>\n",
       "      <th>0</th>\n",
       "      <td>s1</td>\n",
       "      <td>Movie</td>\n",
       "      <td>The Grand Seduction</td>\n",
       "      <td>Don McKellar</td>\n",
       "      <td>Brendan Gleeson, Taylor Kitsch, Gordon Pinsent</td>\n",
       "      <td>Canada</td>\n",
       "      <td>March 30, 2021</td>\n",
       "      <td>2014</td>\n",
       "      <td>NaN</td>\n",
       "      <td>113 min</td>\n",
       "      <td>Comedy, Drama</td>\n",
       "      <td>A small fishing village must procure a local d...</td>\n",
       "      <td>amazon</td>\n",
       "    </tr>\n",
       "    <tr>\n",
       "      <th>1</th>\n",
       "      <td>s2</td>\n",
       "      <td>Movie</td>\n",
       "      <td>Take Care Good Night</td>\n",
       "      <td>Girish Joshi</td>\n",
       "      <td>Mahesh Manjrekar, Abhay Mahajan, Sachin Khedekar</td>\n",
       "      <td>India</td>\n",
       "      <td>March 30, 2021</td>\n",
       "      <td>2018</td>\n",
       "      <td>13+</td>\n",
       "      <td>110 min</td>\n",
       "      <td>Drama, International</td>\n",
       "      <td>A Metro Family decides to fight a Cyber Crimin...</td>\n",
       "      <td>amazon</td>\n",
       "    </tr>\n",
       "    <tr>\n",
       "      <th>2</th>\n",
       "      <td>s3</td>\n",
       "      <td>Movie</td>\n",
       "      <td>Secrets of Deception</td>\n",
       "      <td>Josh Webber</td>\n",
       "      <td>Tom Sizemore, Lorenzo Lamas, Robert LaSardo, R...</td>\n",
       "      <td>United States</td>\n",
       "      <td>March 30, 2021</td>\n",
       "      <td>2017</td>\n",
       "      <td>NaN</td>\n",
       "      <td>74 min</td>\n",
       "      <td>Action, Drama, Suspense</td>\n",
       "      <td>After a man discovers his wife is cheating on ...</td>\n",
       "      <td>amazon</td>\n",
       "    </tr>\n",
       "    <tr>\n",
       "      <th>3</th>\n",
       "      <td>s4</td>\n",
       "      <td>Movie</td>\n",
       "      <td>Pink: Staying True</td>\n",
       "      <td>Sonia Anderson</td>\n",
       "      <td>Interviews with: Pink, Adele, Beyoncé, Britney...</td>\n",
       "      <td>United States</td>\n",
       "      <td>March 30, 2021</td>\n",
       "      <td>2014</td>\n",
       "      <td>NaN</td>\n",
       "      <td>69 min</td>\n",
       "      <td>Documentary</td>\n",
       "      <td>Pink breaks the mold once again, bringing her ...</td>\n",
       "      <td>amazon</td>\n",
       "    </tr>\n",
       "    <tr>\n",
       "      <th>4</th>\n",
       "      <td>s5</td>\n",
       "      <td>Movie</td>\n",
       "      <td>Monster Maker</td>\n",
       "      <td>Giles Foster</td>\n",
       "      <td>Harry Dean Stanton, Kieran O'Brien, George Cos...</td>\n",
       "      <td>United Kingdom</td>\n",
       "      <td>March 30, 2021</td>\n",
       "      <td>1989</td>\n",
       "      <td>NaN</td>\n",
       "      <td>45 min</td>\n",
       "      <td>Drama, Fantasy</td>\n",
       "      <td>Teenage Matt Banting wants to work with a famo...</td>\n",
       "      <td>amazon</td>\n",
       "    </tr>\n",
       "    <tr>\n",
       "      <th>5</th>\n",
       "      <td>s6</td>\n",
       "      <td>Movie</td>\n",
       "      <td>Living With Dinosaurs</td>\n",
       "      <td>Paul Weiland</td>\n",
       "      <td>Gregory Chisholm, Juliet Stevenson, Brian Hens...</td>\n",
       "      <td>United Kingdom</td>\n",
       "      <td>March 30, 2021</td>\n",
       "      <td>1989</td>\n",
       "      <td>NaN</td>\n",
       "      <td>52 min</td>\n",
       "      <td>Fantasy, Kids</td>\n",
       "      <td>The story unfolds in a an English seaside town...</td>\n",
       "      <td>amazon</td>\n",
       "    </tr>\n",
       "    <tr>\n",
       "      <th>6</th>\n",
       "      <td>s7</td>\n",
       "      <td>Movie</td>\n",
       "      <td>Hired Gun</td>\n",
       "      <td>Fran Strine</td>\n",
       "      <td>Alice Cooper, Liberty DeVitto, Ray Parker Jr.,...</td>\n",
       "      <td>United States</td>\n",
       "      <td>March 30, 2021</td>\n",
       "      <td>2017</td>\n",
       "      <td>NaN</td>\n",
       "      <td>98 min</td>\n",
       "      <td>Documentary, Special Interest</td>\n",
       "      <td>They are the \"First Call, A-list\" musicians, j...</td>\n",
       "      <td>amazon</td>\n",
       "    </tr>\n",
       "    <tr>\n",
       "      <th>7</th>\n",
       "      <td>s8</td>\n",
       "      <td>Movie</td>\n",
       "      <td>Grease Live!</td>\n",
       "      <td>Thomas Kail, Alex Rudzinski</td>\n",
       "      <td>Julianne Hough, Aaron Tveit, Vanessa Hudgens, ...</td>\n",
       "      <td>United States</td>\n",
       "      <td>March 30, 2021</td>\n",
       "      <td>2016</td>\n",
       "      <td>NaN</td>\n",
       "      <td>131 min</td>\n",
       "      <td>Comedy</td>\n",
       "      <td>This honest, uncompromising comedy chronicles ...</td>\n",
       "      <td>amazon</td>\n",
       "    </tr>\n",
       "    <tr>\n",
       "      <th>8</th>\n",
       "      <td>s9</td>\n",
       "      <td>Movie</td>\n",
       "      <td>Global Meltdown</td>\n",
       "      <td>Daniel Gilboy</td>\n",
       "      <td>Michael Paré, Leanne Khol Young, Patrick J. Ma...</td>\n",
       "      <td>Canada</td>\n",
       "      <td>March 30, 2021</td>\n",
       "      <td>2017</td>\n",
       "      <td>NaN</td>\n",
       "      <td>87 min</td>\n",
       "      <td>Action, Science Fiction, Suspense</td>\n",
       "      <td>A helicopter pilot and an environmental scient...</td>\n",
       "      <td>amazon</td>\n",
       "    </tr>\n",
       "    <tr>\n",
       "      <th>9</th>\n",
       "      <td>s10</td>\n",
       "      <td>Movie</td>\n",
       "      <td>David's Mother</td>\n",
       "      <td>Robert Allan Ackerman</td>\n",
       "      <td>Kirstie Alley, Sam Waterston, Stockard Channing</td>\n",
       "      <td>United States</td>\n",
       "      <td>April 1, 2021</td>\n",
       "      <td>1994</td>\n",
       "      <td>NaN</td>\n",
       "      <td>92 min</td>\n",
       "      <td>Drama</td>\n",
       "      <td>Sally Goodson is a devoted mother to her autis...</td>\n",
       "      <td>amazon</td>\n",
       "    </tr>\n",
       "  </tbody>\n",
       "</table>\n",
       "</div>"
      ],
      "text/plain": [
       "  show_id   tipo                 titulo                     director  \\\n",
       "0      s1  Movie    The Grand Seduction                 Don McKellar   \n",
       "1      s2  Movie   Take Care Good Night                 Girish Joshi   \n",
       "2      s3  Movie   Secrets of Deception                  Josh Webber   \n",
       "3      s4  Movie     Pink: Staying True               Sonia Anderson   \n",
       "4      s5  Movie          Monster Maker                 Giles Foster   \n",
       "5      s6  Movie  Living With Dinosaurs                 Paul Weiland   \n",
       "6      s7  Movie              Hired Gun                  Fran Strine   \n",
       "7      s8  Movie           Grease Live!  Thomas Kail, Alex Rudzinski   \n",
       "8      s9  Movie        Global Meltdown                Daniel Gilboy   \n",
       "9     s10  Movie         David's Mother        Robert Allan Ackerman   \n",
       "\n",
       "                                              elenco            pais  \\\n",
       "0     Brendan Gleeson, Taylor Kitsch, Gordon Pinsent          Canada   \n",
       "1   Mahesh Manjrekar, Abhay Mahajan, Sachin Khedekar           India   \n",
       "2  Tom Sizemore, Lorenzo Lamas, Robert LaSardo, R...   United States   \n",
       "3  Interviews with: Pink, Adele, Beyoncé, Britney...   United States   \n",
       "4  Harry Dean Stanton, Kieran O'Brien, George Cos...  United Kingdom   \n",
       "5  Gregory Chisholm, Juliet Stevenson, Brian Hens...  United Kingdom   \n",
       "6  Alice Cooper, Liberty DeVitto, Ray Parker Jr.,...   United States   \n",
       "7  Julianne Hough, Aaron Tveit, Vanessa Hudgens, ...   United States   \n",
       "8  Michael Paré, Leanne Khol Young, Patrick J. Ma...          Canada   \n",
       "9    Kirstie Alley, Sam Waterston, Stockard Channing   United States   \n",
       "\n",
       "   fecha_agregado  anio clasificacion duracion  \\\n",
       "0  March 30, 2021  2014           NaN  113 min   \n",
       "1  March 30, 2021  2018           13+  110 min   \n",
       "2  March 30, 2021  2017           NaN   74 min   \n",
       "3  March 30, 2021  2014           NaN   69 min   \n",
       "4  March 30, 2021  1989           NaN   45 min   \n",
       "5  March 30, 2021  1989           NaN   52 min   \n",
       "6  March 30, 2021  2017           NaN   98 min   \n",
       "7  March 30, 2021  2016           NaN  131 min   \n",
       "8  March 30, 2021  2017           NaN   87 min   \n",
       "9   April 1, 2021  1994           NaN   92 min   \n",
       "\n",
       "                          listado_en  \\\n",
       "0                      Comedy, Drama   \n",
       "1               Drama, International   \n",
       "2            Action, Drama, Suspense   \n",
       "3                        Documentary   \n",
       "4                     Drama, Fantasy   \n",
       "5                      Fantasy, Kids   \n",
       "6      Documentary, Special Interest   \n",
       "7                             Comedy   \n",
       "8  Action, Science Fiction, Suspense   \n",
       "9                              Drama   \n",
       "\n",
       "                                         descripcion plataforma  \n",
       "0  A small fishing village must procure a local d...     amazon  \n",
       "1  A Metro Family decides to fight a Cyber Crimin...     amazon  \n",
       "2  After a man discovers his wife is cheating on ...     amazon  \n",
       "3  Pink breaks the mold once again, bringing her ...     amazon  \n",
       "4  Teenage Matt Banting wants to work with a famo...     amazon  \n",
       "5  The story unfolds in a an English seaside town...     amazon  \n",
       "6  They are the \"First Call, A-list\" musicians, j...     amazon  \n",
       "7  This honest, uncompromising comedy chronicles ...     amazon  \n",
       "8  A helicopter pilot and an environmental scient...     amazon  \n",
       "9  Sally Goodson is a devoted mother to her autis...     amazon  "
      ]
     },
     "execution_count": 47,
     "metadata": {},
     "output_type": "execute_result"
    }
   ],
   "source": [
    "# vemos las primeras filas del dataset\n",
    "df.head(10)"
   ]
  },
  {
   "cell_type": "markdown",
   "id": "04726ac5",
   "metadata": {},
   "source": [
    "### Las columnas contienen los siguientes datos:\n",
    "- **show_id:** identificador único de cada serie o película\n",
    "- **tipo:** indica si se trata de una serie (\"TV Show\") o de una película (\"Movie\")\n",
    "- **titulo**\n",
    "- **director**\n",
    "- **elenco:** lista separada por comas de los nombres del elenco\n",
    "- **pais:** país de producción\n",
    "- **fecha_agregado:** fecha en que se agregó a la plataforma\n",
    "- **anio:** año de producción\n",
    "- **calificacion:** edad mínima o público recomendado\n",
    "- **duracion:** duración en minutos para películas, en temporadas para series </br>\n",
    "        - *Procesamiento necesario:* eliminar las palabras \"min\"/\"season\" y convertir a integer\n",
    "- **listado_en:** géneros en los cuales aparece listada la serie o película en la plataforma. </br>\n",
    "       - *Procesamiento necesario:* Valores separados por comas, hay que separar en columnas tipo dummies. Cada producto aparece listado en al menos una categoría/género, pero la cantidad total es variable. \n",
    "- **descripcion:** una descripción en inglés de la trama de la serie o película"
   ]
  },
  {
   "cell_type": "markdown",
   "id": "576bcda1",
   "metadata": {},
   "source": [
    "¿Cuántas películas y cuántas series hay en la plataforma?"
   ]
  },
  {
   "cell_type": "code",
   "execution_count": 48,
   "id": "c6b8ea99",
   "metadata": {
    "scrolled": true
   },
   "outputs": [
    {
     "name": "stdout",
     "output_type": "stream",
     "text": [
      "Hay 16481 películas y 6517 series\n"
     ]
    }
   ],
   "source": [
    "# Contar la cantidad de filas por tipo\n",
    "contar_tipo = df['tipo'].value_counts()\n",
    "print(f\"Hay {contar_tipo[0]} películas y {contar_tipo[1]} series\")\n"
   ]
  },
  {
   "cell_type": "markdown",
   "id": "43b3ceca",
   "metadata": {},
   "source": [
    "## Filtramos para quedarnos sólo las películas"
   ]
  },
  {
   "cell_type": "code",
   "execution_count": 49,
   "id": "3c2d5fa9",
   "metadata": {},
   "outputs": [
    {
     "data": {
      "text/plain": [
       "(16481, 13)"
      ]
     },
     "execution_count": 49,
     "metadata": {},
     "output_type": "execute_result"
    }
   ],
   "source": [
    "# Armo un nuevo dataframe filtrando por el valor de la columna tipo\n",
    "df = df[df['tipo'] == \"Movie\"]\n",
    "df.shape ## chequeo la cantidad de filas"
   ]
  },
  {
   "cell_type": "markdown",
   "id": "f01f5c51",
   "metadata": {},
   "source": [
    "## Análisis de datos faltantes"
   ]
  },
  {
   "cell_type": "code",
   "execution_count": 9,
   "id": "3f06b6f2",
   "metadata": {
    "scrolled": true
   },
   "outputs": [
    {
     "data": {
      "text/plain": [
       "pais              8011\n",
       "fecha_agregado    7482\n",
       "elenco            2236\n",
       "director          1389\n",
       "duracion            81\n",
       "descripcion          1\n",
       "show_id              0\n",
       "tipo                 0\n",
       "titulo               0\n",
       "anio                 0\n",
       "clasificacion        0\n",
       "listado_en           0\n",
       "plataforma           0\n",
       "dtype: int64"
      ]
     },
     "execution_count": 9,
     "metadata": {},
     "output_type": "execute_result"
    }
   ],
   "source": [
    "# Vemos cuántos valores faltantes tiene cada columna:\n",
    "missing_values = df.isnull().sum().sort_values(ascending = False) # contabiliza\n",
    "        # datos faltantes y los ordena de mayor a menor\n",
    "        # según la columna\n",
    "missing_values"
   ]
  },
  {
   "cell_type": "code",
   "execution_count": 33,
   "id": "720d91b1",
   "metadata": {},
   "outputs": [
    {
     "data": {
      "image/png": "[encoded data removed]",
      "text/plain": [
       "<Figure size 1000x600 with 1 Axes>"
      ]
     },
     "metadata": {},
     "output_type": "display_data"
    }
   ],
   "source": [
    "# visualización de valores faltantes\n",
    "plt.figure(figsize=(10, 6))\n",
    "sns.heatmap(df.isnull(), cmap='viridis', cbar=False)\n",
    "plt.title('Valores Faltantes en el DataFrame')\n",
    "plt.show()"
   ]
  },
  {
   "cell_type": "code",
   "execution_count": 7,
   "id": "f89480af",
   "metadata": {},
   "outputs": [
    {
     "name": "stdout",
     "output_type": "stream",
     "text": [
      "plataforma      amazon  disney  hulu  netflix\n",
      "show_id              0       0     0        0\n",
      "tipo                 0       0     0        0\n",
      "titulo               0       0     0        0\n",
      "director           228      75   899      187\n",
      "elenco             740     119   902      475\n",
      "pais              6929     105   538      439\n",
      "fecha_agregado    7482       0     0        0\n",
      "anio                 0       0     0        0\n",
      "clasificacion        0       0     0        0\n",
      "duracion             0       0    81        0\n",
      "listado_en           0       0     0        0\n",
      "descripcion          0       0     1        0\n",
      "plataforma           0       0     0        0\n"
     ]
    }
   ],
   "source": [
    "\n",
    "# Agrupa los datos por los valores de la columna \"plataforma\" y calcula la suma de valores faltantes por columna en cada grupo\n",
    "missing_values_por_plataforma = df.groupby('plataforma').apply(lambda x: x.isnull().sum()).T\n",
    "\n",
    "# Muestra los valores faltantes por columna agrupados por \"plataforma\"\n",
    "print(missing_values_por_plataforma)"
   ]
  },
  {
   "cell_type": "markdown",
   "id": "bb509d02",
   "metadata": {},
   "source": [
    "Vemos que la columna fecha_agregada son casi todos datos faltantes. Lo mismo pasa con la columna país. Estos no van a ser elementos útiles para la recomendación. </br>\n",
    "Las columnas más importantes para el sistema de recomendación (título, descripcion, calificacion, elenco, listado_en) no tienen datos faltantes, asíque podemos trabajar con ellas sin problema. "
   ]
  },
  {
   "cell_type": "markdown",
   "id": "bcf58415",
   "metadata": {},
   "source": [
    "## Columna clasificación"
   ]
  },
  {
   "cell_type": "code",
   "execution_count": 50,
   "id": "7f01d14e",
   "metadata": {},
   "outputs": [
    {
     "name": "stdout",
     "output_type": "stream",
     "text": [
      "clasificacion\n",
      "TV-MA        2154\n",
      "R            2152\n",
      "13+          1849\n",
      "TV-14        1546\n",
      "16+          1272\n",
      "             ... \n",
      "65 min          1\n",
      "37 min          1\n",
      "NOT RATED       1\n",
      "129 min         1\n",
      "115 min         1\n",
      "Name: count, Length: 104, dtype: int64\n"
     ]
    }
   ],
   "source": [
    "# Contamos la cantidad de filas para cada clasificacion\n",
    "contar_clas = df['clasificacion'].value_counts()\n",
    "print(contar_clas)"
   ]
  },
  {
   "cell_type": "code",
   "execution_count": 51,
   "id": "eac99eef",
   "metadata": {},
   "outputs": [
    {
     "name": "stdout",
     "output_type": "stream",
     "text": [
      "rating\n",
      "TV-14     691\n",
      "TV-MA     391\n",
      "R         345\n",
      "TV-PG     321\n",
      "PG-13     163\n",
      "         ... \n",
      "34 min      1\n",
      "47 min      1\n",
      "65 min      1\n",
      "37 min      1\n",
      "71 min      1\n",
      "Name: count, Length: 88, dtype: int64\n"
     ]
    }
   ],
   "source": [
    "# Contamos la cantidad de filas para cada calificacion\n",
    "contar_clas_hulu = hulu['rating'].value_counts()\n",
    "print(contar_clas_hulu)"
   ]
  },
  {
   "cell_type": "markdown",
   "id": "c1e59eab",
   "metadata": {},
   "source": [
    "Vemos que hay filas cuya clasificación aparece como cantidad de minutos. Esto indica un error o anomalía en el dataset. Vamos a indagar a qué plataforma corresponden las filas anómalas. "
   ]
  },
  {
   "cell_type": "code",
   "execution_count": 52,
   "id": "ceeb0a7c",
   "metadata": {},
   "outputs": [
    {
     "name": "stdout",
     "output_type": "stream",
     "text": [
      "9718        hulu\n",
      "9776        hulu\n",
      "9931        hulu\n",
      "10065       hulu\n",
      "10139       hulu\n",
      "          ...   \n",
      "12627       hulu\n",
      "12661       hulu\n",
      "18282    netflix\n",
      "18535    netflix\n",
      "18554    netflix\n",
      "Name: plataforma, Length: 295, dtype: object\n"
     ]
    }
   ],
   "source": [
    "\n",
    "# queremos ver que valor tiene la columna paltaforma cuando clasificacion contiene \"min\", \"season\" o \"seasons\" (sin distinguir entre masyuscula y minusucula)\n",
    "# creamos una mascara booleana para encontrar las filas que cumplen con la condicion de contener \"min\"\n",
    "# dado que la columna clasificacion tiene valores nulos, vamos a indicar que tome esos valores como falso\n",
    "mascara = df['clasificacion'].str.contains('min|Season|Seasons', case=False, na=False)\n",
    "\n",
    "# Aplicar la máscara booleana y obtener los valores de \"plataforma\"\n",
    "anomalos = df.loc[mascara, 'plataforma']\n",
    "\n",
    "# Mostrar los valores de \"plataforma\" que cumplen con el criterio\n",
    "print(anomalos)\n"
   ]
  },
  {
   "cell_type": "markdown",
   "id": "59cd7ac9",
   "metadata": {},
   "source": [
    "A que plataformas pertenecen estos titulos?"
   ]
  },
  {
   "cell_type": "code",
   "execution_count": 53,
   "id": "20f94e7f",
   "metadata": {},
   "outputs": [
    {
     "name": "stdout",
     "output_type": "stream",
     "text": [
      "['hulu' 'netflix']\n"
     ]
    }
   ],
   "source": [
    "print(anomalos.unique())"
   ]
  },
  {
   "cell_type": "markdown",
   "id": "6185b028",
   "metadata": {},
   "source": [
    "Cuantos hay corresponden a Netflix y cuántos en Hulu??"
   ]
  },
  {
   "cell_type": "code",
   "execution_count": 54,
   "id": "01058d01",
   "metadata": {},
   "outputs": [
    {
     "name": "stdout",
     "output_type": "stream",
     "text": [
      "plataforma\n",
      "hulu       292\n",
      "netflix      3\n",
      "Name: count, dtype: int64\n"
     ]
    }
   ],
   "source": [
    "contar_anomalos = anomalos.value_counts()\n",
    "print(contar_anomalos)"
   ]
  },
  {
   "cell_type": "markdown",
   "id": "a1dbd33a",
   "metadata": {},
   "source": [
    "Vemos que no se trata de un problema que afecte a la mayoría de las películas. Pero dado que la clasificación es un dato de vital imortancia a tener en cuenta en un algoritmo de recomendación y que la recolección de esos datos escapa a los objetivos de este proyecto, tomamos la decisión de eliminar las filas anómalas de los análisis posteriores, así como aquellas filas con valores faltantes en esta columna. "
   ]
  },
  {
   "cell_type": "code",
   "execution_count": 58,
   "id": "8c12c2a5",
   "metadata": {},
   "outputs": [
    {
     "data": {
      "text/plain": [
       "(15857, 13)"
      ]
     },
     "execution_count": 58,
     "metadata": {},
     "output_type": "execute_result"
    }
   ],
   "source": [
    "# descartamos filas con valores faltantes en clasificacion\n",
    "df2 = df.dropna(subset=['clasificacion'])\n",
    "df2.shape"
   ]
  },
  {
   "cell_type": "code",
   "execution_count": 61,
   "id": "3c29fae3",
   "metadata": {},
   "outputs": [],
   "source": [
    "# descartamos filas anomalas para clasificacion\n",
    "filas_anomalas = df2.index[df2['clasificacion'].str.contains('min|Season|Seasons', case=False, na=False)]\n",
    "\n",
    "# Elimina las filas correspondientes a esos índices del DataFrame original\n",
    "df2 = df2.drop(filas_anomalas)"
   ]
  },
  {
   "cell_type": "code",
   "execution_count": 62,
   "id": "015e7ccc",
   "metadata": {},
   "outputs": [
    {
     "data": {
      "text/plain": [
       "(15562, 13)"
      ]
     },
     "execution_count": 62,
     "metadata": {},
     "output_type": "execute_result"
    }
   ],
   "source": [
    "df2.shape"
   ]
  },
  {
   "cell_type": "code",
   "execution_count": 63,
   "id": "993ad43d",
   "metadata": {},
   "outputs": [],
   "source": [
    "df = df2"
   ]
  },
  {
   "cell_type": "code",
   "execution_count": 64,
   "id": "87694829",
   "metadata": {},
   "outputs": [
    {
     "name": "stdout",
     "output_type": "stream",
     "text": [
      "clasificacion\n",
      "TV-MA        2154\n",
      "R            2152\n",
      "13+          1849\n",
      "TV-14        1546\n",
      "16+          1272\n",
      "PG-13        1112\n",
      "18+          1097\n",
      "ALL           988\n",
      "PG            880\n",
      "TV-PG         770\n",
      "G             405\n",
      "TV-G          395\n",
      "7+            288\n",
      "NR            270\n",
      "TV-Y7         179\n",
      "TV-Y          140\n",
      "UNRATED        33\n",
      "TV-Y7-FV       12\n",
      "NC-17           6\n",
      "UR              3\n",
      "NOT_RATE        3\n",
      "AGES_18_        3\n",
      "AGES_16_        2\n",
      "NOT RATED       1\n",
      "ALL_AGES        1\n",
      "16              1\n",
      "Name: count, dtype: int64\n"
     ]
    }
   ],
   "source": [
    "# Contamos la cantidad de filas para cada clasificacion\n",
    "contar_clas2 = df['clasificacion'].value_counts()\n",
    "print(contar_clas2)"
   ]
  },
  {
   "cell_type": "code",
   "execution_count": 71,
   "id": "aefdb70c",
   "metadata": {},
   "outputs": [],
   "source": [
    "df['clasificacion'] = df['clasificacion'].replace(['UNRATED', 'UR'], 'UR/No clasificado')\n",
    "df['clasificacion'] = df['clasificacion'].replace(['NOT RATED', 'NOT_RATE', 'NR'], 'NR/Sin clasificacion')\n",
    "df['clasificacion'] = df['clasificacion'].replace(['ALL', 'ALL_AGES'], 'ALL')\n",
    "df['clasificacion'] = df['clasificacion'].replace(['AGES_18_'], '18+')\n",
    "df['clasificacion'] = df['clasificacion'].replace(['16','AGES_16_','16+'], '16+')"
   ]
  },
  {
   "cell_type": "code",
   "execution_count": 72,
   "id": "46fab6a1",
   "metadata": {},
   "outputs": [
    {
     "name": "stdout",
     "output_type": "stream",
     "text": [
      "clasificacion\n",
      "TV-MA                2154\n",
      "R                    2152\n",
      "13+                  1849\n",
      "TV-14                1546\n",
      "16+                  1275\n",
      "PG-13                1112\n",
      "18+                  1100\n",
      "ALL                   989\n",
      "PG                    880\n",
      "TV-PG                 770\n",
      "G                     405\n",
      "TV-G                  395\n",
      "7+                    288\n",
      "Sin clasificacion     274\n",
      "TV-Y7                 179\n",
      "TV-Y                  140\n",
      "No clasificado         36\n",
      "TV-Y7-FV               12\n",
      "NC-17                   6\n",
      "Name: count, dtype: int64\n"
     ]
    }
   ],
   "source": [
    "# Contamos la cantidad de filas para cada clasificacion\n",
    "contar_clas3 = df['clasificacion'].value_counts()\n",
    "print(contar_clas3)"
   ]
  },
  {
   "cell_type": "code",
   "execution_count": 81,
   "id": "fe8449a3",
   "metadata": {
    "scrolled": true
   },
   "outputs": [
    {
     "data": {
      "image/png": "[encoded data removed]",
      "text/plain": [
       "<Figure size 640x480 with 1 Axes>"
      ]
     },
     "metadata": {},
     "output_type": "display_data"
    }
   ],
   "source": [
    "# Crear el gráfico de barras\n",
    "plt.bar(contar_clas3.index, contar_clas3.values)\n",
    "plt.xlabel('Clasificación', fontsize=13)\n",
    "plt.ylabel('Cantidad de títulos', fontsize=13)\n",
    "plt.title('¿Cuántas películas de cada clasificación hay en las plataformas?', fontsize=15)\n",
    "plt.xticks(rotation=80, fontsize=9)\n",
    "plt.yticks(fontsize=13)\n",
    "plt.tight_layout()\n",
    "\n",
    "# Mostrar el gráfico\n",
    "plt.show()"
   ]
  },
  {
   "cell_type": "code",
   "execution_count": 83,
   "id": "d6869a3e",
   "metadata": {},
   "outputs": [],
   "source": [
    "# Vamos a guardar los dataframe en archivos CSV\n",
    "df.to_csv('..\\\\datasets\\\\peliculas_limpio.csv', index=False)"
   ]
  },
  {
   "cell_type": "markdown",
   "id": "3eae7448",
   "metadata": {},
   "source": [
    "## Columna duracion"
   ]
  },
  {
   "cell_type": "code",
   "execution_count": 84,
   "id": "64748bac",
   "metadata": {},
   "outputs": [
    {
     "data": {
      "text/html": [
       "<div>\n",
       "<style scoped>\n",
       "    .dataframe tbody tr th:only-of-type {\n",
       "        vertical-align: middle;\n",
       "    }\n",
       "\n",
       "    .dataframe tbody tr th {\n",
       "        vertical-align: top;\n",
       "    }\n",
       "\n",
       "    .dataframe thead th {\n",
       "        text-align: right;\n",
       "    }\n",
       "</style>\n",
       "<table border=\"1\" class=\"dataframe\">\n",
       "  <thead>\n",
       "    <tr style=\"text-align: right;\">\n",
       "      <th></th>\n",
       "      <th>show_id</th>\n",
       "      <th>tipo</th>\n",
       "      <th>titulo</th>\n",
       "      <th>director</th>\n",
       "      <th>elenco</th>\n",
       "      <th>pais</th>\n",
       "      <th>fecha_agregado</th>\n",
       "      <th>anio</th>\n",
       "      <th>clasificacion</th>\n",
       "      <th>duracion</th>\n",
       "      <th>listado_en</th>\n",
       "      <th>descripcion</th>\n",
       "      <th>plataforma</th>\n",
       "    </tr>\n",
       "  </thead>\n",
       "  <tbody>\n",
       "    <tr>\n",
       "      <th>1</th>\n",
       "      <td>s2</td>\n",
       "      <td>Movie</td>\n",
       "      <td>Take Care Good Night</td>\n",
       "      <td>Girish Joshi</td>\n",
       "      <td>Mahesh Manjrekar, Abhay Mahajan, Sachin Khedekar</td>\n",
       "      <td>India</td>\n",
       "      <td>March 30, 2021</td>\n",
       "      <td>2018</td>\n",
       "      <td>13+</td>\n",
       "      <td>110 min</td>\n",
       "      <td>Drama, International</td>\n",
       "      <td>A Metro Family decides to fight a Cyber Crimin...</td>\n",
       "      <td>amazon</td>\n",
       "    </tr>\n",
       "    <tr>\n",
       "      <th>16</th>\n",
       "      <td>s17</td>\n",
       "      <td>Movie</td>\n",
       "      <td>Zoombies</td>\n",
       "      <td>Glenn Miller</td>\n",
       "      <td>Marcus Anderson, Kaiwi Lyman, Andrew Asper</td>\n",
       "      <td>NaN</td>\n",
       "      <td>NaN</td>\n",
       "      <td>2016</td>\n",
       "      <td>13+</td>\n",
       "      <td>87 min</td>\n",
       "      <td>Horror, Science Fiction</td>\n",
       "      <td>When a strange virus quickly spreads through a...</td>\n",
       "      <td>amazon</td>\n",
       "    </tr>\n",
       "    <tr>\n",
       "      <th>19</th>\n",
       "      <td>s20</td>\n",
       "      <td>Movie</td>\n",
       "      <td>Zoe</td>\n",
       "      <td>Drake Doremus</td>\n",
       "      <td>Ewan McGregor, Léa Seydoux, Theo James, Mirand...</td>\n",
       "      <td>NaN</td>\n",
       "      <td>NaN</td>\n",
       "      <td>2018</td>\n",
       "      <td>R</td>\n",
       "      <td>104 min</td>\n",
       "      <td>Science Fiction</td>\n",
       "      <td>ZOE tells a tale of forbidden love between an ...</td>\n",
       "      <td>amazon</td>\n",
       "    </tr>\n",
       "  </tbody>\n",
       "</table>\n",
       "</div>"
      ],
      "text/plain": [
       "   show_id   tipo                titulo       director  \\\n",
       "1       s2  Movie  Take Care Good Night   Girish Joshi   \n",
       "16     s17  Movie              Zoombies   Glenn Miller   \n",
       "19     s20  Movie                   Zoe  Drake Doremus   \n",
       "\n",
       "                                               elenco   pais  fecha_agregado  \\\n",
       "1    Mahesh Manjrekar, Abhay Mahajan, Sachin Khedekar  India  March 30, 2021   \n",
       "16         Marcus Anderson, Kaiwi Lyman, Andrew Asper    NaN             NaN   \n",
       "19  Ewan McGregor, Léa Seydoux, Theo James, Mirand...    NaN             NaN   \n",
       "\n",
       "    anio clasificacion duracion               listado_en  \\\n",
       "1   2018           13+  110 min     Drama, International   \n",
       "16  2016           13+   87 min  Horror, Science Fiction   \n",
       "19  2018             R  104 min          Science Fiction   \n",
       "\n",
       "                                          descripcion plataforma  \n",
       "1   A Metro Family decides to fight a Cyber Crimin...     amazon  \n",
       "16  When a strange virus quickly spreads through a...     amazon  \n",
       "19  ZOE tells a tale of forbidden love between an ...     amazon  "
      ]
     },
     "execution_count": 84,
     "metadata": {},
     "output_type": "execute_result"
    }
   ],
   "source": [
    "# vemos la columna duracion para las películas\n",
    "df.head(3)"
   ]
  },
  {
   "cell_type": "code",
   "execution_count": 6,
   "id": "d3b790be",
   "metadata": {},
   "outputs": [
    {
     "data": {
      "image/png": "[encoded data removed]",
      "text/plain": [
       "<Figure size 1000x600 with 1 Axes>"
      ]
     },
     "metadata": {},
     "output_type": "display_data"
    }
   ],
   "source": [
    "# visualización de valores faltantes\n",
    "plt.figure(figsize=(10, 6))\n",
    "sns.heatmap(df.isnull(), cmap='viridis', cbar=False)\n",
    "plt.title('Valores Faltantes en el DataFrame')\n",
    "plt.show()"
   ]
  },
  {
   "cell_type": "markdown",
   "id": "8ea8a398",
   "metadata": {},
   "source": [
    "Vemos que para las películas, la duracion se expresa como cantidad de minutos.  </br>\n",
    "Vamos a procesar los datos de la columna para poder utilizarlos. "
   ]
  },
  {
   "cell_type": "code",
   "execution_count": 11,
   "id": "1b2156f9",
   "metadata": {},
   "outputs": [],
   "source": [
    "df = pd.read_csv('..\\\\datasets\\\\peliculas_limpio.csv')"
   ]
  },
  {
   "cell_type": "code",
   "execution_count": 12,
   "id": "d176d9a8",
   "metadata": {},
   "outputs": [
    {
     "name": "stdout",
     "output_type": "stream",
     "text": [
      "0        110\n",
      "1         87\n",
      "2        104\n",
      "3         62\n",
      "4         94\n",
      "        ... \n",
      "15557    108\n",
      "15558    106\n",
      "15559    107\n",
      "15560    112\n",
      "15561      2\n",
      "Name: duracion, Length: 15562, dtype: object\n"
     ]
    }
   ],
   "source": [
    "# Quitamos \"min\" y convertir a integer \n",
    "df['duracion'] = df['duracion'].str.replace(' min', '')\n",
    "print(df['duracion'])"
   ]
  },
  {
   "cell_type": "code",
   "execution_count": 13,
   "id": "3a408271",
   "metadata": {},
   "outputs": [],
   "source": [
    "df['duracion'] = df['duracion'].fillna(0).astype(int)"
   ]
  },
  {
   "cell_type": "code",
   "execution_count": 15,
   "id": "bb634f1e",
   "metadata": {},
   "outputs": [
    {
     "name": "stdout",
     "output_type": "stream",
     "text": [
      "[110  87 104  62  94  50  86  36  37 103   9  18  14  20  19  22  60   6\n",
      "  54   5  84 126 125 109  89  85  40 111  33  34  95  99  78  77  55  53\n",
      " 115  58  49 135  91  64 131  59  52 122  92  90 102  65 114  56 136  70\n",
      " 138 113 100 480   4  30 152  68  57  96  98  88  31 151 149 141 121  48\n",
      " 140  46  51 106  93  27  69 107 108  38 157  43 118 112  15 116 142  75\n",
      "  71  42  81  32  66 159  67  29 132 101 164  73  80  61  79  83  44  45\n",
      " 120  26  97  74  23 105  82  11 127 161  72 123   0 124 143  35  47 170\n",
      "   3 146 601 154 128 133 153 148 119  63 169 174 144   7 137  76  39 134\n",
      " 163 139   1 145 162  41 147 155 117 167  28  25 180   2 541 240 129 178\n",
      "  24 171  21 172 173  10 166 160 130 479  13   8  17  16 158 183  12 150\n",
      " 481 181 156 540 177 550 485 193 165 175 188 187 176 168 190 185 209 192\n",
      " 182 207 269 191 229 189 273 204 212 224 203 194 233 237 230 195 253 208\n",
      " 186 312 214 179 200 196 228 205 201]\n"
     ]
    }
   ],
   "source": [
    "uniquedur = df['duracion'].unique()\n",
    "print(uniquedur)"
   ]
  },
  {
   "cell_type": "markdown",
   "id": "91748d7d",
   "metadata": {},
   "source": [
    "### ¿Cuántas películas de cada año hay en cada plataforma?"
   ]
  },
  {
   "cell_type": "code",
   "execution_count": 23,
   "id": "e6725475",
   "metadata": {},
   "outputs": [
    {
     "data": {
      "text/plain": [
       "<Figure size 1000x600 with 0 Axes>"
      ]
     },
     "metadata": {},
     "output_type": "display_data"
    },
    {
     "data": {
      "image/png": "[encoded data removed]",
      "text/plain": [
       "<Figure size 640x480 with 1 Axes>"
      ]
     },
     "metadata": {},
     "output_type": "display_data"
    }
   ],
   "source": [
    "# Agrupar por tipo y anio, y contar la cantidad de filas\n",
    "contar_anio = df.groupby(['anio', 'plataforma']).size().unstack()\n",
    "\n",
    "# Crear un gráfico de barras apiladas con anio en el eje x\n",
    "plt.figure(figsize=(10, 6))\n",
    "contar_anio.plot(kind='bar', stacked=True)\n",
    "plt.xlabel('Año', fontsize = 18)\n",
    "plt.ylabel('Cantidad', fontsize = 18)\n",
    "plt.title('Películas por año', fontsize = 23)\n",
    "plt.legend(title='Plataforma', fontsize = 18)\n",
    "plt.xticks(range(0, len(contar_anio), 10), rotation = 45, fontsize = 12) # eliminar etiquetas de eje x porque queda muy cargado\n",
    "plt.yticks(fontsize = 18)\n",
    "plt.tight_layout()\n",
    "plt.show()"
   ]
  },
  {
   "cell_type": "markdown",
   "id": "549ae861",
   "metadata": {},
   "source": [
    "## Columna listado_en: categorías y géneros"
   ]
  },
  {
   "cell_type": "code",
   "execution_count": 24,
   "id": "f1310a00",
   "metadata": {},
   "outputs": [
    {
     "data": {
      "text/plain": [
       "0       Drama, International\n",
       "1    Horror, Science Fiction\n",
       "2            Science Fiction\n",
       "Name: listado_en, dtype: object"
      ]
     },
     "execution_count": 24,
     "metadata": {},
     "output_type": "execute_result"
    }
   ],
   "source": [
    "df['listado_en'].head(3)"
   ]
  },
  {
   "cell_type": "markdown",
   "id": "713c224a",
   "metadata": {},
   "source": [
    "Vemos que la columna listado_en contiene varios valores separados por comas. Vamos a separar cada valor en una columna para poder utilizarlas para agrupar las filas. "
   ]
  },
  {
   "cell_type": "code",
   "execution_count": 35,
   "id": "9a54773e",
   "metadata": {},
   "outputs": [
    {
     "name": "stdout",
     "output_type": "stream",
     "text": [
      "      show_id                 0                  1                 2        3  \\\n",
      "0          s2             Drama      International              None     None   \n",
      "1         s17            Horror    Science Fiction              None     None   \n",
      "2         s20   Science Fiction               None              None     None   \n",
      "3         s23              Arts      Entertainment       and Culture   Comedy   \n",
      "4         s25             Drama               None              None     None   \n",
      "...       ...               ...                ...               ...      ...   \n",
      "15557   s1446  Action-Adventure             Family   Science Fiction     None   \n",
      "15558   s1447  Action-Adventure             Comedy            Family     None   \n",
      "15559   s1448      Biographical             Comedy             Drama     None   \n",
      "15560   s1449             Buddy             Comedy     Coming of Age     None   \n",
      "15561   s1450  Action-Adventure   Animals & Nature         Animation     None   \n",
      "\n",
      "            4  \n",
      "0        None  \n",
      "1        None  \n",
      "2        None  \n",
      "3       Drama  \n",
      "4        None  \n",
      "...       ...  \n",
      "15557    None  \n",
      "15558    None  \n",
      "15559    None  \n",
      "15560    None  \n",
      "15561    None  \n",
      "\n",
      "[15562 rows x 6 columns]\n"
     ]
    }
   ],
   "source": [
    "# dividimos los valores en columnas separadas, al mismo tiempo que generamos un dataset nuevo de generos, que relaciona los show_id con los generos de cada show\n",
    "generos = pd.concat([df['show_id'],df['listado_en'].str.split(',', expand=True)], axis=1)\n",
    "print(generos)"
   ]
  },
  {
   "cell_type": "code",
   "execution_count": 37,
   "id": "b583fc44",
   "metadata": {},
   "outputs": [],
   "source": [
    "generos.columns = ['show_id', 'gen1', 'gen2', 'gen3', 'gen4', 'gen5']"
   ]
  },
  {
   "cell_type": "code",
   "execution_count": 38,
   "id": "005f94db",
   "metadata": {},
   "outputs": [
    {
     "name": "stdout",
     "output_type": "stream",
     "text": [
      "      show_id              gen1               gen2              gen3     gen4  \\\n",
      "0          s2             Drama      International              None     None   \n",
      "1         s17            Horror    Science Fiction              None     None   \n",
      "2         s20   Science Fiction               None              None     None   \n",
      "3         s23              Arts      Entertainment       and Culture   Comedy   \n",
      "4         s25             Drama               None              None     None   \n",
      "...       ...               ...                ...               ...      ...   \n",
      "15557   s1446  Action-Adventure             Family   Science Fiction     None   \n",
      "15558   s1447  Action-Adventure             Comedy            Family     None   \n",
      "15559   s1448      Biographical             Comedy             Drama     None   \n",
      "15560   s1449             Buddy             Comedy     Coming of Age     None   \n",
      "15561   s1450  Action-Adventure   Animals & Nature         Animation     None   \n",
      "\n",
      "         gen5  \n",
      "0        None  \n",
      "1        None  \n",
      "2        None  \n",
      "3       Drama  \n",
      "4        None  \n",
      "...       ...  \n",
      "15557    None  \n",
      "15558    None  \n",
      "15559    None  \n",
      "15560    None  \n",
      "15561    None  \n",
      "\n",
      "[15562 rows x 6 columns]\n"
     ]
    }
   ],
   "source": [
    "print(generos)"
   ]
  },
  {
   "cell_type": "markdown",
   "id": "38f12640",
   "metadata": {},
   "source": [
    "# Depurando lista de categorías y géneros"
   ]
  },
  {
   "cell_type": "markdown",
   "id": "9f77e19a",
   "metadata": {},
   "source": [
    "Encontrar todos los posibles géneros y categorías, sin repeticiones:"
   ]
  },
  {
   "cell_type": "code",
   "execution_count": 58,
   "id": "532c1324",
   "metadata": {},
   "outputs": [
    {
     "data": {
      "text/plain": [
       "(77810,)"
      ]
     },
     "execution_count": 58,
     "metadata": {},
     "output_type": "execute_result"
    }
   ],
   "source": [
    "gen = pd.concat([generos['gen1'],generos['gen2'],generos['gen3'],generos['gen4'],generos['gen5']],axis=0)\n",
    "gen.shape"
   ]
  },
  {
   "cell_type": "code",
   "execution_count": 64,
   "id": "927f4397",
   "metadata": {},
   "outputs": [
    {
     "name": "stdout",
     "output_type": "stream",
     "text": [
      "['Drama' 'Horror' 'Science Fiction' 'Arts' 'Documentary'\n",
      " 'Music Videos and Concerts' 'Fitness' 'Faith and Spirituality'\n",
      " 'Special Interest' 'Action' 'Fantasy' 'Suspense' 'Kids' 'Comedy'\n",
      " 'Western' 'Animation' 'Arthouse' 'Military and War' 'Anime'\n",
      " 'International' 'Sports' 'Adventure' 'Romance' 'Young Adult Audience'\n",
      " 'LGBTQ' 'Historical' 'Thriller' 'Documentaries' 'Reality' 'Black Stories'\n",
      " 'Crime' 'Classics' 'Cooking & Food' 'Family' 'Music' 'News' 'Latino'\n",
      " 'History' 'Mystery' 'Cartoons' 'Science & Technology'\n",
      " 'Children & Family Movies' 'Dramas' 'Comedies' 'Thrillers'\n",
      " 'Horror Movies' 'Action & Adventure' 'International Movies'\n",
      " 'Sci-Fi & Fantasy' 'Classic Movies' 'Stand-Up Comedy' 'Movies'\n",
      " 'Anime Features' 'Cult Movies' 'Independent Movies' 'Music & Musicals'\n",
      " 'Romantic Movies' 'LGBTQ Movies' 'Sports Movies' 'Musical' 'Biographical'\n",
      " 'Animals & Nature' 'Action-Adventure' 'Lifestyle' 'Coming of Age'\n",
      " 'Concert Film' 'Variety' 'Anthology' 'Dance' 'Buddy' ' International'\n",
      " ' Science Fiction' None ' Entertainment' ' Special Interest'\n",
      " ' Military and War' ' LGBTQ' ' Drama' ' Suspense'\n",
      " ' Faith and Spirituality' ' Kids' ' Young Adult Audience' ' Adventure'\n",
      " ' Western' ' Comedy' ' Romance' ' Horror' ' Sports' ' Documentary'\n",
      " ' Fantasy' ' Talk Show and Variety' ' Music Videos and Concerts'\n",
      " ' Animation' ' Anime' ' Arts' ' Historical' ' Arthouse' ' Unscripted'\n",
      " ' Stand Up' ' Thriller' ' Teen' ' Family' ' Crime' ' Music' ' Latino'\n",
      " ' History' ' Mystery' ' LGBTQ+' ' Documentaries' ' Black Stories' ' News'\n",
      " ' Cartoons' ' Lifestyle & Culture' ' Science & Technology'\n",
      " ' Adult Animation' ' Independent Movies' ' Dramas'\n",
      " ' International Movies' ' Comedies' ' Sci-Fi & Fantasy' ' Classic Movies'\n",
      " ' Horror Movies' ' Thrillers' ' Anime Features' ' Sports Movies'\n",
      " ' Music & Musicals' ' Romantic Movies' ' Cult Movies'\n",
      " ' Children & Family Movies' ' Faith & Spirituality' ' LGBTQ Movies'\n",
      " ' Stand-Up Comedy' ' Variety' ' Coming of Age' ' Biographical' ' Buddy'\n",
      " ' Dance' ' Animals & Nature' ' Musical' ' Disaster' ' Anthology'\n",
      " ' Lifestyle' ' Parody' ' and Culture' ' Classics' ' Reality' ' Superhero'\n",
      " ' Spy/Espionage' ' Romantic Comedy' ' Survival' ' Medical']\n"
     ]
    }
   ],
   "source": [
    "gen_unicos = gen.unique()\n",
    "print(gen_unicos)"
   ]
  },
  {
   "cell_type": "code",
   "execution_count": 67,
   "id": "ee4ed3f7",
   "metadata": {},
   "outputs": [],
   "source": [
    "# Descartamos valor None \n",
    "gen_unicos = list(filter(lambda x: x is not None, gen_unicos))"
   ]
  },
  {
   "cell_type": "code",
   "execution_count": 68,
   "id": "897f905b",
   "metadata": {},
   "outputs": [
    {
     "name": "stdout",
     "output_type": "stream",
     "text": [
      "[' Adult Animation', ' Adventure', ' Animals & Nature', ' Animation', ' Anime', ' Anime Features', ' Anthology', ' Arthouse', ' Arts', ' Biographical', ' Black Stories', ' Buddy', ' Cartoons', ' Children & Family Movies', ' Classic Movies', ' Classics', ' Comedies', ' Comedy', ' Coming of Age', ' Crime', ' Cult Movies', ' Dance', ' Disaster', ' Documentaries', ' Documentary', ' Drama', ' Dramas', ' Entertainment', ' Faith & Spirituality', ' Faith and Spirituality', ' Family', ' Fantasy', ' Historical', ' History', ' Horror', ' Horror Movies', ' Independent Movies', ' International', ' International Movies', ' Kids', ' LGBTQ', ' LGBTQ Movies', ' LGBTQ+', ' Latino', ' Lifestyle', ' Lifestyle & Culture', ' Medical', ' Military and War', ' Music', ' Music & Musicals', ' Music Videos and Concerts', ' Musical', ' Mystery', ' News', ' Parody', ' Reality', ' Romance', ' Romantic Comedy', ' Romantic Movies', ' Sci-Fi & Fantasy', ' Science & Technology', ' Science Fiction', ' Special Interest', ' Sports', ' Sports Movies', ' Spy/Espionage', ' Stand Up', ' Stand-Up Comedy', ' Superhero', ' Survival', ' Suspense', ' Talk Show and Variety', ' Teen', ' Thriller', ' Thrillers', ' Unscripted', ' Variety', ' Western', ' Young Adult Audience', ' and Culture', 'Action', 'Action & Adventure', 'Action-Adventure', 'Adventure', 'Animals & Nature', 'Animation', 'Anime', 'Anime Features', 'Anthology', 'Arthouse', 'Arts', 'Biographical', 'Black Stories', 'Buddy', 'Cartoons', 'Children & Family Movies', 'Classic Movies', 'Classics', 'Comedies', 'Comedy', 'Coming of Age', 'Concert Film', 'Cooking & Food', 'Crime', 'Cult Movies', 'Dance', 'Documentaries', 'Documentary', 'Drama', 'Dramas', 'Faith and Spirituality', 'Family', 'Fantasy', 'Fitness', 'Historical', 'History', 'Horror', 'Horror Movies', 'Independent Movies', 'International', 'International Movies', 'Kids', 'LGBTQ', 'LGBTQ Movies', 'Latino', 'Lifestyle', 'Military and War', 'Movies', 'Music', 'Music & Musicals', 'Music Videos and Concerts', 'Musical', 'Mystery', 'News', 'Reality', 'Romance', 'Romantic Movies', 'Sci-Fi & Fantasy', 'Science & Technology', 'Science Fiction', 'Special Interest', 'Sports', 'Sports Movies', 'Stand-Up Comedy', 'Suspense', 'Thriller', 'Thrillers', 'Variety', 'Western', 'Young Adult Audience']\n"
     ]
    }
   ],
   "source": [
    "# ordenamos alfabeticamente para detectar duplicados mas facilmente\n",
    "print(sorted(gen_unicos))"
   ]
  }
 ],
 "metadata": {
  "kernelspec": {
   "display_name": "Python 3 (ipykernel)",
   "language": "python",
   "name": "python3"
  },
  "language_info": {
   "codemirror_mode": {
    "name": "ipython",
    "version": 3
   },
   "file_extension": ".py",
   "mimetype": "text/x-python",
   "name": "python",
   "nbconvert_exporter": "python",
   "pygments_lexer": "ipython3",
   "version": "3.10.13"
  }
 },
 "nbformat": 4,
 "nbformat_minor": 5
}
