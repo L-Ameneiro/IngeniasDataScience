{
 "cells": [
  {
   "cell_type": "markdown",
   "id": "165fa68d",
   "metadata": {},
   "source": [
    "# MODELO SUPERVISADO "
   ]
  },
  {
   "cell_type": "code",
   "execution_count": 202,
   "id": "5ff491dd",
   "metadata": {},
   "outputs": [],
   "source": [
    "# Se importan las librerías que se utilizarán: \n",
    "import numpy as np\n",
    "import pandas as pd\n",
    "import matplotlib.pyplot as plt\n",
    "import seaborn as sns \n",
    "import scipy as stats\n",
    "import re\n",
    "import heapq\n",
    "import matplotlib.cm as cm\n",
    "import os\n",
    "from sklearn.model_selection import train_test_split"
   ]
  },
  {
   "cell_type": "code",
   "execution_count": 203,
   "id": "2bfba850",
   "metadata": {},
   "outputs": [
    {
     "data": {
      "text/html": [
       "<div>\n",
       "<style scoped>\n",
       "    .dataframe tbody tr th:only-of-type {\n",
       "        vertical-align: middle;\n",
       "    }\n",
       "\n",
       "    .dataframe tbody tr th {\n",
       "        vertical-align: top;\n",
       "    }\n",
       "\n",
       "    .dataframe thead th {\n",
       "        text-align: right;\n",
       "    }\n",
       "</style>\n",
       "<table border=\"1\" class=\"dataframe\">\n",
       "  <thead>\n",
       "    <tr style=\"text-align: right;\">\n",
       "      <th></th>\n",
       "      <th>show_id</th>\n",
       "      <th>titulo</th>\n",
       "      <th>director</th>\n",
       "      <th>elenco</th>\n",
       "      <th>anio</th>\n",
       "      <th>clasificacion</th>\n",
       "      <th>duracion</th>\n",
       "      <th>plataforma</th>\n",
       "      <th>genero</th>\n",
       "      <th>codireccion</th>\n",
       "      <th>elenco_oscar</th>\n",
       "      <th>elenco_gg</th>\n",
       "      <th>punt_media</th>\n",
       "    </tr>\n",
       "  </thead>\n",
       "  <tbody>\n",
       "    <tr>\n",
       "      <th>0</th>\n",
       "      <td>as2</td>\n",
       "      <td>Take Care Good Night</td>\n",
       "      <td>Girish Joshi</td>\n",
       "      <td>Mahesh Manjrekar, Abhay Mahajan, Sachin Khedekar</td>\n",
       "      <td>2018</td>\n",
       "      <td>13+</td>\n",
       "      <td>110</td>\n",
       "      <td>amazon</td>\n",
       "      <td>Drama</td>\n",
       "      <td>0</td>\n",
       "      <td>0</td>\n",
       "      <td>0</td>\n",
       "      <td>3.548682</td>\n",
       "    </tr>\n",
       "    <tr>\n",
       "      <th>1</th>\n",
       "      <td>as17</td>\n",
       "      <td>Zoombies</td>\n",
       "      <td>Glenn Miller</td>\n",
       "      <td>Marcus Anderson, Kaiwi Lyman, Andrew Asper</td>\n",
       "      <td>2016</td>\n",
       "      <td>13+</td>\n",
       "      <td>87</td>\n",
       "      <td>amazon</td>\n",
       "      <td>Horror</td>\n",
       "      <td>0</td>\n",
       "      <td>0</td>\n",
       "      <td>0</td>\n",
       "      <td>3.498984</td>\n",
       "    </tr>\n",
       "    <tr>\n",
       "      <th>2</th>\n",
       "      <td>as20</td>\n",
       "      <td>Zoe</td>\n",
       "      <td>Drake Doremus</td>\n",
       "      <td>Ewan McGregor, Léa Seydoux, Theo James, Mirand...</td>\n",
       "      <td>2018</td>\n",
       "      <td>R</td>\n",
       "      <td>104</td>\n",
       "      <td>amazon</td>\n",
       "      <td>Science Fiction</td>\n",
       "      <td>0</td>\n",
       "      <td>0</td>\n",
       "      <td>0</td>\n",
       "      <td>3.586777</td>\n",
       "    </tr>\n",
       "    <tr>\n",
       "      <th>3</th>\n",
       "      <td>as23</td>\n",
       "      <td>Zis Boom Bah</td>\n",
       "      <td>William Nigh</td>\n",
       "      <td>Grace Hayes, Mary Healy</td>\n",
       "      <td>1941</td>\n",
       "      <td>NR/Sin clasificacion</td>\n",
       "      <td>62</td>\n",
       "      <td>amazon</td>\n",
       "      <td>Arts</td>\n",
       "      <td>0</td>\n",
       "      <td>0</td>\n",
       "      <td>0</td>\n",
       "      <td>3.594092</td>\n",
       "    </tr>\n",
       "    <tr>\n",
       "      <th>4</th>\n",
       "      <td>as25</td>\n",
       "      <td>Zandalee</td>\n",
       "      <td>Sam Pillsbury</td>\n",
       "      <td>Nicolas Cage, Judge Reinhold, Erika Anderson, ...</td>\n",
       "      <td>1991</td>\n",
       "      <td>R</td>\n",
       "      <td>94</td>\n",
       "      <td>amazon</td>\n",
       "      <td>Drama</td>\n",
       "      <td>0</td>\n",
       "      <td>0</td>\n",
       "      <td>0</td>\n",
       "      <td>3.552846</td>\n",
       "    </tr>\n",
       "    <tr>\n",
       "      <th>...</th>\n",
       "      <td>...</td>\n",
       "      <td>...</td>\n",
       "      <td>...</td>\n",
       "      <td>...</td>\n",
       "      <td>...</td>\n",
       "      <td>...</td>\n",
       "      <td>...</td>\n",
       "      <td>...</td>\n",
       "      <td>...</td>\n",
       "      <td>...</td>\n",
       "      <td>...</td>\n",
       "      <td>...</td>\n",
       "      <td>...</td>\n",
       "    </tr>\n",
       "    <tr>\n",
       "      <th>13021</th>\n",
       "      <td>ds1446</td>\n",
       "      <td>X-Men Origins: Wolverine</td>\n",
       "      <td>Gavin Hood</td>\n",
       "      <td>Hugh Jackman, Liev Schreiber, Danny Huston, wi...</td>\n",
       "      <td>2009</td>\n",
       "      <td>PG-13</td>\n",
       "      <td>108</td>\n",
       "      <td>disney</td>\n",
       "      <td>Action-Adventure</td>\n",
       "      <td>0</td>\n",
       "      <td>0</td>\n",
       "      <td>0</td>\n",
       "      <td>3.477035</td>\n",
       "    </tr>\n",
       "    <tr>\n",
       "      <th>13022</th>\n",
       "      <td>ds1447</td>\n",
       "      <td>Night at the Museum: Battle of the Smithsonian</td>\n",
       "      <td>Shawn Levy</td>\n",
       "      <td>Ben Stiller, Amy Adams, Owen Wilson, Hank Azar...</td>\n",
       "      <td>2009</td>\n",
       "      <td>PG</td>\n",
       "      <td>106</td>\n",
       "      <td>disney</td>\n",
       "      <td>Action-Adventure</td>\n",
       "      <td>0</td>\n",
       "      <td>0</td>\n",
       "      <td>0</td>\n",
       "      <td>3.492537</td>\n",
       "    </tr>\n",
       "    <tr>\n",
       "      <th>13023</th>\n",
       "      <td>ds1448</td>\n",
       "      <td>Eddie the Eagle</td>\n",
       "      <td>Dexter Fletcher</td>\n",
       "      <td>Tom Costello, Jo Hartley, Keith Allen, Dickon ...</td>\n",
       "      <td>2016</td>\n",
       "      <td>PG-13</td>\n",
       "      <td>107</td>\n",
       "      <td>disney</td>\n",
       "      <td>Biographical</td>\n",
       "      <td>0</td>\n",
       "      <td>0</td>\n",
       "      <td>0</td>\n",
       "      <td>3.558522</td>\n",
       "    </tr>\n",
       "    <tr>\n",
       "      <th>13024</th>\n",
       "      <td>ds1449</td>\n",
       "      <td>Bend It Like Beckham</td>\n",
       "      <td>Gurinder Chadha</td>\n",
       "      <td>Parminder Nagra, Keira Knightley, Jonathan Rhy...</td>\n",
       "      <td>2003</td>\n",
       "      <td>PG-13</td>\n",
       "      <td>112</td>\n",
       "      <td>disney</td>\n",
       "      <td>Buddy</td>\n",
       "      <td>0</td>\n",
       "      <td>0</td>\n",
       "      <td>0</td>\n",
       "      <td>3.628409</td>\n",
       "    </tr>\n",
       "    <tr>\n",
       "      <th>13025</th>\n",
       "      <td>ds1450</td>\n",
       "      <td>Captain Sparky vs. The Flying Saucers</td>\n",
       "      <td>Mark Waring</td>\n",
       "      <td>Charlie Tahan</td>\n",
       "      <td>2012</td>\n",
       "      <td>TV-G</td>\n",
       "      <td>2</td>\n",
       "      <td>disney</td>\n",
       "      <td>Action-Adventure</td>\n",
       "      <td>0</td>\n",
       "      <td>0</td>\n",
       "      <td>0</td>\n",
       "      <td>3.539014</td>\n",
       "    </tr>\n",
       "  </tbody>\n",
       "</table>\n",
       "<p>13026 rows × 13 columns</p>\n",
       "</div>"
      ],
      "text/plain": [
       "      show_id                                          titulo  \\\n",
       "0         as2                            Take Care Good Night   \n",
       "1        as17                                        Zoombies   \n",
       "2        as20                                             Zoe   \n",
       "3        as23                                    Zis Boom Bah   \n",
       "4        as25                                        Zandalee   \n",
       "...       ...                                             ...   \n",
       "13021  ds1446                        X-Men Origins: Wolverine   \n",
       "13022  ds1447  Night at the Museum: Battle of the Smithsonian   \n",
       "13023  ds1448                                 Eddie the Eagle   \n",
       "13024  ds1449                            Bend It Like Beckham   \n",
       "13025  ds1450           Captain Sparky vs. The Flying Saucers   \n",
       "\n",
       "              director                                             elenco  \\\n",
       "0         Girish Joshi   Mahesh Manjrekar, Abhay Mahajan, Sachin Khedekar   \n",
       "1         Glenn Miller         Marcus Anderson, Kaiwi Lyman, Andrew Asper   \n",
       "2        Drake Doremus  Ewan McGregor, Léa Seydoux, Theo James, Mirand...   \n",
       "3         William Nigh                            Grace Hayes, Mary Healy   \n",
       "4        Sam Pillsbury  Nicolas Cage, Judge Reinhold, Erika Anderson, ...   \n",
       "...                ...                                                ...   \n",
       "13021       Gavin Hood  Hugh Jackman, Liev Schreiber, Danny Huston, wi...   \n",
       "13022       Shawn Levy  Ben Stiller, Amy Adams, Owen Wilson, Hank Azar...   \n",
       "13023  Dexter Fletcher  Tom Costello, Jo Hartley, Keith Allen, Dickon ...   \n",
       "13024  Gurinder Chadha  Parminder Nagra, Keira Knightley, Jonathan Rhy...   \n",
       "13025      Mark Waring                                      Charlie Tahan   \n",
       "\n",
       "       anio         clasificacion  duracion plataforma            genero  \\\n",
       "0      2018                   13+       110     amazon             Drama   \n",
       "1      2016                   13+        87     amazon            Horror   \n",
       "2      2018                     R       104     amazon   Science Fiction   \n",
       "3      1941  NR/Sin clasificacion        62     amazon              Arts   \n",
       "4      1991                     R        94     amazon             Drama   \n",
       "...     ...                   ...       ...        ...               ...   \n",
       "13021  2009                 PG-13       108     disney  Action-Adventure   \n",
       "13022  2009                    PG       106     disney  Action-Adventure   \n",
       "13023  2016                 PG-13       107     disney      Biographical   \n",
       "13024  2003                 PG-13       112     disney             Buddy   \n",
       "13025  2012                  TV-G         2     disney  Action-Adventure   \n",
       "\n",
       "       codireccion  elenco_oscar  elenco_gg  punt_media  \n",
       "0                0             0          0    3.548682  \n",
       "1                0             0          0    3.498984  \n",
       "2                0             0          0    3.586777  \n",
       "3                0             0          0    3.594092  \n",
       "4                0             0          0    3.552846  \n",
       "...            ...           ...        ...         ...  \n",
       "13021            0             0          0    3.477035  \n",
       "13022            0             0          0    3.492537  \n",
       "13023            0             0          0    3.558522  \n",
       "13024            0             0          0    3.628409  \n",
       "13025            0             0          0    3.539014  \n",
       "\n",
       "[13026 rows x 13 columns]"
      ]
     },
     "execution_count": 203,
     "metadata": {},
     "output_type": "execute_result"
    }
   ],
   "source": [
    "# Se importa el dataset final (CSV) y se visualiza\n",
    "peliculas5=pd.read_csv(r'..\\\\datasets\\\\peliculas_final.csv')\n",
    "peliculas5"
   ]
  },
  {
   "cell_type": "code",
   "execution_count": 206,
   "id": "8384b846",
   "metadata": {},
   "outputs": [
    {
     "ename": "RecursionError",
     "evalue": "maximum recursion depth exceeded while calling a Python object",
     "output_type": "error",
     "traceback": [
      "\u001b[1;31m---------------------------------------------------------------------------\u001b[0m",
      "\u001b[1;31mRecursionError\u001b[0m                            Traceback (most recent call last)",
      "File \u001b[1;32mc:\\ProgramData\\anaconda3\\Lib\\site-packages\\IPython\\core\\formatters.py:708\u001b[0m, in \u001b[0;36mPlainTextFormatter.__call__\u001b[1;34m(self, obj)\u001b[0m\n\u001b[0;32m    701\u001b[0m stream \u001b[39m=\u001b[39m StringIO()\n\u001b[0;32m    702\u001b[0m printer \u001b[39m=\u001b[39m pretty\u001b[39m.\u001b[39mRepresentationPrinter(stream, \u001b[39mself\u001b[39m\u001b[39m.\u001b[39mverbose,\n\u001b[0;32m    703\u001b[0m     \u001b[39mself\u001b[39m\u001b[39m.\u001b[39mmax_width, \u001b[39mself\u001b[39m\u001b[39m.\u001b[39mnewline,\n\u001b[0;32m    704\u001b[0m     max_seq_length\u001b[39m=\u001b[39m\u001b[39mself\u001b[39m\u001b[39m.\u001b[39mmax_seq_length,\n\u001b[0;32m    705\u001b[0m     singleton_pprinters\u001b[39m=\u001b[39m\u001b[39mself\u001b[39m\u001b[39m.\u001b[39msingleton_printers,\n\u001b[0;32m    706\u001b[0m     type_pprinters\u001b[39m=\u001b[39m\u001b[39mself\u001b[39m\u001b[39m.\u001b[39mtype_printers,\n\u001b[0;32m    707\u001b[0m     deferred_pprinters\u001b[39m=\u001b[39m\u001b[39mself\u001b[39m\u001b[39m.\u001b[39mdeferred_printers)\n\u001b[1;32m--> 708\u001b[0m printer\u001b[39m.\u001b[39mpretty(obj)\n\u001b[0;32m    709\u001b[0m printer\u001b[39m.\u001b[39mflush()\n\u001b[0;32m    710\u001b[0m \u001b[39mreturn\u001b[39;00m stream\u001b[39m.\u001b[39mgetvalue()\n",
      "File \u001b[1;32mc:\\ProgramData\\anaconda3\\Lib\\site-packages\\IPython\\lib\\pretty.py:410\u001b[0m, in \u001b[0;36mRepresentationPrinter.pretty\u001b[1;34m(self, obj)\u001b[0m\n\u001b[0;32m    407\u001b[0m                         \u001b[39mreturn\u001b[39;00m meth(obj, \u001b[39mself\u001b[39m, cycle)\n\u001b[0;32m    408\u001b[0m                 \u001b[39mif\u001b[39;00m \u001b[39mcls\u001b[39m \u001b[39mis\u001b[39;00m \u001b[39mnot\u001b[39;00m \u001b[39mobject\u001b[39m \\\n\u001b[0;32m    409\u001b[0m                         \u001b[39mand\u001b[39;00m \u001b[39mcallable\u001b[39m(\u001b[39mcls\u001b[39m\u001b[39m.\u001b[39m\u001b[39m__dict__\u001b[39m\u001b[39m.\u001b[39mget(\u001b[39m'\u001b[39m\u001b[39m__repr__\u001b[39m\u001b[39m'\u001b[39m)):\n\u001b[1;32m--> 410\u001b[0m                     \u001b[39mreturn\u001b[39;00m _repr_pprint(obj, \u001b[39mself\u001b[39m, cycle)\n\u001b[0;32m    412\u001b[0m     \u001b[39mreturn\u001b[39;00m _default_pprint(obj, \u001b[39mself\u001b[39m, cycle)\n\u001b[0;32m    413\u001b[0m \u001b[39mfinally\u001b[39;00m:\n",
      "File \u001b[1;32mc:\\ProgramData\\anaconda3\\Lib\\site-packages\\IPython\\lib\\pretty.py:778\u001b[0m, in \u001b[0;36m_repr_pprint\u001b[1;34m(obj, p, cycle)\u001b[0m\n\u001b[0;32m    776\u001b[0m \u001b[39m\u001b[39m\u001b[39m\"\"\"A pprint that just redirects to the normal repr function.\"\"\"\u001b[39;00m\n\u001b[0;32m    777\u001b[0m \u001b[39m# Find newlines and replace them with p.break_()\u001b[39;00m\n\u001b[1;32m--> 778\u001b[0m output \u001b[39m=\u001b[39m \u001b[39mrepr\u001b[39m(obj)\n\u001b[0;32m    779\u001b[0m lines \u001b[39m=\u001b[39m output\u001b[39m.\u001b[39msplitlines()\n\u001b[0;32m    780\u001b[0m \u001b[39mwith\u001b[39;00m p\u001b[39m.\u001b[39mgroup():\n",
      "File \u001b[1;32mc:\\ProgramData\\anaconda3\\Lib\\site-packages\\pandas\\core\\series.py:1594\u001b[0m, in \u001b[0;36mSeries.__repr__\u001b[1;34m(self)\u001b[0m\n\u001b[0;32m   1590\u001b[0m \u001b[39m\u001b[39m\u001b[39m\"\"\"\u001b[39;00m\n\u001b[0;32m   1591\u001b[0m \u001b[39mReturn a string representation for a particular Series.\u001b[39;00m\n\u001b[0;32m   1592\u001b[0m \u001b[39m\"\"\"\u001b[39;00m\n\u001b[0;32m   1593\u001b[0m repr_params \u001b[39m=\u001b[39m fmt\u001b[39m.\u001b[39mget_series_repr_params()\n\u001b[1;32m-> 1594\u001b[0m \u001b[39mreturn\u001b[39;00m \u001b[39mself\u001b[39m\u001b[39m.\u001b[39mto_string(\u001b[39m*\u001b[39m\u001b[39m*\u001b[39mrepr_params)\n",
      "File \u001b[1;32mc:\\ProgramData\\anaconda3\\Lib\\site-packages\\pandas\\core\\series.py:1687\u001b[0m, in \u001b[0;36mSeries.to_string\u001b[1;34m(self, buf, na_rep, float_format, header, index, length, dtype, name, max_rows, min_rows)\u001b[0m\n\u001b[0;32m   1641\u001b[0m \u001b[39m\u001b[39m\u001b[39m\"\"\"\u001b[39;00m\n\u001b[0;32m   1642\u001b[0m \u001b[39mRender a string representation of the Series.\u001b[39;00m\n\u001b[0;32m   1643\u001b[0m \n\u001b[1;32m   (...)\u001b[0m\n\u001b[0;32m   1673\u001b[0m \u001b[39m    String representation of Series if ``buf=None``, otherwise None.\u001b[39;00m\n\u001b[0;32m   1674\u001b[0m \u001b[39m\"\"\"\u001b[39;00m\n\u001b[0;32m   1675\u001b[0m formatter \u001b[39m=\u001b[39m fmt\u001b[39m.\u001b[39mSeriesFormatter(\n\u001b[0;32m   1676\u001b[0m     \u001b[39mself\u001b[39m,\n\u001b[0;32m   1677\u001b[0m     name\u001b[39m=\u001b[39mname,\n\u001b[1;32m   (...)\u001b[0m\n\u001b[0;32m   1685\u001b[0m     max_rows\u001b[39m=\u001b[39mmax_rows,\n\u001b[0;32m   1686\u001b[0m )\n\u001b[1;32m-> 1687\u001b[0m result \u001b[39m=\u001b[39m formatter\u001b[39m.\u001b[39mto_string()\n\u001b[0;32m   1689\u001b[0m \u001b[39m# catch contract violations\u001b[39;00m\n\u001b[0;32m   1690\u001b[0m \u001b[39mif\u001b[39;00m \u001b[39mnot\u001b[39;00m \u001b[39misinstance\u001b[39m(result, \u001b[39mstr\u001b[39m):\n",
      "File \u001b[1;32mc:\\ProgramData\\anaconda3\\Lib\\site-packages\\pandas\\io\\formats\\format.py:397\u001b[0m, in \u001b[0;36mSeriesFormatter.to_string\u001b[1;34m(self)\u001b[0m\n\u001b[0;32m    394\u001b[0m     \u001b[39mreturn\u001b[39;00m \u001b[39mf\u001b[39m\u001b[39m\"\u001b[39m\u001b[39m{\u001b[39;00m\u001b[39mtype\u001b[39m(\u001b[39mself\u001b[39m\u001b[39m.\u001b[39mseries)\u001b[39m.\u001b[39m\u001b[39m__name__\u001b[39m\u001b[39m}\u001b[39;00m\u001b[39m([], \u001b[39m\u001b[39m{\u001b[39;00mfooter\u001b[39m}\u001b[39;00m\u001b[39m)\u001b[39m\u001b[39m\"\u001b[39m\n\u001b[0;32m    396\u001b[0m fmt_index, have_header \u001b[39m=\u001b[39m \u001b[39mself\u001b[39m\u001b[39m.\u001b[39m_get_formatted_index()\n\u001b[1;32m--> 397\u001b[0m fmt_values \u001b[39m=\u001b[39m \u001b[39mself\u001b[39m\u001b[39m.\u001b[39m_get_formatted_values()\n\u001b[0;32m    399\u001b[0m \u001b[39mif\u001b[39;00m \u001b[39mself\u001b[39m\u001b[39m.\u001b[39mis_truncated_vertically:\n\u001b[0;32m    400\u001b[0m     n_header_rows \u001b[39m=\u001b[39m \u001b[39m0\u001b[39m\n",
      "File \u001b[1;32mc:\\ProgramData\\anaconda3\\Lib\\site-packages\\pandas\\io\\formats\\format.py:381\u001b[0m, in \u001b[0;36mSeriesFormatter._get_formatted_values\u001b[1;34m(self)\u001b[0m\n\u001b[0;32m    380\u001b[0m \u001b[39mdef\u001b[39;00m \u001b[39m_get_formatted_values\u001b[39m(\u001b[39mself\u001b[39m) \u001b[39m-\u001b[39m\u001b[39m>\u001b[39m \u001b[39mlist\u001b[39m[\u001b[39mstr\u001b[39m]:\n\u001b[1;32m--> 381\u001b[0m     \u001b[39mreturn\u001b[39;00m format_array(\n\u001b[0;32m    382\u001b[0m         \u001b[39mself\u001b[39m\u001b[39m.\u001b[39mtr_series\u001b[39m.\u001b[39m_values,\n\u001b[0;32m    383\u001b[0m         \u001b[39mNone\u001b[39;00m,\n\u001b[0;32m    384\u001b[0m         float_format\u001b[39m=\u001b[39m\u001b[39mself\u001b[39m\u001b[39m.\u001b[39mfloat_format,\n\u001b[0;32m    385\u001b[0m         na_rep\u001b[39m=\u001b[39m\u001b[39mself\u001b[39m\u001b[39m.\u001b[39mna_rep,\n\u001b[0;32m    386\u001b[0m         leading_space\u001b[39m=\u001b[39m\u001b[39mself\u001b[39m\u001b[39m.\u001b[39mindex,\n\u001b[0;32m    387\u001b[0m     )\n",
      "File \u001b[1;32mc:\\ProgramData\\anaconda3\\Lib\\site-packages\\pandas\\io\\formats\\format.py:1328\u001b[0m, in \u001b[0;36mformat_array\u001b[1;34m(values, formatter, float_format, na_rep, digits, space, justify, decimal, leading_space, quoting)\u001b[0m\n\u001b[0;32m   1313\u001b[0m     digits \u001b[39m=\u001b[39m get_option(\u001b[39m\"\u001b[39m\u001b[39mdisplay.precision\u001b[39m\u001b[39m\"\u001b[39m)\n\u001b[0;32m   1315\u001b[0m fmt_obj \u001b[39m=\u001b[39m fmt_klass(\n\u001b[0;32m   1316\u001b[0m     values,\n\u001b[0;32m   1317\u001b[0m     digits\u001b[39m=\u001b[39mdigits,\n\u001b[1;32m   (...)\u001b[0m\n\u001b[0;32m   1325\u001b[0m     quoting\u001b[39m=\u001b[39mquoting,\n\u001b[0;32m   1326\u001b[0m )\n\u001b[1;32m-> 1328\u001b[0m \u001b[39mreturn\u001b[39;00m fmt_obj\u001b[39m.\u001b[39mget_result()\n",
      "File \u001b[1;32mc:\\ProgramData\\anaconda3\\Lib\\site-packages\\pandas\\io\\formats\\format.py:1359\u001b[0m, in \u001b[0;36mGenericArrayFormatter.get_result\u001b[1;34m(self)\u001b[0m\n\u001b[0;32m   1358\u001b[0m \u001b[39mdef\u001b[39;00m \u001b[39mget_result\u001b[39m(\u001b[39mself\u001b[39m) \u001b[39m-\u001b[39m\u001b[39m>\u001b[39m \u001b[39mlist\u001b[39m[\u001b[39mstr\u001b[39m]:\n\u001b[1;32m-> 1359\u001b[0m     fmt_values \u001b[39m=\u001b[39m \u001b[39mself\u001b[39m\u001b[39m.\u001b[39m_format_strings()\n\u001b[0;32m   1360\u001b[0m     \u001b[39mreturn\u001b[39;00m _make_fixed_width(fmt_values, \u001b[39mself\u001b[39m\u001b[39m.\u001b[39mjustify)\n",
      "File \u001b[1;32mc:\\ProgramData\\anaconda3\\Lib\\site-packages\\pandas\\io\\formats\\format.py:1422\u001b[0m, in \u001b[0;36mGenericArrayFormatter._format_strings\u001b[1;34m(self)\u001b[0m\n\u001b[0;32m   1420\u001b[0m \u001b[39mfor\u001b[39;00m i, v \u001b[39min\u001b[39;00m \u001b[39menumerate\u001b[39m(vals):\n\u001b[0;32m   1421\u001b[0m     \u001b[39mif\u001b[39;00m \u001b[39mnot\u001b[39;00m is_float_type[i] \u001b[39mand\u001b[39;00m leading_space:\n\u001b[1;32m-> 1422\u001b[0m         fmt_values\u001b[39m.\u001b[39mappend(\u001b[39mf\u001b[39m\u001b[39m\"\u001b[39m\u001b[39m \u001b[39m\u001b[39m{\u001b[39;00m_format(v)\u001b[39m}\u001b[39;00m\u001b[39m\"\u001b[39m)\n\u001b[0;32m   1423\u001b[0m     \u001b[39melif\u001b[39;00m is_float_type[i]:\n\u001b[0;32m   1424\u001b[0m         fmt_values\u001b[39m.\u001b[39mappend(float_format(v))\n",
      "File \u001b[1;32mc:\\ProgramData\\anaconda3\\Lib\\site-packages\\pandas\\io\\formats\\format.py:1399\u001b[0m, in \u001b[0;36mGenericArrayFormatter._format_strings.<locals>._format\u001b[1;34m(x)\u001b[0m\n\u001b[0;32m   1397\u001b[0m     \u001b[39mreturn\u001b[39;00m \u001b[39mself\u001b[39m\u001b[39m.\u001b[39mna_rep\n\u001b[0;32m   1398\u001b[0m \u001b[39melif\u001b[39;00m \u001b[39misinstance\u001b[39m(x, PandasObject):\n\u001b[1;32m-> 1399\u001b[0m     \u001b[39mreturn\u001b[39;00m \u001b[39mstr\u001b[39m(x)\n\u001b[0;32m   1400\u001b[0m \u001b[39melse\u001b[39;00m:\n\u001b[0;32m   1401\u001b[0m     \u001b[39m# object dtype\u001b[39;00m\n\u001b[0;32m   1402\u001b[0m     \u001b[39mreturn\u001b[39;00m \u001b[39mstr\u001b[39m(formatter(x))\n",
      "File \u001b[1;32mc:\\ProgramData\\anaconda3\\Lib\\site-packages\\pandas\\core\\series.py:1594\u001b[0m, in \u001b[0;36mSeries.__repr__\u001b[1;34m(self)\u001b[0m\n\u001b[0;32m   1590\u001b[0m \u001b[39m\u001b[39m\u001b[39m\"\"\"\u001b[39;00m\n\u001b[0;32m   1591\u001b[0m \u001b[39mReturn a string representation for a particular Series.\u001b[39;00m\n\u001b[0;32m   1592\u001b[0m \u001b[39m\"\"\"\u001b[39;00m\n\u001b[0;32m   1593\u001b[0m repr_params \u001b[39m=\u001b[39m fmt\u001b[39m.\u001b[39mget_series_repr_params()\n\u001b[1;32m-> 1594\u001b[0m \u001b[39mreturn\u001b[39;00m \u001b[39mself\u001b[39m\u001b[39m.\u001b[39mto_string(\u001b[39m*\u001b[39m\u001b[39m*\u001b[39mrepr_params)\n",
      "File \u001b[1;32mc:\\ProgramData\\anaconda3\\Lib\\site-packages\\pandas\\core\\series.py:1687\u001b[0m, in \u001b[0;36mSeries.to_string\u001b[1;34m(self, buf, na_rep, float_format, header, index, length, dtype, name, max_rows, min_rows)\u001b[0m\n\u001b[0;32m   1641\u001b[0m \u001b[39m\u001b[39m\u001b[39m\"\"\"\u001b[39;00m\n\u001b[0;32m   1642\u001b[0m \u001b[39mRender a string representation of the Series.\u001b[39;00m\n\u001b[0;32m   1643\u001b[0m \n\u001b[1;32m   (...)\u001b[0m\n\u001b[0;32m   1673\u001b[0m \u001b[39m    String representation of Series if ``buf=None``, otherwise None.\u001b[39;00m\n\u001b[0;32m   1674\u001b[0m \u001b[39m\"\"\"\u001b[39;00m\n\u001b[0;32m   1675\u001b[0m formatter \u001b[39m=\u001b[39m fmt\u001b[39m.\u001b[39mSeriesFormatter(\n\u001b[0;32m   1676\u001b[0m     \u001b[39mself\u001b[39m,\n\u001b[0;32m   1677\u001b[0m     name\u001b[39m=\u001b[39mname,\n\u001b[1;32m   (...)\u001b[0m\n\u001b[0;32m   1685\u001b[0m     max_rows\u001b[39m=\u001b[39mmax_rows,\n\u001b[0;32m   1686\u001b[0m )\n\u001b[1;32m-> 1687\u001b[0m result \u001b[39m=\u001b[39m formatter\u001b[39m.\u001b[39mto_string()\n\u001b[0;32m   1689\u001b[0m \u001b[39m# catch contract violations\u001b[39;00m\n\u001b[0;32m   1690\u001b[0m \u001b[39mif\u001b[39;00m \u001b[39mnot\u001b[39;00m \u001b[39misinstance\u001b[39m(result, \u001b[39mstr\u001b[39m):\n",
      "File \u001b[1;32mc:\\ProgramData\\anaconda3\\Lib\\site-packages\\pandas\\io\\formats\\format.py:397\u001b[0m, in \u001b[0;36mSeriesFormatter.to_string\u001b[1;34m(self)\u001b[0m\n\u001b[0;32m    394\u001b[0m     \u001b[39mreturn\u001b[39;00m \u001b[39mf\u001b[39m\u001b[39m\"\u001b[39m\u001b[39m{\u001b[39;00m\u001b[39mtype\u001b[39m(\u001b[39mself\u001b[39m\u001b[39m.\u001b[39mseries)\u001b[39m.\u001b[39m\u001b[39m__name__\u001b[39m\u001b[39m}\u001b[39;00m\u001b[39m([], \u001b[39m\u001b[39m{\u001b[39;00mfooter\u001b[39m}\u001b[39;00m\u001b[39m)\u001b[39m\u001b[39m\"\u001b[39m\n\u001b[0;32m    396\u001b[0m fmt_index, have_header \u001b[39m=\u001b[39m \u001b[39mself\u001b[39m\u001b[39m.\u001b[39m_get_formatted_index()\n\u001b[1;32m--> 397\u001b[0m fmt_values \u001b[39m=\u001b[39m \u001b[39mself\u001b[39m\u001b[39m.\u001b[39m_get_formatted_values()\n\u001b[0;32m    399\u001b[0m \u001b[39mif\u001b[39;00m \u001b[39mself\u001b[39m\u001b[39m.\u001b[39mis_truncated_vertically:\n\u001b[0;32m    400\u001b[0m     n_header_rows \u001b[39m=\u001b[39m \u001b[39m0\u001b[39m\n",
      "File \u001b[1;32mc:\\ProgramData\\anaconda3\\Lib\\site-packages\\pandas\\io\\formats\\format.py:381\u001b[0m, in \u001b[0;36mSeriesFormatter._get_formatted_values\u001b[1;34m(self)\u001b[0m\n\u001b[0;32m    380\u001b[0m \u001b[39mdef\u001b[39;00m \u001b[39m_get_formatted_values\u001b[39m(\u001b[39mself\u001b[39m) \u001b[39m-\u001b[39m\u001b[39m>\u001b[39m \u001b[39mlist\u001b[39m[\u001b[39mstr\u001b[39m]:\n\u001b[1;32m--> 381\u001b[0m     \u001b[39mreturn\u001b[39;00m format_array(\n\u001b[0;32m    382\u001b[0m         \u001b[39mself\u001b[39m\u001b[39m.\u001b[39mtr_series\u001b[39m.\u001b[39m_values,\n\u001b[0;32m    383\u001b[0m         \u001b[39mNone\u001b[39;00m,\n\u001b[0;32m    384\u001b[0m         float_format\u001b[39m=\u001b[39m\u001b[39mself\u001b[39m\u001b[39m.\u001b[39mfloat_format,\n\u001b[0;32m    385\u001b[0m         na_rep\u001b[39m=\u001b[39m\u001b[39mself\u001b[39m\u001b[39m.\u001b[39mna_rep,\n\u001b[0;32m    386\u001b[0m         leading_space\u001b[39m=\u001b[39m\u001b[39mself\u001b[39m\u001b[39m.\u001b[39mindex,\n\u001b[0;32m    387\u001b[0m     )\n",
      "File \u001b[1;32mc:\\ProgramData\\anaconda3\\Lib\\site-packages\\pandas\\io\\formats\\format.py:1328\u001b[0m, in \u001b[0;36mformat_array\u001b[1;34m(values, formatter, float_format, na_rep, digits, space, justify, decimal, leading_space, quoting)\u001b[0m\n\u001b[0;32m   1313\u001b[0m     digits \u001b[39m=\u001b[39m get_option(\u001b[39m\"\u001b[39m\u001b[39mdisplay.precision\u001b[39m\u001b[39m\"\u001b[39m)\n\u001b[0;32m   1315\u001b[0m fmt_obj \u001b[39m=\u001b[39m fmt_klass(\n\u001b[0;32m   1316\u001b[0m     values,\n\u001b[0;32m   1317\u001b[0m     digits\u001b[39m=\u001b[39mdigits,\n\u001b[1;32m   (...)\u001b[0m\n\u001b[0;32m   1325\u001b[0m     quoting\u001b[39m=\u001b[39mquoting,\n\u001b[0;32m   1326\u001b[0m )\n\u001b[1;32m-> 1328\u001b[0m \u001b[39mreturn\u001b[39;00m fmt_obj\u001b[39m.\u001b[39mget_result()\n",
      "File \u001b[1;32mc:\\ProgramData\\anaconda3\\Lib\\site-packages\\pandas\\io\\formats\\format.py:1359\u001b[0m, in \u001b[0;36mGenericArrayFormatter.get_result\u001b[1;34m(self)\u001b[0m\n\u001b[0;32m   1358\u001b[0m \u001b[39mdef\u001b[39;00m \u001b[39mget_result\u001b[39m(\u001b[39mself\u001b[39m) \u001b[39m-\u001b[39m\u001b[39m>\u001b[39m \u001b[39mlist\u001b[39m[\u001b[39mstr\u001b[39m]:\n\u001b[1;32m-> 1359\u001b[0m     fmt_values \u001b[39m=\u001b[39m \u001b[39mself\u001b[39m\u001b[39m.\u001b[39m_format_strings()\n\u001b[0;32m   1360\u001b[0m     \u001b[39mreturn\u001b[39;00m _make_fixed_width(fmt_values, \u001b[39mself\u001b[39m\u001b[39m.\u001b[39mjustify)\n",
      "File \u001b[1;32mc:\\ProgramData\\anaconda3\\Lib\\site-packages\\pandas\\io\\formats\\format.py:1422\u001b[0m, in \u001b[0;36mGenericArrayFormatter._format_strings\u001b[1;34m(self)\u001b[0m\n\u001b[0;32m   1420\u001b[0m \u001b[39mfor\u001b[39;00m i, v \u001b[39min\u001b[39;00m \u001b[39menumerate\u001b[39m(vals):\n\u001b[0;32m   1421\u001b[0m     \u001b[39mif\u001b[39;00m \u001b[39mnot\u001b[39;00m is_float_type[i] \u001b[39mand\u001b[39;00m leading_space:\n\u001b[1;32m-> 1422\u001b[0m         fmt_values\u001b[39m.\u001b[39mappend(\u001b[39mf\u001b[39m\u001b[39m\"\u001b[39m\u001b[39m \u001b[39m\u001b[39m{\u001b[39;00m_format(v)\u001b[39m}\u001b[39;00m\u001b[39m\"\u001b[39m)\n\u001b[0;32m   1423\u001b[0m     \u001b[39melif\u001b[39;00m is_float_type[i]:\n\u001b[0;32m   1424\u001b[0m         fmt_values\u001b[39m.\u001b[39mappend(float_format(v))\n",
      "File \u001b[1;32mc:\\ProgramData\\anaconda3\\Lib\\site-packages\\pandas\\io\\formats\\format.py:1399\u001b[0m, in \u001b[0;36mGenericArrayFormatter._format_strings.<locals>._format\u001b[1;34m(x)\u001b[0m\n\u001b[0;32m   1397\u001b[0m     \u001b[39mreturn\u001b[39;00m \u001b[39mself\u001b[39m\u001b[39m.\u001b[39mna_rep\n\u001b[0;32m   1398\u001b[0m \u001b[39melif\u001b[39;00m \u001b[39misinstance\u001b[39m(x, PandasObject):\n\u001b[1;32m-> 1399\u001b[0m     \u001b[39mreturn\u001b[39;00m \u001b[39mstr\u001b[39m(x)\n\u001b[0;32m   1400\u001b[0m \u001b[39melse\u001b[39;00m:\n\u001b[0;32m   1401\u001b[0m     \u001b[39m# object dtype\u001b[39;00m\n\u001b[0;32m   1402\u001b[0m     \u001b[39mreturn\u001b[39;00m \u001b[39mstr\u001b[39m(formatter(x))\n",
      "    \u001b[1;31m[... skipping similar frames: Series.__repr__ at line 1594 (325 times), GenericArrayFormatter._format_strings.<locals>._format at line 1399 (324 times), GenericArrayFormatter._format_strings at line 1422 (324 times), SeriesFormatter._get_formatted_values at line 381 (324 times), format_array at line 1328 (324 times), GenericArrayFormatter.get_result at line 1359 (324 times), Series.to_string at line 1687 (324 times), SeriesFormatter.to_string at line 397 (324 times)]\u001b[0m\n",
      "File \u001b[1;32mc:\\ProgramData\\anaconda3\\Lib\\site-packages\\pandas\\core\\series.py:1687\u001b[0m, in \u001b[0;36mSeries.to_string\u001b[1;34m(self, buf, na_rep, float_format, header, index, length, dtype, name, max_rows, min_rows)\u001b[0m\n\u001b[0;32m   1641\u001b[0m \u001b[39m\u001b[39m\u001b[39m\"\"\"\u001b[39;00m\n\u001b[0;32m   1642\u001b[0m \u001b[39mRender a string representation of the Series.\u001b[39;00m\n\u001b[0;32m   1643\u001b[0m \n\u001b[1;32m   (...)\u001b[0m\n\u001b[0;32m   1673\u001b[0m \u001b[39m    String representation of Series if ``buf=None``, otherwise None.\u001b[39;00m\n\u001b[0;32m   1674\u001b[0m \u001b[39m\"\"\"\u001b[39;00m\n\u001b[0;32m   1675\u001b[0m formatter \u001b[39m=\u001b[39m fmt\u001b[39m.\u001b[39mSeriesFormatter(\n\u001b[0;32m   1676\u001b[0m     \u001b[39mself\u001b[39m,\n\u001b[0;32m   1677\u001b[0m     name\u001b[39m=\u001b[39mname,\n\u001b[1;32m   (...)\u001b[0m\n\u001b[0;32m   1685\u001b[0m     max_rows\u001b[39m=\u001b[39mmax_rows,\n\u001b[0;32m   1686\u001b[0m )\n\u001b[1;32m-> 1687\u001b[0m result \u001b[39m=\u001b[39m formatter\u001b[39m.\u001b[39mto_string()\n\u001b[0;32m   1689\u001b[0m \u001b[39m# catch contract violations\u001b[39;00m\n\u001b[0;32m   1690\u001b[0m \u001b[39mif\u001b[39;00m \u001b[39mnot\u001b[39;00m \u001b[39misinstance\u001b[39m(result, \u001b[39mstr\u001b[39m):\n",
      "File \u001b[1;32mc:\\ProgramData\\anaconda3\\Lib\\site-packages\\pandas\\io\\formats\\format.py:397\u001b[0m, in \u001b[0;36mSeriesFormatter.to_string\u001b[1;34m(self)\u001b[0m\n\u001b[0;32m    394\u001b[0m     \u001b[39mreturn\u001b[39;00m \u001b[39mf\u001b[39m\u001b[39m\"\u001b[39m\u001b[39m{\u001b[39;00m\u001b[39mtype\u001b[39m(\u001b[39mself\u001b[39m\u001b[39m.\u001b[39mseries)\u001b[39m.\u001b[39m\u001b[39m__name__\u001b[39m\u001b[39m}\u001b[39;00m\u001b[39m([], \u001b[39m\u001b[39m{\u001b[39;00mfooter\u001b[39m}\u001b[39;00m\u001b[39m)\u001b[39m\u001b[39m\"\u001b[39m\n\u001b[0;32m    396\u001b[0m fmt_index, have_header \u001b[39m=\u001b[39m \u001b[39mself\u001b[39m\u001b[39m.\u001b[39m_get_formatted_index()\n\u001b[1;32m--> 397\u001b[0m fmt_values \u001b[39m=\u001b[39m \u001b[39mself\u001b[39m\u001b[39m.\u001b[39m_get_formatted_values()\n\u001b[0;32m    399\u001b[0m \u001b[39mif\u001b[39;00m \u001b[39mself\u001b[39m\u001b[39m.\u001b[39mis_truncated_vertically:\n\u001b[0;32m    400\u001b[0m     n_header_rows \u001b[39m=\u001b[39m \u001b[39m0\u001b[39m\n",
      "File \u001b[1;32mc:\\ProgramData\\anaconda3\\Lib\\site-packages\\pandas\\io\\formats\\format.py:381\u001b[0m, in \u001b[0;36mSeriesFormatter._get_formatted_values\u001b[1;34m(self)\u001b[0m\n\u001b[0;32m    380\u001b[0m \u001b[39mdef\u001b[39;00m \u001b[39m_get_formatted_values\u001b[39m(\u001b[39mself\u001b[39m) \u001b[39m-\u001b[39m\u001b[39m>\u001b[39m \u001b[39mlist\u001b[39m[\u001b[39mstr\u001b[39m]:\n\u001b[1;32m--> 381\u001b[0m     \u001b[39mreturn\u001b[39;00m format_array(\n\u001b[0;32m    382\u001b[0m         \u001b[39mself\u001b[39m\u001b[39m.\u001b[39mtr_series\u001b[39m.\u001b[39m_values,\n\u001b[0;32m    383\u001b[0m         \u001b[39mNone\u001b[39;00m,\n\u001b[0;32m    384\u001b[0m         float_format\u001b[39m=\u001b[39m\u001b[39mself\u001b[39m\u001b[39m.\u001b[39mfloat_format,\n\u001b[0;32m    385\u001b[0m         na_rep\u001b[39m=\u001b[39m\u001b[39mself\u001b[39m\u001b[39m.\u001b[39mna_rep,\n\u001b[0;32m    386\u001b[0m         leading_space\u001b[39m=\u001b[39m\u001b[39mself\u001b[39m\u001b[39m.\u001b[39mindex,\n\u001b[0;32m    387\u001b[0m     )\n",
      "File \u001b[1;32mc:\\ProgramData\\anaconda3\\Lib\\site-packages\\pandas\\io\\formats\\format.py:1328\u001b[0m, in \u001b[0;36mformat_array\u001b[1;34m(values, formatter, float_format, na_rep, digits, space, justify, decimal, leading_space, quoting)\u001b[0m\n\u001b[0;32m   1313\u001b[0m     digits \u001b[39m=\u001b[39m get_option(\u001b[39m\"\u001b[39m\u001b[39mdisplay.precision\u001b[39m\u001b[39m\"\u001b[39m)\n\u001b[0;32m   1315\u001b[0m fmt_obj \u001b[39m=\u001b[39m fmt_klass(\n\u001b[0;32m   1316\u001b[0m     values,\n\u001b[0;32m   1317\u001b[0m     digits\u001b[39m=\u001b[39mdigits,\n\u001b[1;32m   (...)\u001b[0m\n\u001b[0;32m   1325\u001b[0m     quoting\u001b[39m=\u001b[39mquoting,\n\u001b[0;32m   1326\u001b[0m )\n\u001b[1;32m-> 1328\u001b[0m \u001b[39mreturn\u001b[39;00m fmt_obj\u001b[39m.\u001b[39mget_result()\n",
      "File \u001b[1;32mc:\\ProgramData\\anaconda3\\Lib\\site-packages\\pandas\\io\\formats\\format.py:1359\u001b[0m, in \u001b[0;36mGenericArrayFormatter.get_result\u001b[1;34m(self)\u001b[0m\n\u001b[0;32m   1358\u001b[0m \u001b[39mdef\u001b[39;00m \u001b[39mget_result\u001b[39m(\u001b[39mself\u001b[39m) \u001b[39m-\u001b[39m\u001b[39m>\u001b[39m \u001b[39mlist\u001b[39m[\u001b[39mstr\u001b[39m]:\n\u001b[1;32m-> 1359\u001b[0m     fmt_values \u001b[39m=\u001b[39m \u001b[39mself\u001b[39m\u001b[39m.\u001b[39m_format_strings()\n\u001b[0;32m   1360\u001b[0m     \u001b[39mreturn\u001b[39;00m _make_fixed_width(fmt_values, \u001b[39mself\u001b[39m\u001b[39m.\u001b[39mjustify)\n",
      "File \u001b[1;32mc:\\ProgramData\\anaconda3\\Lib\\site-packages\\pandas\\io\\formats\\format.py:1422\u001b[0m, in \u001b[0;36mGenericArrayFormatter._format_strings\u001b[1;34m(self)\u001b[0m\n\u001b[0;32m   1420\u001b[0m \u001b[39mfor\u001b[39;00m i, v \u001b[39min\u001b[39;00m \u001b[39menumerate\u001b[39m(vals):\n\u001b[0;32m   1421\u001b[0m     \u001b[39mif\u001b[39;00m \u001b[39mnot\u001b[39;00m is_float_type[i] \u001b[39mand\u001b[39;00m leading_space:\n\u001b[1;32m-> 1422\u001b[0m         fmt_values\u001b[39m.\u001b[39mappend(\u001b[39mf\u001b[39m\u001b[39m\"\u001b[39m\u001b[39m \u001b[39m\u001b[39m{\u001b[39;00m_format(v)\u001b[39m}\u001b[39;00m\u001b[39m\"\u001b[39m)\n\u001b[0;32m   1423\u001b[0m     \u001b[39melif\u001b[39;00m is_float_type[i]:\n\u001b[0;32m   1424\u001b[0m         fmt_values\u001b[39m.\u001b[39mappend(float_format(v))\n",
      "File \u001b[1;32mc:\\ProgramData\\anaconda3\\Lib\\site-packages\\pandas\\io\\formats\\format.py:1399\u001b[0m, in \u001b[0;36mGenericArrayFormatter._format_strings.<locals>._format\u001b[1;34m(x)\u001b[0m\n\u001b[0;32m   1397\u001b[0m     \u001b[39mreturn\u001b[39;00m \u001b[39mself\u001b[39m\u001b[39m.\u001b[39mna_rep\n\u001b[0;32m   1398\u001b[0m \u001b[39melif\u001b[39;00m \u001b[39misinstance\u001b[39m(x, PandasObject):\n\u001b[1;32m-> 1399\u001b[0m     \u001b[39mreturn\u001b[39;00m \u001b[39mstr\u001b[39m(x)\n\u001b[0;32m   1400\u001b[0m \u001b[39melse\u001b[39;00m:\n\u001b[0;32m   1401\u001b[0m     \u001b[39m# object dtype\u001b[39;00m\n\u001b[0;32m   1402\u001b[0m     \u001b[39mreturn\u001b[39;00m \u001b[39mstr\u001b[39m(formatter(x))\n",
      "File \u001b[1;32mc:\\ProgramData\\anaconda3\\Lib\\site-packages\\pandas\\core\\series.py:1594\u001b[0m, in \u001b[0;36mSeries.__repr__\u001b[1;34m(self)\u001b[0m\n\u001b[0;32m   1590\u001b[0m \u001b[39m\u001b[39m\u001b[39m\"\"\"\u001b[39;00m\n\u001b[0;32m   1591\u001b[0m \u001b[39mReturn a string representation for a particular Series.\u001b[39;00m\n\u001b[0;32m   1592\u001b[0m \u001b[39m\"\"\"\u001b[39;00m\n\u001b[0;32m   1593\u001b[0m repr_params \u001b[39m=\u001b[39m fmt\u001b[39m.\u001b[39mget_series_repr_params()\n\u001b[1;32m-> 1594\u001b[0m \u001b[39mreturn\u001b[39;00m \u001b[39mself\u001b[39m\u001b[39m.\u001b[39mto_string(\u001b[39m*\u001b[39m\u001b[39m*\u001b[39mrepr_params)\n",
      "File \u001b[1;32mc:\\ProgramData\\anaconda3\\Lib\\site-packages\\pandas\\core\\series.py:1675\u001b[0m, in \u001b[0;36mSeries.to_string\u001b[1;34m(self, buf, na_rep, float_format, header, index, length, dtype, name, max_rows, min_rows)\u001b[0m\n\u001b[0;32m   1628\u001b[0m \u001b[39mdef\u001b[39;00m \u001b[39mto_string\u001b[39m(\n\u001b[0;32m   1629\u001b[0m     \u001b[39mself\u001b[39m,\n\u001b[0;32m   1630\u001b[0m     buf: FilePath \u001b[39m|\u001b[39m WriteBuffer[\u001b[39mstr\u001b[39m] \u001b[39m|\u001b[39m \u001b[39mNone\u001b[39;00m \u001b[39m=\u001b[39m \u001b[39mNone\u001b[39;00m,\n\u001b[1;32m   (...)\u001b[0m\n\u001b[0;32m   1639\u001b[0m     min_rows: \u001b[39mint\u001b[39m \u001b[39m|\u001b[39m \u001b[39mNone\u001b[39;00m \u001b[39m=\u001b[39m \u001b[39mNone\u001b[39;00m,\n\u001b[0;32m   1640\u001b[0m ) \u001b[39m-\u001b[39m\u001b[39m>\u001b[39m \u001b[39mstr\u001b[39m \u001b[39m|\u001b[39m \u001b[39mNone\u001b[39;00m:\n\u001b[0;32m   1641\u001b[0m \u001b[39m    \u001b[39m\u001b[39m\"\"\"\u001b[39;00m\n\u001b[0;32m   1642\u001b[0m \u001b[39m    Render a string representation of the Series.\u001b[39;00m\n\u001b[0;32m   1643\u001b[0m \n\u001b[1;32m   (...)\u001b[0m\n\u001b[0;32m   1673\u001b[0m \u001b[39m        String representation of Series if ``buf=None``, otherwise None.\u001b[39;00m\n\u001b[0;32m   1674\u001b[0m \u001b[39m    \"\"\"\u001b[39;00m\n\u001b[1;32m-> 1675\u001b[0m     formatter \u001b[39m=\u001b[39m fmt\u001b[39m.\u001b[39mSeriesFormatter(\n\u001b[0;32m   1676\u001b[0m         \u001b[39mself\u001b[39m,\n\u001b[0;32m   1677\u001b[0m         name\u001b[39m=\u001b[39mname,\n\u001b[0;32m   1678\u001b[0m         length\u001b[39m=\u001b[39mlength,\n\u001b[0;32m   1679\u001b[0m         header\u001b[39m=\u001b[39mheader,\n\u001b[0;32m   1680\u001b[0m         index\u001b[39m=\u001b[39mindex,\n\u001b[0;32m   1681\u001b[0m         dtype\u001b[39m=\u001b[39mdtype,\n\u001b[0;32m   1682\u001b[0m         na_rep\u001b[39m=\u001b[39mna_rep,\n\u001b[0;32m   1683\u001b[0m         float_format\u001b[39m=\u001b[39mfloat_format,\n\u001b[0;32m   1684\u001b[0m         min_rows\u001b[39m=\u001b[39mmin_rows,\n\u001b[0;32m   1685\u001b[0m         max_rows\u001b[39m=\u001b[39mmax_rows,\n\u001b[0;32m   1686\u001b[0m     )\n\u001b[0;32m   1687\u001b[0m     result \u001b[39m=\u001b[39m formatter\u001b[39m.\u001b[39mto_string()\n\u001b[0;32m   1689\u001b[0m     \u001b[39m# catch contract violations\u001b[39;00m\n",
      "File \u001b[1;32mc:\\ProgramData\\anaconda3\\Lib\\site-packages\\pandas\\io\\formats\\format.py:299\u001b[0m, in \u001b[0;36mSeriesFormatter.__init__\u001b[1;34m(self, series, buf, length, header, index, na_rep, name, float_format, dtype, max_rows, min_rows)\u001b[0m\n\u001b[0;32m    296\u001b[0m \u001b[39mself\u001b[39m\u001b[39m.\u001b[39mdtype \u001b[39m=\u001b[39m dtype\n\u001b[0;32m    297\u001b[0m \u001b[39mself\u001b[39m\u001b[39m.\u001b[39madj \u001b[39m=\u001b[39m get_adjustment()\n\u001b[1;32m--> 299\u001b[0m \u001b[39mself\u001b[39m\u001b[39m.\u001b[39m_chk_truncate()\n",
      "File \u001b[1;32mc:\\ProgramData\\anaconda3\\Lib\\site-packages\\pandas\\io\\formats\\format.py:321\u001b[0m, in \u001b[0;36mSeriesFormatter._chk_truncate\u001b[1;34m(self)\u001b[0m\n\u001b[0;32m    319\u001b[0m     \u001b[39melse\u001b[39;00m:\n\u001b[0;32m    320\u001b[0m         row_num \u001b[39m=\u001b[39m max_rows \u001b[39m/\u001b[39m\u001b[39m/\u001b[39m \u001b[39m2\u001b[39m\n\u001b[1;32m--> 321\u001b[0m         series \u001b[39m=\u001b[39m concat((series\u001b[39m.\u001b[39miloc[:row_num], series\u001b[39m.\u001b[39miloc[\u001b[39m-\u001b[39mrow_num:]))\n\u001b[0;32m    322\u001b[0m     \u001b[39mself\u001b[39m\u001b[39m.\u001b[39mtr_row_num \u001b[39m=\u001b[39m row_num\n\u001b[0;32m    323\u001b[0m \u001b[39melse\u001b[39;00m:\n",
      "File \u001b[1;32mc:\\ProgramData\\anaconda3\\Lib\\site-packages\\pandas\\core\\indexing.py:1073\u001b[0m, in \u001b[0;36m_LocationIndexer.__getitem__\u001b[1;34m(self, key)\u001b[0m\n\u001b[0;32m   1070\u001b[0m axis \u001b[39m=\u001b[39m \u001b[39mself\u001b[39m\u001b[39m.\u001b[39maxis \u001b[39mor\u001b[39;00m \u001b[39m0\u001b[39m\n\u001b[0;32m   1072\u001b[0m maybe_callable \u001b[39m=\u001b[39m com\u001b[39m.\u001b[39mapply_if_callable(key, \u001b[39mself\u001b[39m\u001b[39m.\u001b[39mobj)\n\u001b[1;32m-> 1073\u001b[0m \u001b[39mreturn\u001b[39;00m \u001b[39mself\u001b[39m\u001b[39m.\u001b[39m_getitem_axis(maybe_callable, axis\u001b[39m=\u001b[39maxis)\n",
      "File \u001b[1;32mc:\\ProgramData\\anaconda3\\Lib\\site-packages\\pandas\\core\\indexing.py:1602\u001b[0m, in \u001b[0;36m_iLocIndexer._getitem_axis\u001b[1;34m(self, key, axis)\u001b[0m\n\u001b[0;32m   1596\u001b[0m     \u001b[39mraise\u001b[39;00m \u001b[39mIndexError\u001b[39;00m(\n\u001b[0;32m   1597\u001b[0m         \u001b[39m\"\u001b[39m\u001b[39mDataFrame indexer is not allowed for .iloc\u001b[39m\u001b[39m\\n\u001b[39;00m\u001b[39m\"\u001b[39m\n\u001b[0;32m   1598\u001b[0m         \u001b[39m\"\u001b[39m\u001b[39mConsider using .loc for automatic alignment.\u001b[39m\u001b[39m\"\u001b[39m\n\u001b[0;32m   1599\u001b[0m     )\n\u001b[0;32m   1601\u001b[0m \u001b[39mif\u001b[39;00m \u001b[39misinstance\u001b[39m(key, \u001b[39mslice\u001b[39m):\n\u001b[1;32m-> 1602\u001b[0m     \u001b[39mreturn\u001b[39;00m \u001b[39mself\u001b[39m\u001b[39m.\u001b[39m_get_slice_axis(key, axis\u001b[39m=\u001b[39maxis)\n\u001b[0;32m   1604\u001b[0m \u001b[39mif\u001b[39;00m is_iterator(key):\n\u001b[0;32m   1605\u001b[0m     key \u001b[39m=\u001b[39m \u001b[39mlist\u001b[39m(key)\n",
      "File \u001b[1;32mc:\\ProgramData\\anaconda3\\Lib\\site-packages\\pandas\\core\\indexing.py:1638\u001b[0m, in \u001b[0;36m_iLocIndexer._get_slice_axis\u001b[1;34m(self, slice_obj, axis)\u001b[0m\n\u001b[0;32m   1636\u001b[0m labels \u001b[39m=\u001b[39m obj\u001b[39m.\u001b[39m_get_axis(axis)\n\u001b[0;32m   1637\u001b[0m labels\u001b[39m.\u001b[39m_validate_positional_slice(slice_obj)\n\u001b[1;32m-> 1638\u001b[0m \u001b[39mreturn\u001b[39;00m \u001b[39mself\u001b[39m\u001b[39m.\u001b[39mobj\u001b[39m.\u001b[39m_slice(slice_obj, axis\u001b[39m=\u001b[39maxis)\n",
      "File \u001b[1;32mc:\\ProgramData\\anaconda3\\Lib\\site-packages\\pandas\\core\\series.py:964\u001b[0m, in \u001b[0;36mSeries._slice\u001b[1;34m(self, slobj, axis)\u001b[0m\n\u001b[0;32m    961\u001b[0m \u001b[39mdef\u001b[39;00m \u001b[39m_slice\u001b[39m(\u001b[39mself\u001b[39m, slobj: \u001b[39mslice\u001b[39m, axis: \u001b[39mint\u001b[39m \u001b[39m=\u001b[39m \u001b[39m0\u001b[39m) \u001b[39m-\u001b[39m\u001b[39m>\u001b[39m Series:\n\u001b[0;32m    962\u001b[0m     \u001b[39m# axis kwarg is retained for compat with NDFrame method\u001b[39;00m\n\u001b[0;32m    963\u001b[0m     \u001b[39m#  _slice is *always* positional\u001b[39;00m\n\u001b[1;32m--> 964\u001b[0m     \u001b[39mreturn\u001b[39;00m \u001b[39mself\u001b[39m\u001b[39m.\u001b[39m_get_values(slobj)\n",
      "File \u001b[1;32mc:\\ProgramData\\anaconda3\\Lib\\site-packages\\pandas\\core\\series.py:1070\u001b[0m, in \u001b[0;36mSeries._get_values\u001b[1;34m(self, indexer)\u001b[0m\n\u001b[0;32m   1068\u001b[0m \u001b[39mdef\u001b[39;00m \u001b[39m_get_values\u001b[39m(\u001b[39mself\u001b[39m, indexer: \u001b[39mslice\u001b[39m \u001b[39m|\u001b[39m npt\u001b[39m.\u001b[39mNDArray[np\u001b[39m.\u001b[39mbool_]) \u001b[39m-\u001b[39m\u001b[39m>\u001b[39m Series:\n\u001b[0;32m   1069\u001b[0m     new_mgr \u001b[39m=\u001b[39m \u001b[39mself\u001b[39m\u001b[39m.\u001b[39m_mgr\u001b[39m.\u001b[39mgetitem_mgr(indexer)\n\u001b[1;32m-> 1070\u001b[0m     \u001b[39mreturn\u001b[39;00m \u001b[39mself\u001b[39m\u001b[39m.\u001b[39m_constructor(new_mgr)\u001b[39m.\u001b[39m__finalize__(\u001b[39mself\u001b[39m)\n",
      "File \u001b[1;32mc:\\ProgramData\\anaconda3\\Lib\\site-packages\\pandas\\core\\series.py:364\u001b[0m, in \u001b[0;36mSeries.__init__\u001b[1;34m(self, data, index, dtype, name, copy, fastpath)\u001b[0m\n\u001b[0;32m    362\u001b[0m         \u001b[39mobject\u001b[39m\u001b[39m.\u001b[39m\u001b[39m__setattr__\u001b[39m(\u001b[39mself\u001b[39m, \u001b[39m\"\u001b[39m\u001b[39m_name\u001b[39m\u001b[39m\"\u001b[39m, name)\n\u001b[0;32m    363\u001b[0m     \u001b[39melse\u001b[39;00m:\n\u001b[1;32m--> 364\u001b[0m         \u001b[39mself\u001b[39m\u001b[39m.\u001b[39mname \u001b[39m=\u001b[39m name\n\u001b[0;32m    365\u001b[0m     \u001b[39mreturn\u001b[39;00m\n\u001b[0;32m    367\u001b[0m \u001b[39m# we are called internally, so short-circuit\u001b[39;00m\n",
      "File \u001b[1;32mc:\\ProgramData\\anaconda3\\Lib\\site-packages\\pandas\\core\\generic.py:5924\u001b[0m, in \u001b[0;36mNDFrame.__setattr__\u001b[1;34m(self, name, value)\u001b[0m\n\u001b[0;32m   5922\u001b[0m     \u001b[39mobject\u001b[39m\u001b[39m.\u001b[39m\u001b[39m__setattr__\u001b[39m(\u001b[39mself\u001b[39m, name, value)\n\u001b[0;32m   5923\u001b[0m \u001b[39melif\u001b[39;00m name \u001b[39min\u001b[39;00m \u001b[39mself\u001b[39m\u001b[39m.\u001b[39m_metadata:\n\u001b[1;32m-> 5924\u001b[0m     \u001b[39mobject\u001b[39m\u001b[39m.\u001b[39m\u001b[39m__setattr__\u001b[39m(\u001b[39mself\u001b[39m, name, value)\n\u001b[0;32m   5925\u001b[0m \u001b[39melse\u001b[39;00m:\n\u001b[0;32m   5926\u001b[0m     \u001b[39mtry\u001b[39;00m:\n",
      "File \u001b[1;32mc:\\ProgramData\\anaconda3\\Lib\\site-packages\\pandas\\core\\series.py:663\u001b[0m, in \u001b[0;36mSeries.name\u001b[1;34m(self, value)\u001b[0m\n\u001b[0;32m    661\u001b[0m \u001b[39m@name\u001b[39m\u001b[39m.\u001b[39msetter\n\u001b[0;32m    662\u001b[0m \u001b[39mdef\u001b[39;00m \u001b[39mname\u001b[39m(\u001b[39mself\u001b[39m, value: Hashable) \u001b[39m-\u001b[39m\u001b[39m>\u001b[39m \u001b[39mNone\u001b[39;00m:\n\u001b[1;32m--> 663\u001b[0m     validate_all_hashable(value, error_name\u001b[39m=\u001b[39m\u001b[39mf\u001b[39m\u001b[39m\"\u001b[39m\u001b[39m{\u001b[39;00m\u001b[39mtype\u001b[39m(\u001b[39mself\u001b[39m)\u001b[39m.\u001b[39m\u001b[39m__name__\u001b[39m\u001b[39m}\u001b[39;00m\u001b[39m.name\u001b[39m\u001b[39m\"\u001b[39m)\n\u001b[0;32m    664\u001b[0m     \u001b[39mobject\u001b[39m\u001b[39m.\u001b[39m\u001b[39m__setattr__\u001b[39m(\u001b[39mself\u001b[39m, \u001b[39m\"\u001b[39m\u001b[39m_name\u001b[39m\u001b[39m\"\u001b[39m, value)\n",
      "File \u001b[1;32mc:\\ProgramData\\anaconda3\\Lib\\site-packages\\pandas\\core\\dtypes\\common.py:1744\u001b[0m, in \u001b[0;36mvalidate_all_hashable\u001b[1;34m(error_name, *args)\u001b[0m\n\u001b[0;32m   1725\u001b[0m \u001b[39mdef\u001b[39;00m \u001b[39mvalidate_all_hashable\u001b[39m(\u001b[39m*\u001b[39margs, error_name: \u001b[39mstr\u001b[39m \u001b[39m|\u001b[39m \u001b[39mNone\u001b[39;00m \u001b[39m=\u001b[39m \u001b[39mNone\u001b[39;00m) \u001b[39m-\u001b[39m\u001b[39m>\u001b[39m \u001b[39mNone\u001b[39;00m:\n\u001b[0;32m   1726\u001b[0m \u001b[39m    \u001b[39m\u001b[39m\"\"\"\u001b[39;00m\n\u001b[0;32m   1727\u001b[0m \u001b[39m    Return None if all args are hashable, else raise a TypeError.\u001b[39;00m\n\u001b[0;32m   1728\u001b[0m \n\u001b[1;32m   (...)\u001b[0m\n\u001b[0;32m   1742\u001b[0m \u001b[39m    None\u001b[39;00m\n\u001b[0;32m   1743\u001b[0m \u001b[39m    \"\"\"\u001b[39;00m\n\u001b[1;32m-> 1744\u001b[0m     \u001b[39mif\u001b[39;00m \u001b[39mnot\u001b[39;00m \u001b[39mall\u001b[39m(is_hashable(arg) \u001b[39mfor\u001b[39;00m arg \u001b[39min\u001b[39;00m args):\n\u001b[0;32m   1745\u001b[0m         \u001b[39mif\u001b[39;00m error_name:\n\u001b[0;32m   1746\u001b[0m             \u001b[39mraise\u001b[39;00m \u001b[39mTypeError\u001b[39;00m(\u001b[39mf\u001b[39m\u001b[39m\"\u001b[39m\u001b[39m{\u001b[39;00merror_name\u001b[39m}\u001b[39;00m\u001b[39m must be a hashable type\u001b[39m\u001b[39m\"\u001b[39m)\n",
      "File \u001b[1;32mc:\\ProgramData\\anaconda3\\Lib\\site-packages\\pandas\\core\\dtypes\\common.py:1744\u001b[0m, in \u001b[0;36m<genexpr>\u001b[1;34m(.0)\u001b[0m\n\u001b[0;32m   1725\u001b[0m \u001b[39mdef\u001b[39;00m \u001b[39mvalidate_all_hashable\u001b[39m(\u001b[39m*\u001b[39margs, error_name: \u001b[39mstr\u001b[39m \u001b[39m|\u001b[39m \u001b[39mNone\u001b[39;00m \u001b[39m=\u001b[39m \u001b[39mNone\u001b[39;00m) \u001b[39m-\u001b[39m\u001b[39m>\u001b[39m \u001b[39mNone\u001b[39;00m:\n\u001b[0;32m   1726\u001b[0m \u001b[39m    \u001b[39m\u001b[39m\"\"\"\u001b[39;00m\n\u001b[0;32m   1727\u001b[0m \u001b[39m    Return None if all args are hashable, else raise a TypeError.\u001b[39;00m\n\u001b[0;32m   1728\u001b[0m \n\u001b[1;32m   (...)\u001b[0m\n\u001b[0;32m   1742\u001b[0m \u001b[39m    None\u001b[39;00m\n\u001b[0;32m   1743\u001b[0m \u001b[39m    \"\"\"\u001b[39;00m\n\u001b[1;32m-> 1744\u001b[0m     \u001b[39mif\u001b[39;00m \u001b[39mnot\u001b[39;00m \u001b[39mall\u001b[39m(is_hashable(arg) \u001b[39mfor\u001b[39;00m arg \u001b[39min\u001b[39;00m args):\n\u001b[0;32m   1745\u001b[0m         \u001b[39mif\u001b[39;00m error_name:\n\u001b[0;32m   1746\u001b[0m             \u001b[39mraise\u001b[39;00m \u001b[39mTypeError\u001b[39;00m(\u001b[39mf\u001b[39m\u001b[39m\"\u001b[39m\u001b[39m{\u001b[39;00merror_name\u001b[39m}\u001b[39;00m\u001b[39m must be a hashable type\u001b[39m\u001b[39m\"\u001b[39m)\n",
      "File \u001b[1;32mc:\\ProgramData\\anaconda3\\Lib\\site-packages\\pandas\\core\\dtypes\\inference.py:356\u001b[0m, in \u001b[0;36mis_hashable\u001b[1;34m(obj)\u001b[0m\n\u001b[0;32m    348\u001b[0m \u001b[39m# Unfortunately, we can't use isinstance(obj, collections.abc.Hashable),\u001b[39;00m\n\u001b[0;32m    349\u001b[0m \u001b[39m# which can be faster than calling hash. That is because numpy scalars\u001b[39;00m\n\u001b[0;32m    350\u001b[0m \u001b[39m# fail this test.\u001b[39;00m\n\u001b[0;32m    351\u001b[0m \n\u001b[0;32m    352\u001b[0m \u001b[39m# Reconsider this decision once this numpy bug is fixed:\u001b[39;00m\n\u001b[0;32m    353\u001b[0m \u001b[39m# https://github.com/numpy/numpy/issues/5562\u001b[39;00m\n\u001b[0;32m    355\u001b[0m \u001b[39mtry\u001b[39;00m:\n\u001b[1;32m--> 356\u001b[0m     \u001b[39mhash\u001b[39m(obj)\n\u001b[0;32m    357\u001b[0m \u001b[39mexcept\u001b[39;00m \u001b[39mTypeError\u001b[39;00m:\n\u001b[0;32m    358\u001b[0m     \u001b[39mreturn\u001b[39;00m \u001b[39mFalse\u001b[39;00m\n",
      "\u001b[1;31mRecursionError\u001b[0m: maximum recursion depth exceeded while calling a Python object"
     ]
    }
   ],
   "source": [
    "# Se eliminan los valores que no sean numéricos.peliculas5[\n",
    "peliculas5=peliculas5['show_id'] = peliculas5['show_id'].str.replace(r'\\D', '', regex=True)\n",
    "\n",
    "# Ver las primeras filas del DataFrame resultante\n",
    "print(peliculas5.head())"
   ]
  },
  {
   "cell_type": "code",
   "execution_count": null,
   "id": "f4e5ed2e",
   "metadata": {},
   "outputs": [],
   "source": [
    "# Se crean las variables dummies\n",
    "peliculas5= peliculas5['plataforma'] = peliculas5['plataforma'].astype('category')\n",
    "peliculas5= peliculas5['clasificacion'] = peliculas5['clasificacion'].astype('category')\n",
    "dum_supervisado = pd.get_dummies(peliculas5, columns=['plataforma', 'clasificacion'])"
   ]
  },
  {
   "cell_type": "code",
   "execution_count": null,
   "id": "0bda69d3",
   "metadata": {},
   "outputs": [],
   "source": [
    "# Se eliminan aquellas variables que no se vana a incluir en el modelo.\n",
    "dum_supervisado1= dum_supervisado.drop(['titulo', 'director', 'elenco', 'anio', 'duracion', 'genero'], axis=1)\n",
    "dum_supervisado1"
   ]
  },
  {
   "cell_type": "code",
   "execution_count": null,
   "id": "5f34a7cc",
   "metadata": {},
   "outputs": [],
   "source": [
    "# Se eliminan los valores que no sean numéricos de todas las columnas de dum_supervisado1\n",
    "dum_supervisado1['show_id'] = dum_supervisado['show_id'].str.replace(r'\\D', '', regex=True)\n",
    "\n",
    "# Ver las primeras filas del DataFrame resultante\n",
    "print(peliculas5.head())"
   ]
  },
  {
   "cell_type": "code",
   "execution_count": null,
   "id": "dfe871a3",
   "metadata": {},
   "outputs": [],
   "source": [
    "peliculas5['pel_exitosa']=peliculas5['punt_media'].apply(lambda x: 0 if x < 3.5 else 1)"
   ]
  },
  {
   "cell_type": "code",
   "execution_count": null,
   "id": "bec9b6b2",
   "metadata": {},
   "outputs": [],
   "source": [
    "# Se guarada el dataset a csv\n",
    "dum_supervisado1.to_csv(r'..\\datasets\\supervisado.csv', index=False)"
   ]
  },
  {
   "cell_type": "code",
   "execution_count": null,
   "id": "9b075cad",
   "metadata": {},
   "outputs": [],
   "source": [
    "# Se importa el dataset y se visualiza\n",
    "supervisado=pd.read_csv(r'..\\\\datasets\\\\supervisado.csv')\n",
    "supervisado"
   ]
  },
  {
   "cell_type": "markdown",
   "id": "d32ef9df",
   "metadata": {},
   "source": [
    "### Objetivo: Determinar si la película será exitosa\n"
   ]
  },
  {
   "cell_type": "code",
   "execution_count": null,
   "id": "11bcbc0f",
   "metadata": {},
   "outputs": [],
   "source": [
    "peliculas5['pel_exitosa']=peliculas5['punt_media'].apply(lambda x: 0 if x < 3.5 else 1)"
   ]
  },
  {
   "cell_type": "code",
   "execution_count": null,
   "id": "70100928",
   "metadata": {},
   "outputs": [],
   "source": [
    "# Se eliminan aquellas variables que no se vana a incluir en el modelo y se las guardo en x. \n",
    "x= supervisado.drop(['punt_media'], axis=1)\n",
    "x.head()"
   ]
  },
  {
   "cell_type": "code",
   "execution_count": null,
   "id": "cf43c616",
   "metadata": {},
   "outputs": [],
   "source": [
    "lista_atributos = x.columns"
   ]
  },
  {
   "cell_type": "code",
   "execution_count": null,
   "id": "5ef95460",
   "metadata": {},
   "outputs": [],
   "source": [
    "# Ahora selecciono las etiquetas y las guardo en y.\n",
    "y = supervisado['punt_media']"
   ]
  },
  {
   "cell_type": "code",
   "execution_count": null,
   "id": "c6b6e78e",
   "metadata": {},
   "outputs": [],
   "source": [
    "x, y = np.array(x), np.array(y)"
   ]
  },
  {
   "cell_type": "code",
   "execution_count": null,
   "id": "1b3ddc39",
   "metadata": {},
   "outputs": [],
   "source": [
    "x      "
   ]
  },
  {
   "cell_type": "code",
   "execution_count": null,
   "id": "46c2d228",
   "metadata": {},
   "outputs": [],
   "source": [
    "y[:4]   # En este caso es el punt_media"
   ]
  },
  {
   "cell_type": "markdown",
   "id": "e9fbfcdd",
   "metadata": {},
   "source": [
    "### Separando Train / Test "
   ]
  },
  {
   "cell_type": "code",
   "execution_count": null,
   "id": "11eed71d",
   "metadata": {},
   "outputs": [],
   "source": [
    "X_train, X_test, y_train, y_test = train_test_split(x, y, test_size=0.2,random_state=42)"
   ]
  },
  {
   "cell_type": "code",
   "execution_count": null,
   "id": "257801d8",
   "metadata": {},
   "outputs": [],
   "source": [
    "x.shape # Se observan la cantidad de filas y columnas "
   ]
  },
  {
   "cell_type": "code",
   "execution_count": null,
   "id": "60cd5f2b",
   "metadata": {},
   "outputs": [],
   "source": [
    "X_train.shape # 10420 seran de entrenamiento "
   ]
  },
  {
   "cell_type": "code",
   "execution_count": null,
   "id": "019cd835",
   "metadata": {},
   "outputs": [],
   "source": [
    "X_test.shape  # 2606 serán de evaluación "
   ]
  },
  {
   "cell_type": "code",
   "execution_count": null,
   "id": "7cde70f7",
   "metadata": {},
   "outputs": [],
   "source": [
    "X_test"
   ]
  },
  {
   "cell_type": "markdown",
   "id": "27eee4f6",
   "metadata": {},
   "source": [
    "### Random Forest"
   ]
  },
  {
   "cell_type": "code",
   "execution_count": null,
   "id": "62736f68",
   "metadata": {},
   "outputs": [],
   "source": [
    "# Se importan las librerías\n",
    "from sklearn.ensemble import RandomForestRegressor\n",
    "from sklearn.metrics import mean_absolute_error"
   ]
  },
  {
   "cell_type": "code",
   "execution_count": null,
   "id": "42990c1a",
   "metadata": {},
   "outputs": [],
   "source": [
    "# Se inicia el modelo\n",
    "regresor = RandomForestRegressor(criterion='squared_error', random_state=42)"
   ]
  },
  {
   "cell_type": "code",
   "execution_count": null,
   "id": "e01310cf",
   "metadata": {},
   "outputs": [],
   "source": [
    "# Se entrena el modelo\n",
    "regresor.fit(X_train, y_train);"
   ]
  },
  {
   "cell_type": "code",
   "execution_count": null,
   "id": "6d1b78d0",
   "metadata": {},
   "outputs": [],
   "source": [
    "regresor.get_params()"
   ]
  },
  {
   "cell_type": "code",
   "execution_count": null,
   "id": "b38e1563",
   "metadata": {},
   "outputs": [],
   "source": [
    "# Se predicen los valores para el set de testeo\n",
    "y_pred = regresor.predict(X_test)"
   ]
  },
  {
   "cell_type": "code",
   "execution_count": null,
   "id": "5ff626b3",
   "metadata": {},
   "outputs": [],
   "source": [
    "# Se calcula el error medio absoluto\n",
    "mean_absolute_error(y_test, y_pred)"
   ]
  },
  {
   "cell_type": "markdown",
   "id": "13f641a4",
   "metadata": {},
   "source": [
    "### Support Vector Machine"
   ]
  },
  {
   "cell_type": "code",
   "execution_count": null,
   "id": "4f437d5a",
   "metadata": {},
   "outputs": [],
   "source": [
    "#Se importan librerías\n",
    "from sklearn.svm import SVR"
   ]
  },
  {
   "cell_type": "code",
   "execution_count": null,
   "id": "1fa92a58",
   "metadata": {},
   "outputs": [],
   "source": [
    "# Se importa el dataset\n",
    "# Se importa el dataset final (CSV) y se visualiza\n",
    "peliculas5=pd.read_csv(r'..\\\\datasets\\\\peliculas_final.csv')"
   ]
  },
  {
   "cell_type": "code",
   "execution_count": null,
   "id": "5bd4f8f9",
   "metadata": {},
   "outputs": [],
   "source": [
    "# Se inicia el modelo\n",
    "regresor_svr = SVR(C=1.0, epsilon=0.2)"
   ]
  },
  {
   "cell_type": "code",
   "execution_count": null,
   "id": "09f30d94",
   "metadata": {},
   "outputs": [],
   "source": [
    "# Se entrena el modelo\n",
    "regresor_svr.fit(X_train, y_train);"
   ]
  },
  {
   "cell_type": "code",
   "execution_count": null,
   "id": "376560ad",
   "metadata": {},
   "outputs": [],
   "source": [
    "regresor_svr.get_params()"
   ]
  },
  {
   "cell_type": "code",
   "execution_count": null,
   "id": "80721759",
   "metadata": {},
   "outputs": [],
   "source": [
    "# Se predicen los valores para el set de testeo\n",
    "y_pred_svr = regresor_svr.predict(X_test)"
   ]
  },
  {
   "cell_type": "code",
   "execution_count": null,
   "id": "ff29d8a5",
   "metadata": {},
   "outputs": [],
   "source": [
    "y_pred_svr"
   ]
  },
  {
   "cell_type": "code",
   "execution_count": null,
   "id": "d1e635c7",
   "metadata": {},
   "outputs": [],
   "source": [
    "# Se calcula el error medio absoluto\n",
    "mean_absolute_error(y_test, y_pred_svr)"
   ]
  },
  {
   "cell_type": "code",
   "execution_count": null,
   "id": "0771957d",
   "metadata": {},
   "outputs": [],
   "source": [
    "sns.countplot(x=peliculas5['pel_exitosa'], palette='Set2')\n",
    "sns.despine()"
   ]
  },
  {
   "cell_type": "code",
   "execution_count": null,
   "id": "8400d74c",
   "metadata": {},
   "outputs": [],
   "source": [
    "peliculas5['pel_exitosa'].value_counts() / peliculas5['punt_media'].size * 100"
   ]
  },
  {
   "cell_type": "markdown",
   "id": "f52bda0c",
   "metadata": {},
   "source": [
    "### Seleccion de target (y) y variables (X)"
   ]
  },
  {
   "cell_type": "code",
   "execution_count": null,
   "id": "1f14a743",
   "metadata": {},
   "outputs": [],
   "source": [
    "xc = peliculas5.drop(['punt_media', 'pel_exitosa'], axis=1)"
   ]
  },
  {
   "cell_type": "code",
   "execution_count": null,
   "id": "efe83a78",
   "metadata": {},
   "outputs": [],
   "source": [
    "yc = peliculas5['pel_exitosa']"
   ]
  },
  {
   "cell_type": "code",
   "execution_count": null,
   "id": "e6923561",
   "metadata": {},
   "outputs": [],
   "source": [
    "xc, yc = np.array(xc), np.array(yc)"
   ]
  },
  {
   "cell_type": "code",
   "execution_count": null,
   "id": "21ecd798",
   "metadata": {},
   "outputs": [],
   "source": [
    "# Separando Train / Test\n",
    "X_train_c, X_test_c, y_train_c, y_test_c = train_test_split(xc, yc, test_size=0.2,random_state=42)"
   ]
  },
  {
   "cell_type": "markdown",
   "id": "a6b01f18",
   "metadata": {},
   "source": [
    "### Clasificador kNN"
   ]
  },
  {
   "cell_type": "code",
   "execution_count": null,
   "id": "8a4e6993",
   "metadata": {},
   "outputs": [],
   "source": [
    "# se importan librerías \n",
    "from sklearn.neighbors import KNeighborsClassifier"
   ]
  },
  {
   "cell_type": "code",
   "execution_count": null,
   "id": "0695d0ae",
   "metadata": {},
   "outputs": [],
   "source": [
    "# metricas\n",
    "from sklearn.metrics import accuracy_score"
   ]
  },
  {
   "cell_type": "code",
   "execution_count": null,
   "id": "78b0b7b6",
   "metadata": {},
   "outputs": [],
   "source": [
    "knn = KNeighborsClassifier()"
   ]
  },
  {
   "cell_type": "code",
   "execution_count": null,
   "id": "8cb25386",
   "metadata": {},
   "outputs": [],
   "source": [
    "# Se entrena el modelo\n",
    "knn.fit(X_train_c, y_train_c);"
   ]
  }
 ],
 "metadata": {
  "kernelspec": {
   "display_name": "Python 3 (ipykernel)",
   "language": "python",
   "name": "python3"
  },
  "language_info": {
   "codemirror_mode": {
    "name": "ipython",
    "version": 3
   },
   "file_extension": ".py",
   "mimetype": "text/x-python",
   "name": "python",
   "nbconvert_exporter": "python",
   "pygments_lexer": "ipython3",
   "version": "3.11.3"
  }
 },
 "nbformat": 4,
 "nbformat_minor": 5
}
