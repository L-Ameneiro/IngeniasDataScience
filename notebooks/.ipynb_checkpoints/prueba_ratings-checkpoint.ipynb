{
 "cells": [
  {
   "cell_type": "code",
   "execution_count": 1,
   "metadata": {},
   "outputs": [],
   "source": [
    "import pandas as pd\n",
    "import numpy as np"
   ]
  },
  {
   "cell_type": "code",
   "execution_count": 2,
   "metadata": {},
   "outputs": [],
   "source": [
    "punt1 = pd.read_csv('..\\\\datasets\\\\puntajes\\\\1.csv')\n",
    "punt2 = pd.read_csv('..\\\\datasets\\\\puntajes\\\\2.csv')\n",
    "punt3 = pd.read_csv('..\\\\datasets\\\\puntajes\\\\3.csv')\n",
    "punt4 = pd.read_csv('..\\\\datasets\\\\puntajes\\\\4.csv')\n",
    "punt5 = pd.read_csv('..\\\\datasets\\\\puntajes\\\\5.csv')\n",
    "punt6 = pd.read_csv('..\\\\datasets\\\\puntajes\\\\6.csv')\n",
    "punt7 = pd.read_csv('..\\\\datasets\\\\puntajes\\\\7.csv')\n",
    "punt8 = pd.read_csv('..\\\\datasets\\\\puntajes\\\\8.csv')"
   ]
  },
  {
   "cell_type": "code",
   "execution_count": 3,
   "metadata": {},
   "outputs": [],
   "source": [
    "punt = pd.concat([punt1, punt2, punt3, punt4, punt5, punt6, punt7, punt8], axis=0, ignore_index=True)"
   ]
  },
  {
   "cell_type": "code",
   "execution_count": 4,
   "metadata": {},
   "outputs": [
    {
     "data": {
      "text/plain": [
       "(11024289, 4)"
      ]
     },
     "execution_count": 4,
     "metadata": {},
     "output_type": "execute_result"
    }
   ],
   "source": [
    "punt.shape"
   ]
  },
  {
   "cell_type": "code",
   "execution_count": 5,
   "metadata": {},
   "outputs": [
    {
     "data": {
      "text/html": [
       "<div>\n",
       "<style scoped>\n",
       "    .dataframe tbody tr th:only-of-type {\n",
       "        vertical-align: middle;\n",
       "    }\n",
       "\n",
       "    .dataframe tbody tr th {\n",
       "        vertical-align: top;\n",
       "    }\n",
       "\n",
       "    .dataframe thead th {\n",
       "        text-align: right;\n",
       "    }\n",
       "</style>\n",
       "<table border=\"1\" class=\"dataframe\">\n",
       "  <thead>\n",
       "    <tr style=\"text-align: right;\">\n",
       "      <th></th>\n",
       "      <th>userId</th>\n",
       "      <th>rating</th>\n",
       "      <th>timestamp</th>\n",
       "      <th>movieId</th>\n",
       "    </tr>\n",
       "  </thead>\n",
       "  <tbody>\n",
       "    <tr>\n",
       "      <th>0</th>\n",
       "      <td>1</td>\n",
       "      <td>1.0</td>\n",
       "      <td>1425941529</td>\n",
       "      <td>as680</td>\n",
       "    </tr>\n",
       "    <tr>\n",
       "      <th>1</th>\n",
       "      <td>1</td>\n",
       "      <td>4.5</td>\n",
       "      <td>1425942435</td>\n",
       "      <td>ns2186</td>\n",
       "    </tr>\n",
       "    <tr>\n",
       "      <th>2</th>\n",
       "      <td>1</td>\n",
       "      <td>5.0</td>\n",
       "      <td>1425941523</td>\n",
       "      <td>hs2381</td>\n",
       "    </tr>\n",
       "    <tr>\n",
       "      <th>3</th>\n",
       "      <td>1</td>\n",
       "      <td>5.0</td>\n",
       "      <td>1425941546</td>\n",
       "      <td>ns3663</td>\n",
       "    </tr>\n",
       "    <tr>\n",
       "      <th>4</th>\n",
       "      <td>1</td>\n",
       "      <td>5.0</td>\n",
       "      <td>1425941556</td>\n",
       "      <td>as9500</td>\n",
       "    </tr>\n",
       "    <tr>\n",
       "      <th>5</th>\n",
       "      <td>1</td>\n",
       "      <td>4.0</td>\n",
       "      <td>1425942148</td>\n",
       "      <td>as3004</td>\n",
       "    </tr>\n",
       "    <tr>\n",
       "      <th>6</th>\n",
       "      <td>1</td>\n",
       "      <td>4.5</td>\n",
       "      <td>1425941300</td>\n",
       "      <td>ns8282</td>\n",
       "    </tr>\n",
       "    <tr>\n",
       "      <th>7</th>\n",
       "      <td>1</td>\n",
       "      <td>5.0</td>\n",
       "      <td>1425941593</td>\n",
       "      <td>as6112</td>\n",
       "    </tr>\n",
       "    <tr>\n",
       "      <th>8</th>\n",
       "      <td>1</td>\n",
       "      <td>4.0</td>\n",
       "      <td>1425941601</td>\n",
       "      <td>hs327</td>\n",
       "    </tr>\n",
       "    <tr>\n",
       "      <th>9</th>\n",
       "      <td>1</td>\n",
       "      <td>4.0</td>\n",
       "      <td>1425942228</td>\n",
       "      <td>ns1358</td>\n",
       "    </tr>\n",
       "  </tbody>\n",
       "</table>\n",
       "</div>"
      ],
      "text/plain": [
       "   userId  rating   timestamp movieId\n",
       "0       1     1.0  1425941529   as680\n",
       "1       1     4.5  1425942435  ns2186\n",
       "2       1     5.0  1425941523  hs2381\n",
       "3       1     5.0  1425941546  ns3663\n",
       "4       1     5.0  1425941556  as9500\n",
       "5       1     4.0  1425942148  as3004\n",
       "6       1     4.5  1425941300  ns8282\n",
       "7       1     5.0  1425941593  as6112\n",
       "8       1     4.0  1425941601   hs327\n",
       "9       1     4.0  1425942228  ns1358"
      ]
     },
     "execution_count": 5,
     "metadata": {},
     "output_type": "execute_result"
    }
   ],
   "source": [
    "punt.head(10)"
   ]
  },
  {
   "cell_type": "code",
   "execution_count": 8,
   "metadata": {},
   "outputs": [],
   "source": [
    "# dropeamos la columna timestamp porque no la vamos a usar\n",
    "punt = punt.drop(columns = ['timestamp'])"
   ]
  },
  {
   "cell_type": "code",
   "execution_count": 9,
   "metadata": {},
   "outputs": [
    {
     "data": {
      "text/plain": [
       "Index(['userId', 'rating', 'movieId'], dtype='object')"
      ]
     },
     "execution_count": 9,
     "metadata": {},
     "output_type": "execute_result"
    }
   ],
   "source": [
    "punt.columns"
   ]
  },
  {
   "cell_type": "code",
   "execution_count": 67,
   "metadata": {},
   "outputs": [
    {
     "name": "stdout",
     "output_type": "stream",
     "text": [
      "El dataset contiene datos de puntajes asignados por 115077 usuarios a 22998 series y películas\n"
     ]
    }
   ],
   "source": [
    "contar_usuarios = punt['userId'].nunique()\n",
    "contar_pelis = punt['movieId'].nunique()\n",
    "print(f'El dataset contiene datos de puntajes asignados por {contar_usuarios} usuarios a {contar_pelis} series y películas')"
   ]
  },
  {
   "cell_type": "markdown",
   "metadata": {},
   "source": [
    "Nos quedamos sólo con los datos de películas."
   ]
  },
  {
   "cell_type": "code",
   "execution_count": null,
   "metadata": {},
   "outputs": [
    {
     "data": {
      "text/plain": [
       "(6249828, 4)"
      ]
     },
     "metadata": {},
     "output_type": "display_data"
    }
   ],
   "source": [
    "punt_p = pd.merge(punt, pelis[['show_id']], left_on='movieId', right_on='show_id', how='inner')\n",
    "punt_p.shape"
   ]
  },
  {
   "cell_type": "code",
   "execution_count": null,
   "metadata": {},
   "outputs": [
    {
     "name": "stdout",
     "output_type": "stream",
     "text": [
      "El dataset contiene datos de puntajes asignados por 113662 usuarios a 13043 películas\n"
     ]
    }
   ],
   "source": [
    "contar_usuarios2 = punt_p['userId'].nunique()\n",
    "contar_pelis2 = punt_p['movieId'].nunique()\n",
    "print(f'El dataset contiene datos de puntajes asignados por {contar_usuarios2} usuarios a {contar_pelis2} películas')"
   ]
  },
  {
   "cell_type": "code",
   "execution_count": 69,
   "metadata": {},
   "outputs": [
    {
     "data": {
      "text/plain": [
       "movieId\n",
       "as100     3.609302\n",
       "as1000    3.556701\n",
       "as1004    3.483505\n",
       "as1005    3.577004\n",
       "as1009    3.503061\n",
       "Name: rating, dtype: float64"
      ]
     },
     "execution_count": 69,
     "metadata": {},
     "output_type": "execute_result"
    }
   ],
   "source": [
    "punt_media = punt_p.groupby('movieId')['rating'].mean()\n",
    "\n",
    "punt_media.head(5)\n"
   ]
  },
  {
   "cell_type": "code",
   "execution_count": 70,
   "metadata": {},
   "outputs": [
    {
     "name": "stdout",
     "output_type": "stream",
     "text": [
      "El puntaje mínimo es 3.34 y el máximo es 3.72\n"
     ]
    }
   ],
   "source": [
    "print(f'El puntaje mínimo es {min(punt_media):.2f} y el máximo es {max(punt_media):.2f}')"
   ]
  },
  {
   "cell_type": "code",
   "execution_count": 71,
   "metadata": {},
   "outputs": [
    {
     "data": {
      "text/plain": [
       "movieId\n",
       "as100     4.0\n",
       "as1000    4.0\n",
       "as1004    3.5\n",
       "as1005    4.0\n",
       "as1009    4.0\n",
       "Name: rating, dtype: float64"
      ]
     },
     "execution_count": 71,
     "metadata": {},
     "output_type": "execute_result"
    }
   ],
   "source": [
    "punt_mediana = punt_p.groupby('movieId')['rating'].median()\n",
    "\n",
    "punt_mediana.head(5)\n"
   ]
  },
  {
   "cell_type": "code",
   "execution_count": 72,
   "metadata": {},
   "outputs": [
    {
     "name": "stdout",
     "output_type": "stream",
     "text": [
      "El puntaje mínimo es 3.50 y el máximo es 4.00\n"
     ]
    }
   ],
   "source": [
    "print(f'El puntaje mínimo es {min(punt_mediana):.2f} y el máximo es {max(punt_mediana):.2f}')"
   ]
  },
  {
   "cell_type": "markdown",
   "metadata": {},
   "source": [
    "## Experimentando con algoritmos: k means"
   ]
  },
  {
   "cell_type": "code",
   "execution_count": 52,
   "metadata": {},
   "outputs": [
    {
     "name": "stdout",
     "output_type": "stream",
     "text": [
      "   userId  rating   timestamp movieId\n",
      "0       1     1.0  1425941529   as680\n",
      "1       1     4.5  1425942435  ns2186\n",
      "2       1     5.0  1425941523  hs2381\n",
      "3       1     5.0  1425941546  ns3663\n",
      "4       1     5.0  1425941556  as9500\n",
      "5       1     4.0  1425942148  as3004\n",
      "6       1     4.5  1425941300  ns8282\n",
      "7       1     5.0  1425941593  as6112\n",
      "8       1     4.0  1425941601   hs327\n",
      "9       1     4.0  1425942228  ns1358\n"
     ]
    }
   ],
   "source": [
    "def asignar_plataforma(codigo):\n",
    "    if codigo[0].lower() == 'a':\n",
    "        return 'amazon'\n",
    "    elif codigo[0].lower() == 'n':\n",
    "        return 'netflix'\n",
    "    elif codigo[0].lower() == 'h':\n",
    "        return 'hulu'\n",
    "    elif codigo[0].lower() == 'd':\n",
    "        return 'disney'\n",
    "    # Agrega más condiciones según sea necesario\n",
    "    else:\n",
    "        return 'otra'\n",
    "\n",
    "# Aplicar la función a la columna \"codigo\" para crear una nueva columna \"plataforma\"\n",
    "punt['plataforma'] = punt['movieId'].apply(asignar_plataforma)\n",
    "\n",
    "print(punt.head(10))\n"
   ]
  },
  {
   "cell_type": "code",
   "execution_count": 16,
   "metadata": {},
   "outputs": [],
   "source": [
    "# punt['show_id'] = punt['movieId'].str[1:]"
   ]
  },
  {
   "cell_type": "code",
   "execution_count": 21,
   "metadata": {},
   "outputs": [],
   "source": [
    "#importamos el dataset de peliculas\n",
    "pelis = pd.read_csv('..\\\\datasets\\\\peliculas2.csv')"
   ]
  },
  {
   "cell_type": "code",
   "execution_count": 23,
   "metadata": {},
   "outputs": [
    {
     "data": {
      "text/plain": [
       "Index(['id', 'titulo', 'director', 'elenco', 'anio', 'clasificacion',\n",
       "       'duracion', 'listado_en', 'plataforma'],\n",
       "      dtype='object')"
      ]
     },
     "execution_count": 23,
     "metadata": {},
     "output_type": "execute_result"
    }
   ],
   "source": [
    "pelis.columns"
   ]
  },
  {
   "cell_type": "code",
   "execution_count": 54,
   "metadata": {},
   "outputs": [],
   "source": [
    "# Función para agregar una letra al principio según la plataforma\n",
    "def agregar_letra(show_id, plataforma):\n",
    "    letra = ''\n",
    "    if plataforma == 'amazon':\n",
    "        letra = 'a'\n",
    "    elif plataforma == 'netflix':\n",
    "        letra = 'n'\n",
    "    elif plataforma == 'hulu':\n",
    "        letra = 'h'\n",
    "    elif plataforma == 'disney':\n",
    "        letra = 'd'\n",
    "    # Agregar más condiciones según sea necesario\n",
    "    return letra + show_id\n",
    "\n",
    "# Aplicar la función a las columnas 'show_id' y 'plataforma' para crear una nueva columna 'show_id_actualizado'\n",
    "pelis['show_id'] = pelis.apply(lambda x: agregar_letra(x['id'], x['plataforma']), axis=1)\n"
   ]
  },
  {
   "cell_type": "code",
   "execution_count": 55,
   "metadata": {},
   "outputs": [
    {
     "data": {
      "text/html": [
       "<div>\n",
       "<style scoped>\n",
       "    .dataframe tbody tr th:only-of-type {\n",
       "        vertical-align: middle;\n",
       "    }\n",
       "\n",
       "    .dataframe tbody tr th {\n",
       "        vertical-align: top;\n",
       "    }\n",
       "\n",
       "    .dataframe thead th {\n",
       "        text-align: right;\n",
       "    }\n",
       "</style>\n",
       "<table border=\"1\" class=\"dataframe\">\n",
       "  <thead>\n",
       "    <tr style=\"text-align: right;\">\n",
       "      <th></th>\n",
       "      <th>id</th>\n",
       "      <th>titulo</th>\n",
       "      <th>director</th>\n",
       "      <th>elenco</th>\n",
       "      <th>anio</th>\n",
       "      <th>clasificacion</th>\n",
       "      <th>duracion</th>\n",
       "      <th>listado_en</th>\n",
       "      <th>plataforma</th>\n",
       "      <th>show_id</th>\n",
       "    </tr>\n",
       "  </thead>\n",
       "  <tbody>\n",
       "    <tr>\n",
       "      <th>0</th>\n",
       "      <td>s2</td>\n",
       "      <td>Take Care Good Night</td>\n",
       "      <td>Girish Joshi</td>\n",
       "      <td>Mahesh Manjrekar, Abhay Mahajan, Sachin Khedekar</td>\n",
       "      <td>2018</td>\n",
       "      <td>13+</td>\n",
       "      <td>110</td>\n",
       "      <td>Drama, International</td>\n",
       "      <td>amazon</td>\n",
       "      <td>as2</td>\n",
       "    </tr>\n",
       "    <tr>\n",
       "      <th>1</th>\n",
       "      <td>s17</td>\n",
       "      <td>Zoombies</td>\n",
       "      <td>Glenn Miller</td>\n",
       "      <td>Marcus Anderson, Kaiwi Lyman, Andrew Asper</td>\n",
       "      <td>2016</td>\n",
       "      <td>13+</td>\n",
       "      <td>87</td>\n",
       "      <td>Horror, Science Fiction</td>\n",
       "      <td>amazon</td>\n",
       "      <td>as17</td>\n",
       "    </tr>\n",
       "    <tr>\n",
       "      <th>2</th>\n",
       "      <td>s20</td>\n",
       "      <td>Zoe</td>\n",
       "      <td>Drake Doremus</td>\n",
       "      <td>Ewan McGregor, Léa Seydoux, Theo James, Mirand...</td>\n",
       "      <td>2018</td>\n",
       "      <td>R</td>\n",
       "      <td>104</td>\n",
       "      <td>Science Fiction</td>\n",
       "      <td>amazon</td>\n",
       "      <td>as20</td>\n",
       "    </tr>\n",
       "    <tr>\n",
       "      <th>3</th>\n",
       "      <td>s23</td>\n",
       "      <td>Zis Boom Bah</td>\n",
       "      <td>William Nigh</td>\n",
       "      <td>Grace Hayes, Mary Healy</td>\n",
       "      <td>1941</td>\n",
       "      <td>NR</td>\n",
       "      <td>62</td>\n",
       "      <td>Arts, Entertainment, and Culture, Comedy, Drama</td>\n",
       "      <td>amazon</td>\n",
       "      <td>as23</td>\n",
       "    </tr>\n",
       "    <tr>\n",
       "      <th>4</th>\n",
       "      <td>s25</td>\n",
       "      <td>Zandalee</td>\n",
       "      <td>Sam Pillsbury</td>\n",
       "      <td>Nicolas Cage, Judge Reinhold, Erika Anderson, ...</td>\n",
       "      <td>1991</td>\n",
       "      <td>R</td>\n",
       "      <td>94</td>\n",
       "      <td>Drama</td>\n",
       "      <td>amazon</td>\n",
       "      <td>as25</td>\n",
       "    </tr>\n",
       "  </tbody>\n",
       "</table>\n",
       "</div>"
      ],
      "text/plain": [
       "    id                titulo       director  \\\n",
       "0   s2  Take Care Good Night   Girish Joshi   \n",
       "1  s17              Zoombies   Glenn Miller   \n",
       "2  s20                   Zoe  Drake Doremus   \n",
       "3  s23          Zis Boom Bah   William Nigh   \n",
       "4  s25              Zandalee  Sam Pillsbury   \n",
       "\n",
       "                                              elenco  anio clasificacion  \\\n",
       "0   Mahesh Manjrekar, Abhay Mahajan, Sachin Khedekar  2018           13+   \n",
       "1         Marcus Anderson, Kaiwi Lyman, Andrew Asper  2016           13+   \n",
       "2  Ewan McGregor, Léa Seydoux, Theo James, Mirand...  2018             R   \n",
       "3                            Grace Hayes, Mary Healy  1941            NR   \n",
       "4  Nicolas Cage, Judge Reinhold, Erika Anderson, ...  1991             R   \n",
       "\n",
       "  duracion                                       listado_en plataforma show_id  \n",
       "0      110                             Drama, International     amazon     as2  \n",
       "1       87                          Horror, Science Fiction     amazon    as17  \n",
       "2      104                                  Science Fiction     amazon    as20  \n",
       "3       62  Arts, Entertainment, and Culture, Comedy, Drama     amazon    as23  \n",
       "4       94                                            Drama     amazon    as25  "
      ]
     },
     "execution_count": 55,
     "metadata": {},
     "output_type": "execute_result"
    }
   ],
   "source": [
    "pelis.head(5)"
   ]
  },
  {
   "cell_type": "code",
   "execution_count": 56,
   "metadata": {},
   "outputs": [
    {
     "data": {
      "text/plain": [
       "userId       int64\n",
       "rating     float64\n",
       "movieId     object\n",
       "dtype: object"
      ]
     },
     "execution_count": 56,
     "metadata": {},
     "output_type": "execute_result"
    }
   ],
   "source": [
    "punt.dtypes"
   ]
  },
  {
   "cell_type": "code",
   "execution_count": 27,
   "metadata": {},
   "outputs": [
    {
     "data": {
      "text/plain": [
       "id               object\n",
       "titulo           object\n",
       "director         object\n",
       "elenco           object\n",
       "anio              int64\n",
       "clasificacion    object\n",
       "duracion         object\n",
       "listado_en       object\n",
       "plataforma       object\n",
       "show_id          object\n",
       "dtype: object"
      ]
     },
     "execution_count": 27,
     "metadata": {},
     "output_type": "execute_result"
    }
   ],
   "source": [
    "pelis.dtypes"
   ]
  },
  {
   "cell_type": "code",
   "execution_count": 32,
   "metadata": {},
   "outputs": [],
   "source": [
    "# Realizar un left join en los códigos \n",
    "peli_punt = pd.merge(pelis, punt, how='left', left_on=pelis['show_id'], right_on=punt['movieId'], suffixes=('_pelis', '_punt'))"
   ]
  },
  {
   "cell_type": "code",
   "execution_count": 33,
   "metadata": {},
   "outputs": [
    {
     "data": {
      "text/html": [
       "<div>\n",
       "<style scoped>\n",
       "    .dataframe tbody tr th:only-of-type {\n",
       "        vertical-align: middle;\n",
       "    }\n",
       "\n",
       "    .dataframe tbody tr th {\n",
       "        vertical-align: top;\n",
       "    }\n",
       "\n",
       "    .dataframe thead th {\n",
       "        text-align: right;\n",
       "    }\n",
       "</style>\n",
       "<table border=\"1\" class=\"dataframe\">\n",
       "  <thead>\n",
       "    <tr style=\"text-align: right;\">\n",
       "      <th></th>\n",
       "      <th>key_0</th>\n",
       "      <th>id</th>\n",
       "      <th>titulo</th>\n",
       "      <th>director</th>\n",
       "      <th>elenco</th>\n",
       "      <th>anio</th>\n",
       "      <th>clasificacion</th>\n",
       "      <th>duracion</th>\n",
       "      <th>listado_en</th>\n",
       "      <th>plataforma</th>\n",
       "      <th>show_id</th>\n",
       "      <th>userId</th>\n",
       "      <th>rating</th>\n",
       "      <th>movieId</th>\n",
       "    </tr>\n",
       "  </thead>\n",
       "  <tbody>\n",
       "    <tr>\n",
       "      <th>6249823</th>\n",
       "      <td>ds1450</td>\n",
       "      <td>s1450</td>\n",
       "      <td>Captain Sparky vs. The Flying Saucers</td>\n",
       "      <td>Mark Waring</td>\n",
       "      <td>Charlie Tahan</td>\n",
       "      <td>2012</td>\n",
       "      <td>TV-G</td>\n",
       "      <td>2 min</td>\n",
       "      <td>Action-Adventure, Animals &amp; Nature, Animation</td>\n",
       "      <td>disney</td>\n",
       "      <td>ds1450</td>\n",
       "      <td>122406</td>\n",
       "      <td>4.0</td>\n",
       "      <td>ds1450</td>\n",
       "    </tr>\n",
       "    <tr>\n",
       "      <th>6249824</th>\n",
       "      <td>ds1450</td>\n",
       "      <td>s1450</td>\n",
       "      <td>Captain Sparky vs. The Flying Saucers</td>\n",
       "      <td>Mark Waring</td>\n",
       "      <td>Charlie Tahan</td>\n",
       "      <td>2012</td>\n",
       "      <td>TV-G</td>\n",
       "      <td>2 min</td>\n",
       "      <td>Action-Adventure, Animals &amp; Nature, Animation</td>\n",
       "      <td>disney</td>\n",
       "      <td>ds1450</td>\n",
       "      <td>122662</td>\n",
       "      <td>2.0</td>\n",
       "      <td>ds1450</td>\n",
       "    </tr>\n",
       "    <tr>\n",
       "      <th>6249825</th>\n",
       "      <td>ds1450</td>\n",
       "      <td>s1450</td>\n",
       "      <td>Captain Sparky vs. The Flying Saucers</td>\n",
       "      <td>Mark Waring</td>\n",
       "      <td>Charlie Tahan</td>\n",
       "      <td>2012</td>\n",
       "      <td>TV-G</td>\n",
       "      <td>2 min</td>\n",
       "      <td>Action-Adventure, Animals &amp; Nature, Animation</td>\n",
       "      <td>disney</td>\n",
       "      <td>ds1450</td>\n",
       "      <td>124016</td>\n",
       "      <td>3.5</td>\n",
       "      <td>ds1450</td>\n",
       "    </tr>\n",
       "    <tr>\n",
       "      <th>6249826</th>\n",
       "      <td>ds1450</td>\n",
       "      <td>s1450</td>\n",
       "      <td>Captain Sparky vs. The Flying Saucers</td>\n",
       "      <td>Mark Waring</td>\n",
       "      <td>Charlie Tahan</td>\n",
       "      <td>2012</td>\n",
       "      <td>TV-G</td>\n",
       "      <td>2 min</td>\n",
       "      <td>Action-Adventure, Animals &amp; Nature, Animation</td>\n",
       "      <td>disney</td>\n",
       "      <td>ds1450</td>\n",
       "      <td>124030</td>\n",
       "      <td>1.0</td>\n",
       "      <td>ds1450</td>\n",
       "    </tr>\n",
       "    <tr>\n",
       "      <th>6249827</th>\n",
       "      <td>ds1450</td>\n",
       "      <td>s1450</td>\n",
       "      <td>Captain Sparky vs. The Flying Saucers</td>\n",
       "      <td>Mark Waring</td>\n",
       "      <td>Charlie Tahan</td>\n",
       "      <td>2012</td>\n",
       "      <td>TV-G</td>\n",
       "      <td>2 min</td>\n",
       "      <td>Action-Adventure, Animals &amp; Nature, Animation</td>\n",
       "      <td>disney</td>\n",
       "      <td>ds1450</td>\n",
       "      <td>124264</td>\n",
       "      <td>3.5</td>\n",
       "      <td>ds1450</td>\n",
       "    </tr>\n",
       "  </tbody>\n",
       "</table>\n",
       "</div>"
      ],
      "text/plain": [
       "          key_0     id                                 titulo     director  \\\n",
       "6249823  ds1450  s1450  Captain Sparky vs. The Flying Saucers  Mark Waring   \n",
       "6249824  ds1450  s1450  Captain Sparky vs. The Flying Saucers  Mark Waring   \n",
       "6249825  ds1450  s1450  Captain Sparky vs. The Flying Saucers  Mark Waring   \n",
       "6249826  ds1450  s1450  Captain Sparky vs. The Flying Saucers  Mark Waring   \n",
       "6249827  ds1450  s1450  Captain Sparky vs. The Flying Saucers  Mark Waring   \n",
       "\n",
       "                elenco  anio clasificacion duracion  \\\n",
       "6249823  Charlie Tahan  2012          TV-G    2 min   \n",
       "6249824  Charlie Tahan  2012          TV-G    2 min   \n",
       "6249825  Charlie Tahan  2012          TV-G    2 min   \n",
       "6249826  Charlie Tahan  2012          TV-G    2 min   \n",
       "6249827  Charlie Tahan  2012          TV-G    2 min   \n",
       "\n",
       "                                            listado_en plataforma show_id  \\\n",
       "6249823  Action-Adventure, Animals & Nature, Animation     disney  ds1450   \n",
       "6249824  Action-Adventure, Animals & Nature, Animation     disney  ds1450   \n",
       "6249825  Action-Adventure, Animals & Nature, Animation     disney  ds1450   \n",
       "6249826  Action-Adventure, Animals & Nature, Animation     disney  ds1450   \n",
       "6249827  Action-Adventure, Animals & Nature, Animation     disney  ds1450   \n",
       "\n",
       "         userId  rating movieId  \n",
       "6249823  122406     4.0  ds1450  \n",
       "6249824  122662     2.0  ds1450  \n",
       "6249825  124016     3.5  ds1450  \n",
       "6249826  124030     1.0  ds1450  \n",
       "6249827  124264     3.5  ds1450  "
      ]
     },
     "execution_count": 33,
     "metadata": {},
     "output_type": "execute_result"
    }
   ],
   "source": [
    "peli_punt.tail(5)"
   ]
  },
  {
   "cell_type": "code",
   "execution_count": 35,
   "metadata": {},
   "outputs": [
    {
     "data": {
      "text/plain": [
       "(6249828, 14)"
      ]
     },
     "execution_count": 35,
     "metadata": {},
     "output_type": "execute_result"
    }
   ],
   "source": [
    "peli_punt.shape"
   ]
  },
  {
   "cell_type": "code",
   "execution_count": 36,
   "metadata": {},
   "outputs": [],
   "source": [
    "import pandas as pd\n",
    "import numpy as np\n",
    "import sklearn\n",
    "import matplotlib.pyplot as plt\n",
    "import seaborn as sns"
   ]
  },
  {
   "cell_type": "code",
   "execution_count": 29,
   "metadata": {},
   "outputs": [],
   "source": [
    "from sklearn.cluster import KMeans"
   ]
  },
  {
   "cell_type": "code",
   "execution_count": 30,
   "metadata": {},
   "outputs": [],
   "source": [
    "first_kmeans = KMeans(n_clusters=4, random_state=0)"
   ]
  },
  {
   "cell_type": "code",
   "execution_count": null,
   "metadata": {},
   "outputs": [],
   "source": [
    "first_kmeans.fit(X1);\n"
   ]
  },
  {
   "cell_type": "code",
   "execution_count": 36,
   "metadata": {},
   "outputs": [],
   "source": [
    "from sklearn.cluster import KMeans\n",
    "from sklearn.preprocessing import StandardScaler\n"
   ]
  },
  {
   "cell_type": "code",
   "execution_count": 38,
   "metadata": {},
   "outputs": [],
   "source": [
    "# Supongamos que tienes una columna 'puntuacion' que representa la puntuación de la película\n",
    "features = resultado['rating']\n",
    "features_2d = features.values.reshape(-1, 1)\n",
    "\n",
    "# Escalado de características (normalización)\n",
    "scaler = StandardScaler()\n",
    "scaled_features = scaler.fit_transform(features_2d)\n"
   ]
  },
  {
   "cell_type": "code",
   "execution_count": 41,
   "metadata": {},
   "outputs": [
    {
     "name": "stderr",
     "output_type": "stream",
     "text": [
      "c:\\Users\\Luna\\anaconda3\\lib\\site-packages\\sklearn\\cluster\\_kmeans.py:1412: FutureWarning: The default value of `n_init` will change from 10 to 'auto' in 1.4. Set the value of `n_init` explicitly to suppress the warning\n",
      "  super()._check_params_vs_input(X, default_n_init=10)\n"
     ]
    }
   ],
   "source": [
    "# Especifica el número de clústeres que deseas encontrar (puedes ajustar este valor)\n",
    "num_clusters = 3\n",
    "\n",
    "# Crea el modelo k-means\n",
    "kmeans = KMeans(n_clusters=num_clusters, random_state=42)\n",
    "\n",
    "# Aplica el modelo a los datos escalados\n",
    "resultado['cluster'] = kmeans.fit_predict(scaled_features)\n"
   ]
  },
  {
   "cell_type": "code",
   "execution_count": 44,
   "metadata": {},
   "outputs": [
    {
     "name": "stdout",
     "output_type": "stream",
     "text": [
      "                                        titulo  rating  cluster  \\\n",
      "0                         Take Care Good Night     3.0        1   \n",
      "1                         Take Care Good Night     4.0        0   \n",
      "2                         Take Care Good Night     4.0        0   \n",
      "3                         Take Care Good Night     3.0        1   \n",
      "4                         Take Care Good Night     4.0        0   \n",
      "...                                        ...     ...      ...   \n",
      "1014581  Captain Sparky vs. The Flying Saucers     3.5        1   \n",
      "1014582  Captain Sparky vs. The Flying Saucers     2.0        2   \n",
      "1014583  Captain Sparky vs. The Flying Saucers     4.5        0   \n",
      "1014584  Captain Sparky vs. The Flying Saucers     3.0        1   \n",
      "1014585  Captain Sparky vs. The Flying Saucers     3.5        1   \n",
      "\n",
      "        centroide_mas_cercano  \n",
      "0        [3.0972078634088263]  \n",
      "1         [4.371765215559022]  \n",
      "2         [4.371765215559022]  \n",
      "3        [3.0972078634088263]  \n",
      "4         [4.371765215559022]  \n",
      "...                       ...  \n",
      "1014581  [3.0972078634088263]  \n",
      "1014582  [1.5295417004305163]  \n",
      "1014583   [4.371765215559022]  \n",
      "1014584  [3.0972078634088263]  \n",
      "1014585  [3.0972078634088263]  \n",
      "\n",
      "[1014586 rows x 4 columns]\n"
     ]
    }
   ],
   "source": [
    "# Visualización de los resultados\n",
    "cluster_centers = scaler.inverse_transform(kmeans.cluster_centers_)  # Volvemos a la escala original\n",
    "resultado['centroide_mas_cercano'] = resultado['cluster'].apply(lambda x: cluster_centers[x])\n",
    "\n",
    "# Puedes imprimir los resultados o hacer análisis más detallados\n",
    "print(resultado[['titulo', 'rating', 'cluster', 'centroide_mas_cercano']])\n"
   ]
  },
  {
   "cell_type": "code",
   "execution_count": 45,
   "metadata": {},
   "outputs": [
    {
     "ename": "KeyError",
     "evalue": "'Feature1'",
     "output_type": "error",
     "traceback": [
      "\u001b[1;31m---------------------------------------------------------------------------\u001b[0m",
      "\u001b[1;31mKeyError\u001b[0m                                  Traceback (most recent call last)",
      "File \u001b[1;32mc:\\Users\\Luna\\anaconda3\\lib\\site-packages\\pandas\\core\\indexes\\base.py:3653\u001b[0m, in \u001b[0;36mIndex.get_loc\u001b[1;34m(self, key)\u001b[0m\n\u001b[0;32m   3652\u001b[0m \u001b[39mtry\u001b[39;00m:\n\u001b[1;32m-> 3653\u001b[0m     \u001b[39mreturn\u001b[39;00m \u001b[39mself\u001b[39;49m\u001b[39m.\u001b[39;49m_engine\u001b[39m.\u001b[39;49mget_loc(casted_key)\n\u001b[0;32m   3654\u001b[0m \u001b[39mexcept\u001b[39;00m \u001b[39mKeyError\u001b[39;00m \u001b[39mas\u001b[39;00m err:\n",
      "File \u001b[1;32mc:\\Users\\Luna\\anaconda3\\lib\\site-packages\\pandas\\_libs\\index.pyx:147\u001b[0m, in \u001b[0;36mpandas._libs.index.IndexEngine.get_loc\u001b[1;34m()\u001b[0m\n",
      "File \u001b[1;32mc:\\Users\\Luna\\anaconda3\\lib\\site-packages\\pandas\\_libs\\index.pyx:176\u001b[0m, in \u001b[0;36mpandas._libs.index.IndexEngine.get_loc\u001b[1;34m()\u001b[0m\n",
      "File \u001b[1;32mpandas\\_libs\\hashtable_class_helper.pxi:7080\u001b[0m, in \u001b[0;36mpandas._libs.hashtable.PyObjectHashTable.get_item\u001b[1;34m()\u001b[0m\n",
      "File \u001b[1;32mpandas\\_libs\\hashtable_class_helper.pxi:7088\u001b[0m, in \u001b[0;36mpandas._libs.hashtable.PyObjectHashTable.get_item\u001b[1;34m()\u001b[0m\n",
      "\u001b[1;31mKeyError\u001b[0m: 'Feature1'",
      "\nThe above exception was the direct cause of the following exception:\n",
      "\u001b[1;31mKeyError\u001b[0m                                  Traceback (most recent call last)",
      "Cell \u001b[1;32mIn[45], line 3\u001b[0m\n\u001b[0;32m      1\u001b[0m \u001b[39mimport\u001b[39;00m \u001b[39mmatplotlib\u001b[39;00m\u001b[39m.\u001b[39;00m\u001b[39mpyplot\u001b[39;00m \u001b[39mas\u001b[39;00m \u001b[39mplt\u001b[39;00m\n\u001b[1;32m----> 3\u001b[0m plt\u001b[39m.\u001b[39mscatter(resultado[\u001b[39m'\u001b[39;49m\u001b[39mFeature1\u001b[39;49m\u001b[39m'\u001b[39;49m], resultado[\u001b[39m'\u001b[39m\u001b[39mFeature2\u001b[39m\u001b[39m'\u001b[39m], c\u001b[39m=\u001b[39mresultado[\u001b[39m'\u001b[39m\u001b[39mcluster\u001b[39m\u001b[39m'\u001b[39m], cmap\u001b[39m=\u001b[39m\u001b[39m'\u001b[39m\u001b[39mviridis\u001b[39m\u001b[39m'\u001b[39m)\n\u001b[0;32m      4\u001b[0m plt\u001b[39m.\u001b[39mtitle(\u001b[39m'\u001b[39m\u001b[39mGráfico de dispersión 2D con asignaciones de clústeres\u001b[39m\u001b[39m'\u001b[39m)\n\u001b[0;32m      5\u001b[0m plt\u001b[39m.\u001b[39mxlabel(\u001b[39m'\u001b[39m\u001b[39mFeature1\u001b[39m\u001b[39m'\u001b[39m)\n",
      "File \u001b[1;32mc:\\Users\\Luna\\anaconda3\\lib\\site-packages\\pandas\\core\\frame.py:3761\u001b[0m, in \u001b[0;36mDataFrame.__getitem__\u001b[1;34m(self, key)\u001b[0m\n\u001b[0;32m   3759\u001b[0m \u001b[39mif\u001b[39;00m \u001b[39mself\u001b[39m\u001b[39m.\u001b[39mcolumns\u001b[39m.\u001b[39mnlevels \u001b[39m>\u001b[39m \u001b[39m1\u001b[39m:\n\u001b[0;32m   3760\u001b[0m     \u001b[39mreturn\u001b[39;00m \u001b[39mself\u001b[39m\u001b[39m.\u001b[39m_getitem_multilevel(key)\n\u001b[1;32m-> 3761\u001b[0m indexer \u001b[39m=\u001b[39m \u001b[39mself\u001b[39;49m\u001b[39m.\u001b[39;49mcolumns\u001b[39m.\u001b[39;49mget_loc(key)\n\u001b[0;32m   3762\u001b[0m \u001b[39mif\u001b[39;00m is_integer(indexer):\n\u001b[0;32m   3763\u001b[0m     indexer \u001b[39m=\u001b[39m [indexer]\n",
      "File \u001b[1;32mc:\\Users\\Luna\\anaconda3\\lib\\site-packages\\pandas\\core\\indexes\\base.py:3655\u001b[0m, in \u001b[0;36mIndex.get_loc\u001b[1;34m(self, key)\u001b[0m\n\u001b[0;32m   3653\u001b[0m     \u001b[39mreturn\u001b[39;00m \u001b[39mself\u001b[39m\u001b[39m.\u001b[39m_engine\u001b[39m.\u001b[39mget_loc(casted_key)\n\u001b[0;32m   3654\u001b[0m \u001b[39mexcept\u001b[39;00m \u001b[39mKeyError\u001b[39;00m \u001b[39mas\u001b[39;00m err:\n\u001b[1;32m-> 3655\u001b[0m     \u001b[39mraise\u001b[39;00m \u001b[39mKeyError\u001b[39;00m(key) \u001b[39mfrom\u001b[39;00m \u001b[39merr\u001b[39;00m\n\u001b[0;32m   3656\u001b[0m \u001b[39mexcept\u001b[39;00m \u001b[39mTypeError\u001b[39;00m:\n\u001b[0;32m   3657\u001b[0m     \u001b[39m# If we have a listlike key, _check_indexing_error will raise\u001b[39;00m\n\u001b[0;32m   3658\u001b[0m     \u001b[39m#  InvalidIndexError. Otherwise we fall through and re-raise\u001b[39;00m\n\u001b[0;32m   3659\u001b[0m     \u001b[39m#  the TypeError.\u001b[39;00m\n\u001b[0;32m   3660\u001b[0m     \u001b[39mself\u001b[39m\u001b[39m.\u001b[39m_check_indexing_error(key)\n",
      "\u001b[1;31mKeyError\u001b[0m: 'Feature1'"
     ]
    }
   ],
   "source": [
    "import matplotlib.pyplot as plt\n",
    "\n",
    "plt.scatter(resultado['rating'], c=resultado['cluster'], cmap='viridis')\n",
    "plt.title('Gráfico de dispersión 2D con asignaciones de clústeres')\n",
    "plt.xlabel('rating')\n",
    "plt.show()\n"
   ]
  },
  {
   "cell_type": "code",
   "execution_count": 46,
   "metadata": {},
   "outputs": [
    {
     "name": "stderr",
     "output_type": "stream",
     "text": [
      "c:\\Users\\Luna\\anaconda3\\lib\\site-packages\\sklearn\\cluster\\_kmeans.py:1412: FutureWarning: The default value of `n_init` will change from 10 to 'auto' in 1.4. Set the value of `n_init` explicitly to suppress the warning\n",
      "  super()._check_params_vs_input(X, default_n_init=10)\n",
      "c:\\Users\\Luna\\anaconda3\\lib\\site-packages\\sklearn\\cluster\\_kmeans.py:1412: FutureWarning: The default value of `n_init` will change from 10 to 'auto' in 1.4. Set the value of `n_init` explicitly to suppress the warning\n",
      "  super()._check_params_vs_input(X, default_n_init=10)\n",
      "c:\\Users\\Luna\\anaconda3\\lib\\site-packages\\sklearn\\cluster\\_kmeans.py:1412: FutureWarning: The default value of `n_init` will change from 10 to 'auto' in 1.4. Set the value of `n_init` explicitly to suppress the warning\n",
      "  super()._check_params_vs_input(X, default_n_init=10)\n",
      "c:\\Users\\Luna\\anaconda3\\lib\\site-packages\\sklearn\\cluster\\_kmeans.py:1412: FutureWarning: The default value of `n_init` will change from 10 to 'auto' in 1.4. Set the value of `n_init` explicitly to suppress the warning\n",
      "  super()._check_params_vs_input(X, default_n_init=10)\n",
      "c:\\Users\\Luna\\anaconda3\\lib\\site-packages\\sklearn\\cluster\\_kmeans.py:1412: FutureWarning: The default value of `n_init` will change from 10 to 'auto' in 1.4. Set the value of `n_init` explicitly to suppress the warning\n",
      "  super()._check_params_vs_input(X, default_n_init=10)\n",
      "c:\\Users\\Luna\\anaconda3\\lib\\site-packages\\sklearn\\cluster\\_kmeans.py:1412: FutureWarning: The default value of `n_init` will change from 10 to 'auto' in 1.4. Set the value of `n_init` explicitly to suppress the warning\n",
      "  super()._check_params_vs_input(X, default_n_init=10)\n",
      "c:\\Users\\Luna\\anaconda3\\lib\\site-packages\\sklearn\\cluster\\_kmeans.py:1412: FutureWarning: The default value of `n_init` will change from 10 to 'auto' in 1.4. Set the value of `n_init` explicitly to suppress the warning\n",
      "  super()._check_params_vs_input(X, default_n_init=10)\n",
      "c:\\Users\\Luna\\anaconda3\\lib\\site-packages\\sklearn\\cluster\\_kmeans.py:1412: FutureWarning: The default value of `n_init` will change from 10 to 'auto' in 1.4. Set the value of `n_init` explicitly to suppress the warning\n",
      "  super()._check_params_vs_input(X, default_n_init=10)\n",
      "c:\\Users\\Luna\\anaconda3\\lib\\site-packages\\sklearn\\cluster\\_kmeans.py:1412: FutureWarning: The default value of `n_init` will change from 10 to 'auto' in 1.4. Set the value of `n_init` explicitly to suppress the warning\n",
      "  super()._check_params_vs_input(X, default_n_init=10)\n",
      "c:\\Users\\Luna\\anaconda3\\lib\\site-packages\\sklearn\\cluster\\_kmeans.py:1412: FutureWarning: The default value of `n_init` will change from 10 to 'auto' in 1.4. Set the value of `n_init` explicitly to suppress the warning\n",
      "  super()._check_params_vs_input(X, default_n_init=10)\n"
     ]
    },
    {
     "data": {
      "image/png": "[encoded data removed]",
      "text/plain": [
       "<Figure size 640x480 with 1 Axes>"
      ]
     },
     "metadata": {},
     "output_type": "display_data"
    }
   ],
   "source": [
    "inertias = []\n",
    "for i in range(1, 11):\n",
    "    kmeans = KMeans(n_clusters=i, random_state=42)\n",
    "    kmeans.fit(scaled_features)\n",
    "    inertias.append(kmeans.inertia_)\n",
    "\n",
    "plt.plot(range(1, 11), inertias, marker='o')\n",
    "plt.title('Diagrama de Codo')\n",
    "plt.xlabel('Número de Clústeres')\n",
    "plt.ylabel('Inercia')\n",
    "plt.show()\n"
   ]
  }
 ],
 "metadata": {
  "kernelspec": {
   "display_name": "Python 3 (ipykernel)",
   "language": "python",
   "name": "python3"
  },
  "language_info": {
   "codemirror_mode": {
    "name": "ipython",
    "version": 3
   },
   "file_extension": ".py",
   "mimetype": "text/x-python",
   "name": "python",
   "nbconvert_exporter": "python",
   "pygments_lexer": "ipython3",
   "version": "3.11.3"
  }
 },
 "nbformat": 4,
 "nbformat_minor": 2
}
