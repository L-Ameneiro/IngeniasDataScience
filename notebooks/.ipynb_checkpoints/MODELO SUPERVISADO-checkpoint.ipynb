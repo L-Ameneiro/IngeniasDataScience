{
 "cells": [
  {
   "cell_type": "markdown",
   "id": "165fa68d",
   "metadata": {},
   "source": [
    "# MODELO SUPERVISADO "
   ]
  },
  {
   "cell_type": "code",
   "execution_count": null,
   "id": "5ff491dd",
   "metadata": {},
   "outputs": [],
   "source": [
    "# Se importan las librerías que se utilizarán: \n",
    "import numpy as np\n",
    "import pandas as pd\n",
    "import matplotlib.pyplot as plt\n",
    "import seaborn as sns \n",
    "import scipy as stats\n",
    "import re\n",
    "import heapq\n",
    "import matplotlib.cm as cm\n",
    "import os\n",
    "from sklearn.model_selection import train_test_split"
   ]
  },
  {
   "cell_type": "code",
   "execution_count": null,
   "id": "2bfba850",
   "metadata": {},
   "outputs": [],
   "source": [
    "# Se importa el dataset final (CSV) y se visualiza\n",
    "peliculas5=pd.read_csv(r'..\\\\datasets\\\\peliculas_final.csv')\n",
    "peliculas5"
   ]
  },
  {
   "cell_type": "code",
   "execution_count": null,
   "id": "8384b846",
   "metadata": {},
   "outputs": [],
   "source": [
    "# Se eliminan los valores que no sean numéricos.peliculas5[\n",
    "peliculas5=peliculas5['show_id'] = peliculas5['show_id'].str.replace(r'\\D', '', regex=True)\n",
    "\n",
    "# Ver las primeras filas del DataFrame resultante\n",
    "print(peliculas5.head())"
   ]
  },
  {
   "cell_type": "code",
   "execution_count": null,
   "id": "f4e5ed2e",
   "metadata": {},
   "outputs": [],
   "source": [
    "# Se crean las variables dummies\n",
    "dum_supervisado = pd.get_dummies(peliculas5, columns=['plataforma', 'clasificacion'])"
   ]
  },
  {
   "cell_type": "code",
   "execution_count": null,
   "id": "0bda69d3",
   "metadata": {},
   "outputs": [],
   "source": [
    "# Se eliminan aquellas variables que no se vana a incluir en el modelo.\n",
    "dum_supervisado1= dum_supervisado.drop(['titulo', 'director', 'elenco', 'anio', 'duracion', 'genero'], axis=1)\n",
    "dum_supervisado1"
   ]
  },
  {
   "cell_type": "code",
   "execution_count": null,
   "id": "5f34a7cc",
   "metadata": {},
   "outputs": [],
   "source": [
    "# Se eliminan los valores que no sean numéricos de todas las columnas de dum_supervisado1\n",
    "dum_supervisado1['show_id'] = dum_supervisado['show_id'].str.replace(r'\\D', '', regex=True)\n",
    "\n",
    "# Ver las primeras filas del DataFrame resultante\n",
    "print(peliculas5.head())"
   ]
  },
  {
   "cell_type": "code",
   "execution_count": 1,
   "id": "dfe871a3",
   "metadata": {},
   "outputs": [
    {
     "ename": "NameError",
     "evalue": "name 'peliculas5' is not defined",
     "output_type": "error",
     "traceback": [
      "\u001b[1;31m---------------------------------------------------------------------------\u001b[0m",
      "\u001b[1;31mNameError\u001b[0m                                 Traceback (most recent call last)",
      "Cell \u001b[1;32mIn[1], line 1\u001b[0m\n\u001b[1;32m----> 1\u001b[0m peliculas5[\u001b[38;5;124m'\u001b[39m\u001b[38;5;124mpel_exitosa\u001b[39m\u001b[38;5;124m'\u001b[39m]\u001b[38;5;241m=\u001b[39mpeliculas5[\u001b[38;5;124m'\u001b[39m\u001b[38;5;124mpunt_media\u001b[39m\u001b[38;5;124m'\u001b[39m]\u001b[38;5;241m.\u001b[39mapply(\u001b[38;5;28;01mlambda\u001b[39;00m x: \u001b[38;5;241m0\u001b[39m \u001b[38;5;28;01mif\u001b[39;00m x \u001b[38;5;241m<\u001b[39m \u001b[38;5;241m3.5\u001b[39m \u001b[38;5;28;01melse\u001b[39;00m \u001b[38;5;241m1\u001b[39m)\n",
      "\u001b[1;31mNameError\u001b[0m: name 'peliculas5' is not defined"
     ]
    }
   ],
   "source": [
    "peliculas5['pel_exitosa']=peliculas5['punt_media'].apply(lambda x: 0 if x < 3.5 else 1)"
   ]
  },
  {
   "cell_type": "code",
   "execution_count": null,
   "id": "bec9b6b2",
   "metadata": {},
   "outputs": [],
   "source": [
    "# Se guarada el dataset a csv\n",
    "dum_supervisado1.to_csv(r'..\\datasets\\supervisado.csv', index=False)"
   ]
  },
  {
   "cell_type": "code",
   "execution_count": null,
   "id": "9b075cad",
   "metadata": {},
   "outputs": [],
   "source": [
    "# Se importa el dataset y se visualiza\n",
    "supervisado=pd.read_csv(r'..\\\\datasets\\\\supervisado.csv')\n",
    "supervisado"
   ]
  },
  {
   "cell_type": "markdown",
   "id": "d32ef9df",
   "metadata": {},
   "source": [
    "### Objetivo: Determinar si la película será exitosa\n"
   ]
  },
  {
   "cell_type": "code",
   "execution_count": null,
   "id": "11bcbc0f",
   "metadata": {},
   "outputs": [],
   "source": [
    "peliculas5['pel_exitosa']=peliculas5['punt_media'].apply(lambda x: 0 if x < 3.5 else 1)"
   ]
  },
  {
   "cell_type": "code",
   "execution_count": null,
   "id": "70100928",
   "metadata": {},
   "outputs": [],
   "source": [
    "# Se eliminan aquellas variables que no se vana a incluir en el modelo y se las guardo en x. \n",
    "x= supervisado.drop(['punt_media'], axis=1)\n",
    "x.head()"
   ]
  },
  {
   "cell_type": "code",
   "execution_count": null,
   "id": "cf43c616",
   "metadata": {},
   "outputs": [],
   "source": [
    "lista_atributos = x.columns"
   ]
  },
  {
   "cell_type": "code",
   "execution_count": null,
   "id": "5ef95460",
   "metadata": {},
   "outputs": [],
   "source": [
    "# Ahora selecciono las etiquetas y las guardo en y.\n",
    "y = supervisado['punt_media']"
   ]
  },
  {
   "cell_type": "code",
   "execution_count": null,
   "id": "c6b6e78e",
   "metadata": {},
   "outputs": [],
   "source": [
    "x, y = np.array(x), np.array(y)"
   ]
  },
  {
   "cell_type": "code",
   "execution_count": null,
   "id": "1b3ddc39",
   "metadata": {},
   "outputs": [],
   "source": [
    "x      "
   ]
  },
  {
   "cell_type": "code",
   "execution_count": null,
   "id": "46c2d228",
   "metadata": {},
   "outputs": [],
   "source": [
    "y[:4]   # En este caso es el punt_media"
   ]
  },
  {
   "cell_type": "markdown",
   "id": "e9fbfcdd",
   "metadata": {},
   "source": [
    "### Separando Train / Test "
   ]
  },
  {
   "cell_type": "code",
   "execution_count": null,
   "id": "11eed71d",
   "metadata": {},
   "outputs": [],
   "source": [
    "X_train, X_test, y_train, y_test = train_test_split(x, y, test_size=0.2,random_state=42)"
   ]
  },
  {
   "cell_type": "code",
   "execution_count": null,
   "id": "257801d8",
   "metadata": {},
   "outputs": [],
   "source": [
    "x.shape # Se observan la cantidad de filas y columnas "
   ]
  },
  {
   "cell_type": "code",
   "execution_count": null,
   "id": "60cd5f2b",
   "metadata": {},
   "outputs": [],
   "source": [
    "X_train.shape # 10420 seran de entrenamiento "
   ]
  },
  {
   "cell_type": "code",
   "execution_count": null,
   "id": "019cd835",
   "metadata": {},
   "outputs": [],
   "source": [
    "X_test.shape  # 2606 serán de evaluación "
   ]
  },
  {
   "cell_type": "code",
   "execution_count": null,
   "id": "7cde70f7",
   "metadata": {},
   "outputs": [],
   "source": [
    "X_test"
   ]
  },
  {
   "cell_type": "markdown",
   "id": "27eee4f6",
   "metadata": {},
   "source": [
    "### Random Forest"
   ]
  },
  {
   "cell_type": "code",
   "execution_count": null,
   "id": "62736f68",
   "metadata": {},
   "outputs": [],
   "source": [
    "# Se importan las librerías\n",
    "from sklearn.ensemble import RandomForestRegressor\n",
    "from sklearn.metrics import mean_absolute_error"
   ]
  },
  {
   "cell_type": "code",
   "execution_count": null,
   "id": "42990c1a",
   "metadata": {},
   "outputs": [],
   "source": [
    "# Se inicia el modelo\n",
    "regresor = RandomForestRegressor(criterion='squared_error', random_state=42)"
   ]
  },
  {
   "cell_type": "code",
   "execution_count": null,
   "id": "e01310cf",
   "metadata": {},
   "outputs": [],
   "source": [
    "# Se entrena el modelo\n",
    "regresor.fit(X_train, y_train);"
   ]
  },
  {
   "cell_type": "code",
   "execution_count": null,
   "id": "6d1b78d0",
   "metadata": {},
   "outputs": [],
   "source": [
    "regresor.get_params()"
   ]
  },
  {
   "cell_type": "code",
   "execution_count": null,
   "id": "b38e1563",
   "metadata": {},
   "outputs": [],
   "source": [
    "# Se predicen los valores para el set de testeo\n",
    "y_pred = regresor.predict(X_test)"
   ]
  },
  {
   "cell_type": "code",
   "execution_count": null,
   "id": "5ff626b3",
   "metadata": {},
   "outputs": [],
   "source": [
    "# Se calcula el error medio absoluto\n",
    "mean_absolute_error(y_test, y_pred)"
   ]
  },
  {
   "cell_type": "markdown",
   "id": "13f641a4",
   "metadata": {},
   "source": [
    "### Support Vector Machine"
   ]
  },
  {
   "cell_type": "code",
   "execution_count": null,
   "id": "4f437d5a",
   "metadata": {},
   "outputs": [],
   "source": [
    "#Se importan librerías\n",
    "from sklearn.svm import SVR"
   ]
  },
  {
   "cell_type": "code",
   "execution_count": null,
   "id": "1fa92a58",
   "metadata": {},
   "outputs": [],
   "source": [
    "# Se importa el dataset\n",
    "# Se importa el dataset final (CSV) y se visualiza\n",
    "peliculas5=pd.read_csv(r'..\\\\datasets\\\\peliculas_final.csv')"
   ]
  },
  {
   "cell_type": "code",
   "execution_count": null,
   "id": "5bd4f8f9",
   "metadata": {},
   "outputs": [],
   "source": [
    "# Se inicia el modelo\n",
    "regresor_svr = SVR(C=1.0, epsilon=0.2)"
   ]
  },
  {
   "cell_type": "code",
   "execution_count": null,
   "id": "09f30d94",
   "metadata": {},
   "outputs": [],
   "source": [
    "# Se entrena el modelo\n",
    "regresor_svr.fit(X_train, y_train);"
   ]
  },
  {
   "cell_type": "code",
   "execution_count": null,
   "id": "376560ad",
   "metadata": {},
   "outputs": [],
   "source": [
    "regresor_svr.get_params()"
   ]
  },
  {
   "cell_type": "code",
   "execution_count": null,
   "id": "80721759",
   "metadata": {},
   "outputs": [],
   "source": [
    "# Se predicen los valores para el set de testeo\n",
    "y_pred_svr = regresor_svr.predict(X_test)"
   ]
  },
  {
   "cell_type": "code",
   "execution_count": null,
   "id": "ff29d8a5",
   "metadata": {},
   "outputs": [],
   "source": [
    "y_pred_svr"
   ]
  },
  {
   "cell_type": "code",
   "execution_count": null,
   "id": "d1e635c7",
   "metadata": {},
   "outputs": [],
   "source": [
    "# Se calcula el error medio absoluto\n",
    "mean_absolute_error(y_test, y_pred_svr)"
   ]
  },
  {
   "cell_type": "code",
   "execution_count": null,
   "id": "0771957d",
   "metadata": {},
   "outputs": [],
   "source": [
    "sns.countplot(x=peliculas5['pel_exitosa'], palette='Set2')\n",
    "sns.despine()"
   ]
  },
  {
   "cell_type": "code",
   "execution_count": null,
   "id": "8400d74c",
   "metadata": {},
   "outputs": [],
   "source": [
    "peliculas5['pel_exitosa'].value_counts() / peliculas5['punt_media'].size * 100"
   ]
  },
  {
   "cell_type": "markdown",
   "id": "f52bda0c",
   "metadata": {},
   "source": [
    "### Seleccion de target (y) y variables (X)"
   ]
  },
  {
   "cell_type": "code",
   "execution_count": null,
   "id": "1f14a743",
   "metadata": {},
   "outputs": [],
   "source": [
    "xc = peliculas5.drop(['punt_media', 'pel_exitosa'], axis=1)"
   ]
  },
  {
   "cell_type": "code",
   "execution_count": null,
   "id": "efe83a78",
   "metadata": {},
   "outputs": [],
   "source": [
    "yc = peliculas5['pel_exitosa']"
   ]
  },
  {
   "cell_type": "code",
   "execution_count": null,
   "id": "e6923561",
   "metadata": {},
   "outputs": [],
   "source": [
    "xc, yc = np.array(xc), np.array(yc)"
   ]
  },
  {
   "cell_type": "code",
   "execution_count": null,
   "id": "21ecd798",
   "metadata": {},
   "outputs": [],
   "source": [
    "# Separando Train / Test\n",
    "X_train_c, X_test_c, y_train_c, y_test_c = train_test_split(xc, yc, test_size=0.2,random_state=42)"
   ]
  },
  {
   "cell_type": "markdown",
   "id": "a6b01f18",
   "metadata": {},
   "source": [
    "### Clasificador kNN"
   ]
  },
  {
   "cell_type": "code",
   "execution_count": null,
   "id": "8a4e6993",
   "metadata": {},
   "outputs": [],
   "source": [
    "# se importan librerías \n",
    "from sklearn.neighbors import KNeighborsClassifier"
   ]
  },
  {
   "cell_type": "code",
   "execution_count": null,
   "id": "0695d0ae",
   "metadata": {},
   "outputs": [],
   "source": [
    "# metricas\n",
    "from sklearn.metrics import accuracy_score"
   ]
  },
  {
   "cell_type": "code",
   "execution_count": null,
   "id": "78b0b7b6",
   "metadata": {},
   "outputs": [],
   "source": [
    "knn = KNeighborsClassifier()"
   ]
  },
  {
   "cell_type": "code",
   "execution_count": null,
   "id": "8cb25386",
   "metadata": {},
   "outputs": [],
   "source": [
    "# Se entrena el modelo\n",
    "knn.fit(X_train_c, y_train_c);"
   ]
  }
 ],
 "metadata": {
  "kernelspec": {
   "display_name": "Python 3 (ipykernel)",
   "language": "python",
   "name": "python3"
  },
  "language_info": {
   "codemirror_mode": {
    "name": "ipython",
    "version": 3
   },
   "file_extension": ".py",
   "mimetype": "text/x-python",
   "name": "python",
   "nbconvert_exporter": "python",
   "pygments_lexer": "ipython3",
   "version": "3.11.3"
  }
 },
 "nbformat": 4,
 "nbformat_minor": 5
}
