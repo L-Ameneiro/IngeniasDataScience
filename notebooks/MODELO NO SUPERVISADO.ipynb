{
 "cells": [
  {
   "cell_type": "markdown",
   "id": "165fa68d",
   "metadata": {},
   "source": [
    "# MODELO  NO SUPERVISADO "
   ]
  },
  {
   "cell_type": "code",
   "execution_count": 1,
   "id": "5ff491dd",
   "metadata": {},
   "outputs": [],
   "source": [
    "# Se importan las librerías que se utilizarán: \n",
    "import pandas as pd\n",
    "import numpy as np\n",
    "import sklearn\n",
    "import matplotlib.pyplot as plt\n",
    "import seaborn as sns\n",
    "from sklearn.cluster import KMeans\n",
    "import re\n",
    "import array\n",
    "import warnings\n",
    "warnings.filterwarnings('ignore')\n"
   ]
  },
  {
   "cell_type": "code",
   "execution_count": 2,
   "id": "2bfba850",
   "metadata": {},
   "outputs": [],
   "source": [
    "# Se cargan los datasets de puntajes asginados por usuarios de las plataformas\n",
    "p1 = pd.read_csv('..\\\\datasets\\\\puntajes\\\\1.csv')\n",
    "#p2 = pd.read_csv('..\\\\datasets\\\\puntajes\\\\2.csv')\n",
    "#p3 = pd.read_csv('..\\\\datasets\\\\puntajes\\\\3.csv')\n",
    "# p4 = pd.read_csv('..\\\\datasets\\\\puntajes\\\\4.csv')\n",
    "# p5 = pd.read_csv('..\\\\datasets\\\\puntajes\\\\5.csv')\n",
    "# p6 = pd.read_csv('..\\\\datasets\\\\puntajes\\\\6.csv')\n",
    "#p7 = pd.read_csv('..\\\\datasets\\\\puntajes\\\\7.csv')\n",
    "#p8 = pd.read_csv('..\\\\datasets\\\\puntajes\\\\8.csv')"
   ]
  },
  {
   "cell_type": "code",
   "execution_count": 3,
   "id": "0824b9ac",
   "metadata": {},
   "outputs": [
    {
     "data": {
      "text/html": [
       "<div>\n",
       "<style scoped>\n",
       "    .dataframe tbody tr th:only-of-type {\n",
       "        vertical-align: middle;\n",
       "    }\n",
       "\n",
       "    .dataframe tbody tr th {\n",
       "        vertical-align: top;\n",
       "    }\n",
       "\n",
       "    .dataframe thead th {\n",
       "        text-align: right;\n",
       "    }\n",
       "</style>\n",
       "<table border=\"1\" class=\"dataframe\">\n",
       "  <thead>\n",
       "    <tr style=\"text-align: right;\">\n",
       "      <th></th>\n",
       "      <th>userId</th>\n",
       "      <th>rating</th>\n",
       "      <th>timestamp</th>\n",
       "      <th>movieId</th>\n",
       "    </tr>\n",
       "  </thead>\n",
       "  <tbody>\n",
       "    <tr>\n",
       "      <th>0</th>\n",
       "      <td>1</td>\n",
       "      <td>1.0</td>\n",
       "      <td>1425941529</td>\n",
       "      <td>as680</td>\n",
       "    </tr>\n",
       "    <tr>\n",
       "      <th>1</th>\n",
       "      <td>1</td>\n",
       "      <td>4.5</td>\n",
       "      <td>1425942435</td>\n",
       "      <td>ns2186</td>\n",
       "    </tr>\n",
       "    <tr>\n",
       "      <th>2</th>\n",
       "      <td>1</td>\n",
       "      <td>5.0</td>\n",
       "      <td>1425941523</td>\n",
       "      <td>hs2381</td>\n",
       "    </tr>\n",
       "    <tr>\n",
       "      <th>3</th>\n",
       "      <td>1</td>\n",
       "      <td>5.0</td>\n",
       "      <td>1425941546</td>\n",
       "      <td>ns3663</td>\n",
       "    </tr>\n",
       "    <tr>\n",
       "      <th>4</th>\n",
       "      <td>1</td>\n",
       "      <td>5.0</td>\n",
       "      <td>1425941556</td>\n",
       "      <td>as9500</td>\n",
       "    </tr>\n",
       "  </tbody>\n",
       "</table>\n",
       "</div>"
      ],
      "text/plain": [
       "   userId  rating   timestamp movieId\n",
       "0       1     1.0  1425941529   as680\n",
       "1       1     4.5  1425942435  ns2186\n",
       "2       1     5.0  1425941523  hs2381\n",
       "3       1     5.0  1425941546  ns3663\n",
       "4       1     5.0  1425941556  as9500"
      ]
     },
     "execution_count": 3,
     "metadata": {},
     "output_type": "execute_result"
    }
   ],
   "source": [
    "p1.head(5)"
   ]
  },
  {
   "cell_type": "code",
   "execution_count": null,
   "id": "dd1f480f",
   "metadata": {},
   "outputs": [],
   "source": [
    "# Se concatenan los datasets\n",
    "# punt = pd.concat([p1, p2, p3, p4, p5, p6, p7, p8], axis=0, ignore_index=True)"
   ]
  },
  {
   "cell_type": "code",
   "execution_count": 4,
   "id": "57690534",
   "metadata": {},
   "outputs": [],
   "source": [
    "# lo llamo punt para no cambiar el codigo que sigue\n",
    "punt = p1"
   ]
  },
  {
   "cell_type": "code",
   "execution_count": 5,
   "id": "90e25a67",
   "metadata": {},
   "outputs": [],
   "source": [
    "# Se borra la columna timestamp porque no se utilizará\n",
    "punt = punt.drop(columns = ['timestamp'])"
   ]
  },
  {
   "cell_type": "code",
   "execution_count": 6,
   "id": "2d8f8995",
   "metadata": {},
   "outputs": [
    {
     "name": "stdout",
     "output_type": "stream",
     "text": [
      "<class 'pandas.core.frame.DataFrame'>\n",
      "RangeIndex: 1500000 entries, 0 to 1499999\n",
      "Data columns (total 3 columns):\n",
      " #   Column   Non-Null Count    Dtype  \n",
      "---  ------   --------------    -----  \n",
      " 0   userId   1500000 non-null  int64  \n",
      " 1   rating   1500000 non-null  float64\n",
      " 2   movieId  1500000 non-null  object \n",
      "dtypes: float64(1), int64(1), object(1)\n",
      "memory usage: 34.3+ MB\n"
     ]
    }
   ],
   "source": [
    "# Se verifica el tipo de dato de cada columna\n",
    "punt. info()"
   ]
  },
  {
   "cell_type": "code",
   "execution_count": 7,
   "id": "da99ad83",
   "metadata": {},
   "outputs": [
    {
     "data": {
      "text/plain": [
       "userId     0\n",
       "rating     0\n",
       "movieId    0\n",
       "dtype: int64"
      ]
     },
     "execution_count": 7,
     "metadata": {},
     "output_type": "execute_result"
    }
   ],
   "source": [
    "# Se verifica que no hayan valores nulos\n",
    "punt.isna().sum()"
   ]
  },
  {
   "cell_type": "markdown",
   "metadata": {},
   "source": [
    "#### Se hace el filtrado de acuerdo a nuestro dataset para obtener las puntuaciones de sólamente las peliculas que se poseen"
   ]
  },
  {
   "cell_type": "code",
   "execution_count": 8,
   "id": "9ecd852c",
   "metadata": {},
   "outputs": [],
   "source": [
    "# Se importa el dataset final (CSV) y se visualiza\n",
    "peliculas=pd.read_csv(r'..\\\\datasets\\\\peliculas_final.csv')"
   ]
  },
  {
   "cell_type": "code",
   "execution_count": 9,
   "id": "4026059c",
   "metadata": {},
   "outputs": [
    {
     "data": {
      "text/html": [
       "<div>\n",
       "<style scoped>\n",
       "    .dataframe tbody tr th:only-of-type {\n",
       "        vertical-align: middle;\n",
       "    }\n",
       "\n",
       "    .dataframe tbody tr th {\n",
       "        vertical-align: top;\n",
       "    }\n",
       "\n",
       "    .dataframe thead th {\n",
       "        text-align: right;\n",
       "    }\n",
       "</style>\n",
       "<table border=\"1\" class=\"dataframe\">\n",
       "  <thead>\n",
       "    <tr style=\"text-align: right;\">\n",
       "      <th></th>\n",
       "      <th>show_id</th>\n",
       "      <th>titulo</th>\n",
       "      <th>director</th>\n",
       "      <th>elenco</th>\n",
       "      <th>anio</th>\n",
       "      <th>clasificacion</th>\n",
       "      <th>duracion</th>\n",
       "      <th>plataforma</th>\n",
       "      <th>genero</th>\n",
       "      <th>codireccion</th>\n",
       "      <th>elenco_oscar</th>\n",
       "      <th>elenco_gg</th>\n",
       "      <th>punt_media</th>\n",
       "    </tr>\n",
       "  </thead>\n",
       "  <tbody>\n",
       "    <tr>\n",
       "      <th>0</th>\n",
       "      <td>as2</td>\n",
       "      <td>Take Care Good Night</td>\n",
       "      <td>Girish Joshi</td>\n",
       "      <td>Mahesh Manjrekar, Abhay Mahajan, Sachin Khedekar</td>\n",
       "      <td>2018</td>\n",
       "      <td>13+</td>\n",
       "      <td>110</td>\n",
       "      <td>amazon</td>\n",
       "      <td>Drama</td>\n",
       "      <td>0</td>\n",
       "      <td>0</td>\n",
       "      <td>0</td>\n",
       "      <td>3.548682</td>\n",
       "    </tr>\n",
       "    <tr>\n",
       "      <th>1</th>\n",
       "      <td>as17</td>\n",
       "      <td>Zoombies</td>\n",
       "      <td>Glenn Miller</td>\n",
       "      <td>Marcus Anderson, Kaiwi Lyman, Andrew Asper</td>\n",
       "      <td>2016</td>\n",
       "      <td>13+</td>\n",
       "      <td>87</td>\n",
       "      <td>amazon</td>\n",
       "      <td>Horror</td>\n",
       "      <td>0</td>\n",
       "      <td>0</td>\n",
       "      <td>0</td>\n",
       "      <td>3.498984</td>\n",
       "    </tr>\n",
       "    <tr>\n",
       "      <th>2</th>\n",
       "      <td>as20</td>\n",
       "      <td>Zoe</td>\n",
       "      <td>Drake Doremus</td>\n",
       "      <td>Ewan McGregor, Léa Seydoux, Theo James, Mirand...</td>\n",
       "      <td>2018</td>\n",
       "      <td>R</td>\n",
       "      <td>104</td>\n",
       "      <td>amazon</td>\n",
       "      <td>Science Fiction</td>\n",
       "      <td>0</td>\n",
       "      <td>0</td>\n",
       "      <td>0</td>\n",
       "      <td>3.586777</td>\n",
       "    </tr>\n",
       "    <tr>\n",
       "      <th>3</th>\n",
       "      <td>as23</td>\n",
       "      <td>Zis Boom Bah</td>\n",
       "      <td>William Nigh</td>\n",
       "      <td>Grace Hayes, Mary Healy</td>\n",
       "      <td>1941</td>\n",
       "      <td>NR/Sin clasificacion</td>\n",
       "      <td>62</td>\n",
       "      <td>amazon</td>\n",
       "      <td>Arts</td>\n",
       "      <td>0</td>\n",
       "      <td>0</td>\n",
       "      <td>0</td>\n",
       "      <td>3.594092</td>\n",
       "    </tr>\n",
       "    <tr>\n",
       "      <th>4</th>\n",
       "      <td>as25</td>\n",
       "      <td>Zandalee</td>\n",
       "      <td>Sam Pillsbury</td>\n",
       "      <td>Nicolas Cage, Judge Reinhold, Erika Anderson, ...</td>\n",
       "      <td>1991</td>\n",
       "      <td>R</td>\n",
       "      <td>94</td>\n",
       "      <td>amazon</td>\n",
       "      <td>Drama</td>\n",
       "      <td>0</td>\n",
       "      <td>0</td>\n",
       "      <td>0</td>\n",
       "      <td>3.552846</td>\n",
       "    </tr>\n",
       "  </tbody>\n",
       "</table>\n",
       "</div>"
      ],
      "text/plain": [
       "  show_id                titulo       director  \\\n",
       "0     as2  Take Care Good Night   Girish Joshi   \n",
       "1    as17              Zoombies   Glenn Miller   \n",
       "2    as20                   Zoe  Drake Doremus   \n",
       "3    as23          Zis Boom Bah   William Nigh   \n",
       "4    as25              Zandalee  Sam Pillsbury   \n",
       "\n",
       "                                              elenco  anio  \\\n",
       "0   Mahesh Manjrekar, Abhay Mahajan, Sachin Khedekar  2018   \n",
       "1         Marcus Anderson, Kaiwi Lyman, Andrew Asper  2016   \n",
       "2  Ewan McGregor, Léa Seydoux, Theo James, Mirand...  2018   \n",
       "3                            Grace Hayes, Mary Healy  1941   \n",
       "4  Nicolas Cage, Judge Reinhold, Erika Anderson, ...  1991   \n",
       "\n",
       "          clasificacion  duracion plataforma           genero  codireccion  \\\n",
       "0                   13+       110     amazon            Drama            0   \n",
       "1                   13+        87     amazon           Horror            0   \n",
       "2                     R       104     amazon  Science Fiction            0   \n",
       "3  NR/Sin clasificacion        62     amazon             Arts            0   \n",
       "4                     R        94     amazon            Drama            0   \n",
       "\n",
       "   elenco_oscar  elenco_gg  punt_media  \n",
       "0             0          0    3.548682  \n",
       "1             0          0    3.498984  \n",
       "2             0          0    3.586777  \n",
       "3             0          0    3.594092  \n",
       "4             0          0    3.552846  "
      ]
     },
     "execution_count": 9,
     "metadata": {},
     "output_type": "execute_result"
    }
   ],
   "source": [
    "peliculas.head(5)"
   ]
  },
  {
   "cell_type": "code",
   "execution_count": 10,
   "metadata": {},
   "outputs": [],
   "source": [
    "# Se realiza el filtrado con la función merge\n",
    "punt2 = pd.merge(punt, peliculas, left_on='movieId', right_on='show_id', how='inner')\n"
   ]
  },
  {
   "cell_type": "code",
   "execution_count": 11,
   "id": "83bd03ff",
   "metadata": {},
   "outputs": [],
   "source": [
    "forma_punt2 = punt2.shape\n",
    "cantidad_usuarios2 = punt2['userId'].nunique()"
   ]
  },
  {
   "cell_type": "code",
   "execution_count": 12,
   "id": "98f71809",
   "metadata": {},
   "outputs": [
    {
     "name": "stdout",
     "output_type": "stream",
     "text": [
      "Contamos con 849598 puntajes asignados por 15233 usuarios\n"
     ]
    }
   ],
   "source": [
    "print(f\"Contamos con {forma_punt2[0]} puntajes asignados por {cantidad_usuarios2} usuarios\")"
   ]
  },
  {
   "cell_type": "code",
   "execution_count": 13,
   "id": "13f45d73",
   "metadata": {},
   "outputs": [
    {
     "data": {
      "text/html": [
       "<div>\n",
       "<style scoped>\n",
       "    .dataframe tbody tr th:only-of-type {\n",
       "        vertical-align: middle;\n",
       "    }\n",
       "\n",
       "    .dataframe tbody tr th {\n",
       "        vertical-align: top;\n",
       "    }\n",
       "\n",
       "    .dataframe thead th {\n",
       "        text-align: right;\n",
       "    }\n",
       "</style>\n",
       "<table border=\"1\" class=\"dataframe\">\n",
       "  <thead>\n",
       "    <tr style=\"text-align: right;\">\n",
       "      <th></th>\n",
       "      <th>userId</th>\n",
       "      <th>rating</th>\n",
       "      <th>movieId</th>\n",
       "      <th>show_id</th>\n",
       "      <th>titulo</th>\n",
       "      <th>director</th>\n",
       "      <th>elenco</th>\n",
       "      <th>anio</th>\n",
       "      <th>clasificacion</th>\n",
       "      <th>duracion</th>\n",
       "      <th>plataforma</th>\n",
       "      <th>genero</th>\n",
       "      <th>codireccion</th>\n",
       "      <th>elenco_oscar</th>\n",
       "      <th>elenco_gg</th>\n",
       "      <th>punt_media</th>\n",
       "    </tr>\n",
       "  </thead>\n",
       "  <tbody>\n",
       "    <tr>\n",
       "      <th>0</th>\n",
       "      <td>1</td>\n",
       "      <td>4.5</td>\n",
       "      <td>ns2186</td>\n",
       "      <td>ns2186</td>\n",
       "      <td>Latte and the Magic Waterstone</td>\n",
       "      <td>Regina Welker, Nina Wels</td>\n",
       "      <td>Ashley Bornancin, Carter Hastings</td>\n",
       "      <td>2020</td>\n",
       "      <td>TV-Y</td>\n",
       "      <td>83</td>\n",
       "      <td>netflix</td>\n",
       "      <td>Children &amp; Family Movies</td>\n",
       "      <td>1</td>\n",
       "      <td>0</td>\n",
       "      <td>0</td>\n",
       "      <td>3.556886</td>\n",
       "    </tr>\n",
       "    <tr>\n",
       "      <th>1</th>\n",
       "      <td>231</td>\n",
       "      <td>4.0</td>\n",
       "      <td>ns2186</td>\n",
       "      <td>ns2186</td>\n",
       "      <td>Latte and the Magic Waterstone</td>\n",
       "      <td>Regina Welker, Nina Wels</td>\n",
       "      <td>Ashley Bornancin, Carter Hastings</td>\n",
       "      <td>2020</td>\n",
       "      <td>TV-Y</td>\n",
       "      <td>83</td>\n",
       "      <td>netflix</td>\n",
       "      <td>Children &amp; Family Movies</td>\n",
       "      <td>1</td>\n",
       "      <td>0</td>\n",
       "      <td>0</td>\n",
       "      <td>3.556886</td>\n",
       "    </tr>\n",
       "    <tr>\n",
       "      <th>2</th>\n",
       "      <td>843</td>\n",
       "      <td>5.0</td>\n",
       "      <td>ns2186</td>\n",
       "      <td>ns2186</td>\n",
       "      <td>Latte and the Magic Waterstone</td>\n",
       "      <td>Regina Welker, Nina Wels</td>\n",
       "      <td>Ashley Bornancin, Carter Hastings</td>\n",
       "      <td>2020</td>\n",
       "      <td>TV-Y</td>\n",
       "      <td>83</td>\n",
       "      <td>netflix</td>\n",
       "      <td>Children &amp; Family Movies</td>\n",
       "      <td>1</td>\n",
       "      <td>0</td>\n",
       "      <td>0</td>\n",
       "      <td>3.556886</td>\n",
       "    </tr>\n",
       "  </tbody>\n",
       "</table>\n",
       "</div>"
      ],
      "text/plain": [
       "   userId  rating movieId show_id                          titulo  \\\n",
       "0       1     4.5  ns2186  ns2186  Latte and the Magic Waterstone   \n",
       "1     231     4.0  ns2186  ns2186  Latte and the Magic Waterstone   \n",
       "2     843     5.0  ns2186  ns2186  Latte and the Magic Waterstone   \n",
       "\n",
       "                   director                             elenco  anio  \\\n",
       "0  Regina Welker, Nina Wels  Ashley Bornancin, Carter Hastings  2020   \n",
       "1  Regina Welker, Nina Wels  Ashley Bornancin, Carter Hastings  2020   \n",
       "2  Regina Welker, Nina Wels  Ashley Bornancin, Carter Hastings  2020   \n",
       "\n",
       "  clasificacion  duracion plataforma                    genero  codireccion  \\\n",
       "0          TV-Y        83    netflix  Children & Family Movies            1   \n",
       "1          TV-Y        83    netflix  Children & Family Movies            1   \n",
       "2          TV-Y        83    netflix  Children & Family Movies            1   \n",
       "\n",
       "   elenco_oscar  elenco_gg  punt_media  \n",
       "0             0          0    3.556886  \n",
       "1             0          0    3.556886  \n",
       "2             0          0    3.556886  "
      ]
     },
     "execution_count": 13,
     "metadata": {},
     "output_type": "execute_result"
    }
   ],
   "source": [
    "punt2.head(3)"
   ]
  },
  {
   "cell_type": "code",
   "execution_count": 14,
   "id": "a56f210d",
   "metadata": {},
   "outputs": [],
   "source": [
    "# definimos las features que vamos a usar en el modelado\n",
    "features = ['rating', 'duracion', 'anio']"
   ]
  },
  {
   "cell_type": "code",
   "execution_count": 17,
   "id": "475ecd40",
   "metadata": {},
   "outputs": [],
   "source": [
    "# nos quedamos con las columnas relevantes en una variable llamada datos\n",
    "datos = punt2[features].copy()"
   ]
  },
  {
   "cell_type": "code",
   "execution_count": 18,
   "id": "352b42aa",
   "metadata": {},
   "outputs": [
    {
     "data": {
      "text/html": [
       "<div>\n",
       "<style scoped>\n",
       "    .dataframe tbody tr th:only-of-type {\n",
       "        vertical-align: middle;\n",
       "    }\n",
       "\n",
       "    .dataframe tbody tr th {\n",
       "        vertical-align: top;\n",
       "    }\n",
       "\n",
       "    .dataframe thead th {\n",
       "        text-align: right;\n",
       "    }\n",
       "</style>\n",
       "<table border=\"1\" class=\"dataframe\">\n",
       "  <thead>\n",
       "    <tr style=\"text-align: right;\">\n",
       "      <th></th>\n",
       "      <th>rating</th>\n",
       "      <th>duracion</th>\n",
       "      <th>anio</th>\n",
       "    </tr>\n",
       "  </thead>\n",
       "  <tbody>\n",
       "    <tr>\n",
       "      <th>0</th>\n",
       "      <td>4.5</td>\n",
       "      <td>83</td>\n",
       "      <td>2020</td>\n",
       "    </tr>\n",
       "    <tr>\n",
       "      <th>1</th>\n",
       "      <td>4.0</td>\n",
       "      <td>83</td>\n",
       "      <td>2020</td>\n",
       "    </tr>\n",
       "    <tr>\n",
       "      <th>2</th>\n",
       "      <td>5.0</td>\n",
       "      <td>83</td>\n",
       "      <td>2020</td>\n",
       "    </tr>\n",
       "    <tr>\n",
       "      <th>3</th>\n",
       "      <td>4.5</td>\n",
       "      <td>83</td>\n",
       "      <td>2020</td>\n",
       "    </tr>\n",
       "    <tr>\n",
       "      <th>4</th>\n",
       "      <td>4.0</td>\n",
       "      <td>83</td>\n",
       "      <td>2020</td>\n",
       "    </tr>\n",
       "  </tbody>\n",
       "</table>\n",
       "</div>"
      ],
      "text/plain": [
       "   rating  duracion  anio\n",
       "0     4.5        83  2020\n",
       "1     4.0        83  2020\n",
       "2     5.0        83  2020\n",
       "3     4.5        83  2020\n",
       "4     4.0        83  2020"
      ]
     },
     "execution_count": 18,
     "metadata": {},
     "output_type": "execute_result"
    }
   ],
   "source": [
    "datos.head(5)"
   ]
  },
  {
   "cell_type": "code",
   "execution_count": 20,
   "id": "31a7e16e",
   "metadata": {},
   "outputs": [],
   "source": [
    "#Se escalan los datos\n",
    "from sklearn.preprocessing import StandardScaler\n",
    "scaler = StandardScaler()\n",
    "scaler.fit(datos)\n",
    "datos_scaled = scaler.transform(datos)"
   ]
  },
  {
   "cell_type": "code",
   "execution_count": 29,
   "id": "bd0c92dc",
   "metadata": {},
   "outputs": [],
   "source": [
    "# Especificamos modelos con distitno numero de clusters\n",
    "kmeans2 = KMeans(n_clusters=2, random_state=0)\n",
    "kmeans3 = KMeans(n_clusters=3, random_state=0)\n",
    "kmeans4 = KMeans(n_clusters=4, random_state=0)\n",
    "kmeans5 = KMeans(n_clusters=5, random_state=0)\n",
    "kmeans6 = KMeans(n_clusters=6, random_state=0)"
   ]
  },
  {
   "cell_type": "code",
   "execution_count": 30,
   "id": "b61f8837",
   "metadata": {},
   "outputs": [
    {
     "data": {
      "text/html": [
       "<style>#sk-container-id-1 {color: black;}#sk-container-id-1 pre{padding: 0;}#sk-container-id-1 div.sk-toggleable {background-color: white;}#sk-container-id-1 label.sk-toggleable__label {cursor: pointer;display: block;width: 100%;margin-bottom: 0;padding: 0.3em;box-sizing: border-box;text-align: center;}#sk-container-id-1 label.sk-toggleable__label-arrow:before {content: \"▸\";float: left;margin-right: 0.25em;color: #696969;}#sk-container-id-1 label.sk-toggleable__label-arrow:hover:before {color: black;}#sk-container-id-1 div.sk-estimator:hover label.sk-toggleable__label-arrow:before {color: black;}#sk-container-id-1 div.sk-toggleable__content {max-height: 0;max-width: 0;overflow: hidden;text-align: left;background-color: #f0f8ff;}#sk-container-id-1 div.sk-toggleable__content pre {margin: 0.2em;color: black;border-radius: 0.25em;background-color: #f0f8ff;}#sk-container-id-1 input.sk-toggleable__control:checked~div.sk-toggleable__content {max-height: 200px;max-width: 100%;overflow: auto;}#sk-container-id-1 input.sk-toggleable__control:checked~label.sk-toggleable__label-arrow:before {content: \"▾\";}#sk-container-id-1 div.sk-estimator input.sk-toggleable__control:checked~label.sk-toggleable__label {background-color: #d4ebff;}#sk-container-id-1 div.sk-label input.sk-toggleable__control:checked~label.sk-toggleable__label {background-color: #d4ebff;}#sk-container-id-1 input.sk-hidden--visually {border: 0;clip: rect(1px 1px 1px 1px);clip: rect(1px, 1px, 1px, 1px);height: 1px;margin: -1px;overflow: hidden;padding: 0;position: absolute;width: 1px;}#sk-container-id-1 div.sk-estimator {font-family: monospace;background-color: #f0f8ff;border: 1px dotted black;border-radius: 0.25em;box-sizing: border-box;margin-bottom: 0.5em;}#sk-container-id-1 div.sk-estimator:hover {background-color: #d4ebff;}#sk-container-id-1 div.sk-parallel-item::after {content: \"\";width: 100%;border-bottom: 1px solid gray;flex-grow: 1;}#sk-container-id-1 div.sk-label:hover label.sk-toggleable__label {background-color: #d4ebff;}#sk-container-id-1 div.sk-serial::before {content: \"\";position: absolute;border-left: 1px solid gray;box-sizing: border-box;top: 0;bottom: 0;left: 50%;z-index: 0;}#sk-container-id-1 div.sk-serial {display: flex;flex-direction: column;align-items: center;background-color: white;padding-right: 0.2em;padding-left: 0.2em;position: relative;}#sk-container-id-1 div.sk-item {position: relative;z-index: 1;}#sk-container-id-1 div.sk-parallel {display: flex;align-items: stretch;justify-content: center;background-color: white;position: relative;}#sk-container-id-1 div.sk-item::before, #sk-container-id-1 div.sk-parallel-item::before {content: \"\";position: absolute;border-left: 1px solid gray;box-sizing: border-box;top: 0;bottom: 0;left: 50%;z-index: -1;}#sk-container-id-1 div.sk-parallel-item {display: flex;flex-direction: column;z-index: 1;position: relative;background-color: white;}#sk-container-id-1 div.sk-parallel-item:first-child::after {align-self: flex-end;width: 50%;}#sk-container-id-1 div.sk-parallel-item:last-child::after {align-self: flex-start;width: 50%;}#sk-container-id-1 div.sk-parallel-item:only-child::after {width: 0;}#sk-container-id-1 div.sk-dashed-wrapped {border: 1px dashed gray;margin: 0 0.4em 0.5em 0.4em;box-sizing: border-box;padding-bottom: 0.4em;background-color: white;}#sk-container-id-1 div.sk-label label {font-family: monospace;font-weight: bold;display: inline-block;line-height: 1.2em;}#sk-container-id-1 div.sk-label-container {text-align: center;}#sk-container-id-1 div.sk-container {/* jupyter's `normalize.less` sets `[hidden] { display: none; }` but bootstrap.min.css set `[hidden] { display: none !important; }` so we also need the `!important` here to be able to override the default hidden behavior on the sphinx rendered scikit-learn.org. See: https://github.com/scikit-learn/scikit-learn/issues/21755 */display: inline-block !important;position: relative;}#sk-container-id-1 div.sk-text-repr-fallback {display: none;}</style><div id=\"sk-container-id-1\" class=\"sk-top-container\"><div class=\"sk-text-repr-fallback\"><pre>KMeans(n_clusters=6, random_state=0)</pre><b>In a Jupyter environment, please rerun this cell to show the HTML representation or trust the notebook. <br />On GitHub, the HTML representation is unable to render, please try loading this page with nbviewer.org.</b></div><div class=\"sk-container\" hidden><div class=\"sk-item\"><div class=\"sk-estimator sk-toggleable\"><input class=\"sk-toggleable__control sk-hidden--visually\" id=\"sk-estimator-id-1\" type=\"checkbox\" checked><label for=\"sk-estimator-id-1\" class=\"sk-toggleable__label sk-toggleable__label-arrow\">KMeans</label><div class=\"sk-toggleable__content\"><pre>KMeans(n_clusters=6, random_state=0)</pre></div></div></div></div></div>"
      ],
      "text/plain": [
       "KMeans(n_clusters=6, random_state=0)"
      ]
     },
     "execution_count": 30,
     "metadata": {},
     "output_type": "execute_result"
    }
   ],
   "source": [
    "kmeans2.fit(datos_scaled);\n",
    "kmeans3.fit(datos_scaled)\n",
    "kmeans4.fit(datos_scaled)\n",
    "kmeans5.fit(datos_scaled)\n",
    "kmeans6.fit(datos_scaled)"
   ]
  },
  {
   "cell_type": "code",
   "execution_count": 31,
   "id": "74d5a174",
   "metadata": {},
   "outputs": [
    {
     "name": "stdout",
     "output_type": "stream",
     "text": [
      "[[-1.14467603e-04 -8.49137967e-02 -2.52432736e+00]\n",
      " [ 1.30871549e-05  9.70824923e-03  2.88607978e-01]]\n"
     ]
    }
   ],
   "source": [
    "centroids2 = kmeans2.cluster_centers_\n",
    "print(centroids2)"
   ]
  },
  {
   "cell_type": "code",
   "execution_count": 32,
   "id": "20ef2f70",
   "metadata": {},
   "outputs": [],
   "source": [
    "y_means2 = kmeans2.fit_predict(datos_scaled)"
   ]
  },
  {
   "cell_type": "code",
   "execution_count": 33,
   "id": "75fa497b",
   "metadata": {},
   "outputs": [
    {
     "data": {
      "image/png": "[encoded data removed]",
      "text/plain": [
       "<Figure size 640x480 with 1 Axes>"
      ]
     },
     "metadata": {},
     "output_type": "display_data"
    }
   ],
   "source": [
    "cluster_counts = np.bincount(y_means2)\n",
    "cluster_labels = list(range(len(cluster_counts)))\n",
    "colors = ['royalblue', 'tomato', 'forestgreen', 'purple', 'gold']\n",
    "plt.bar(cluster_labels, cluster_counts, color=colors)\n",
    "plt.xlabel('Grupo')\n",
    "plt.ylabel('Cantidad de Observaciones')\n",
    "plt.show()"
   ]
  },
  {
   "cell_type": "code",
   "execution_count": 34,
   "id": "275a81aa",
   "metadata": {},
   "outputs": [
    {
     "name": "stdout",
     "output_type": "stream",
     "text": [
      "[[-1.03775266  0.01427786  0.25886311]\n",
      " [ 0.64137743  0.01199011  0.27056952]\n",
      " [ 0.04253768 -0.13084236 -2.70504905]]\n"
     ]
    }
   ],
   "source": [
    "centroids3 = kmeans3.cluster_centers_\n",
    "print(centroids3)"
   ]
  },
  {
   "cell_type": "code",
   "execution_count": 35,
   "id": "11350225",
   "metadata": {},
   "outputs": [],
   "source": [
    "y_means3 = kmeans3.fit_predict(datos_scaled)"
   ]
  },
  {
   "cell_type": "code",
   "execution_count": 36,
   "id": "e78312a3",
   "metadata": {},
   "outputs": [
    {
     "data": {
      "image/png": "[encoded data removed]",
      "text/plain": [
       "<Figure size 640x480 with 1 Axes>"
      ]
     },
     "metadata": {},
     "output_type": "display_data"
    }
   ],
   "source": [
    "cluster_counts = np.bincount(y_means3)\n",
    "cluster_labels = list(range(len(cluster_counts)))\n",
    "colors = ['royalblue', 'tomato', 'forestgreen', 'purple', 'gold']\n",
    "plt.bar(cluster_labels, cluster_counts, color=colors)\n",
    "plt.xlabel('Grupo')\n",
    "plt.ylabel('Cantidad de Observaciones')\n",
    "plt.show()"
   ]
  },
  {
   "cell_type": "code",
   "execution_count": 37,
   "id": "7d4d9665",
   "metadata": {},
   "outputs": [
    {
     "name": "stdout",
     "output_type": "stream",
     "text": [
      "[[ 0.0339915  -0.25567346 -2.81895155]\n",
      " [ 0.30877886  1.16956523  0.17507967]\n",
      " [-1.12567513 -0.1339566   0.25679892]\n",
      " [ 0.63503678 -0.48812202  0.2866148 ]]\n"
     ]
    }
   ],
   "source": [
    "centroids4 = kmeans4.cluster_centers_\n",
    "print(centroids4)"
   ]
  },
  {
   "cell_type": "code",
   "execution_count": 38,
   "id": "5f12e8b0",
   "metadata": {},
   "outputs": [],
   "source": [
    "y_means4 = kmeans4.fit_predict(datos_scaled)"
   ]
  },
  {
   "cell_type": "code",
   "execution_count": 39,
   "id": "82f9e22d",
   "metadata": {},
   "outputs": [
    {
     "data": {
      "image/png": "[encoded data removed]",
      "text/plain": [
       "<Figure size 640x480 with 1 Axes>"
      ]
     },
     "metadata": {},
     "output_type": "display_data"
    }
   ],
   "source": [
    "cluster_counts = np.bincount(y_means4)\n",
    "cluster_labels = list(range(len(cluster_counts)))\n",
    "colors = ['royalblue', 'tomato', 'forestgreen', 'purple', 'gold']\n",
    "plt.bar(cluster_labels, cluster_counts, color=colors)\n",
    "plt.xlabel('Grupo')\n",
    "plt.ylabel('Cantidad de Observaciones')\n",
    "plt.show()"
   ]
  },
  {
   "cell_type": "code",
   "execution_count": 40,
   "id": "2ff98791",
   "metadata": {},
   "outputs": [],
   "source": [
    "etiquetas_2 = kmeans2.labels_\n",
    "etiquetas_3 = kmeans3.labels_\n",
    "etiquetas_4 = kmeans4.labels_\n",
    "etiquetas_5 = kmeans5.labels_\n",
    "etiquetas_6 = kmeans6.labels_"
   ]
  },
  {
   "cell_type": "code",
   "execution_count": 42,
   "id": "5b594d33",
   "metadata": {},
   "outputs": [],
   "source": [
    "kmeans5 = KMeans(n_clusters=5, random_state=0)\n"
   ]
  },
  {
   "cell_type": "code",
   "execution_count": 43,
   "id": "5a8e84c1",
   "metadata": {},
   "outputs": [
    {
     "data": {
      "text/html": [
       "<style>#sk-container-id-2 {color: black;}#sk-container-id-2 pre{padding: 0;}#sk-container-id-2 div.sk-toggleable {background-color: white;}#sk-container-id-2 label.sk-toggleable__label {cursor: pointer;display: block;width: 100%;margin-bottom: 0;padding: 0.3em;box-sizing: border-box;text-align: center;}#sk-container-id-2 label.sk-toggleable__label-arrow:before {content: \"▸\";float: left;margin-right: 0.25em;color: #696969;}#sk-container-id-2 label.sk-toggleable__label-arrow:hover:before {color: black;}#sk-container-id-2 div.sk-estimator:hover label.sk-toggleable__label-arrow:before {color: black;}#sk-container-id-2 div.sk-toggleable__content {max-height: 0;max-width: 0;overflow: hidden;text-align: left;background-color: #f0f8ff;}#sk-container-id-2 div.sk-toggleable__content pre {margin: 0.2em;color: black;border-radius: 0.25em;background-color: #f0f8ff;}#sk-container-id-2 input.sk-toggleable__control:checked~div.sk-toggleable__content {max-height: 200px;max-width: 100%;overflow: auto;}#sk-container-id-2 input.sk-toggleable__control:checked~label.sk-toggleable__label-arrow:before {content: \"▾\";}#sk-container-id-2 div.sk-estimator input.sk-toggleable__control:checked~label.sk-toggleable__label {background-color: #d4ebff;}#sk-container-id-2 div.sk-label input.sk-toggleable__control:checked~label.sk-toggleable__label {background-color: #d4ebff;}#sk-container-id-2 input.sk-hidden--visually {border: 0;clip: rect(1px 1px 1px 1px);clip: rect(1px, 1px, 1px, 1px);height: 1px;margin: -1px;overflow: hidden;padding: 0;position: absolute;width: 1px;}#sk-container-id-2 div.sk-estimator {font-family: monospace;background-color: #f0f8ff;border: 1px dotted black;border-radius: 0.25em;box-sizing: border-box;margin-bottom: 0.5em;}#sk-container-id-2 div.sk-estimator:hover {background-color: #d4ebff;}#sk-container-id-2 div.sk-parallel-item::after {content: \"\";width: 100%;border-bottom: 1px solid gray;flex-grow: 1;}#sk-container-id-2 div.sk-label:hover label.sk-toggleable__label {background-color: #d4ebff;}#sk-container-id-2 div.sk-serial::before {content: \"\";position: absolute;border-left: 1px solid gray;box-sizing: border-box;top: 0;bottom: 0;left: 50%;z-index: 0;}#sk-container-id-2 div.sk-serial {display: flex;flex-direction: column;align-items: center;background-color: white;padding-right: 0.2em;padding-left: 0.2em;position: relative;}#sk-container-id-2 div.sk-item {position: relative;z-index: 1;}#sk-container-id-2 div.sk-parallel {display: flex;align-items: stretch;justify-content: center;background-color: white;position: relative;}#sk-container-id-2 div.sk-item::before, #sk-container-id-2 div.sk-parallel-item::before {content: \"\";position: absolute;border-left: 1px solid gray;box-sizing: border-box;top: 0;bottom: 0;left: 50%;z-index: -1;}#sk-container-id-2 div.sk-parallel-item {display: flex;flex-direction: column;z-index: 1;position: relative;background-color: white;}#sk-container-id-2 div.sk-parallel-item:first-child::after {align-self: flex-end;width: 50%;}#sk-container-id-2 div.sk-parallel-item:last-child::after {align-self: flex-start;width: 50%;}#sk-container-id-2 div.sk-parallel-item:only-child::after {width: 0;}#sk-container-id-2 div.sk-dashed-wrapped {border: 1px dashed gray;margin: 0 0.4em 0.5em 0.4em;box-sizing: border-box;padding-bottom: 0.4em;background-color: white;}#sk-container-id-2 div.sk-label label {font-family: monospace;font-weight: bold;display: inline-block;line-height: 1.2em;}#sk-container-id-2 div.sk-label-container {text-align: center;}#sk-container-id-2 div.sk-container {/* jupyter's `normalize.less` sets `[hidden] { display: none; }` but bootstrap.min.css set `[hidden] { display: none !important; }` so we also need the `!important` here to be able to override the default hidden behavior on the sphinx rendered scikit-learn.org. See: https://github.com/scikit-learn/scikit-learn/issues/21755 */display: inline-block !important;position: relative;}#sk-container-id-2 div.sk-text-repr-fallback {display: none;}</style><div id=\"sk-container-id-2\" class=\"sk-top-container\"><div class=\"sk-text-repr-fallback\"><pre>KMeans(n_clusters=5, random_state=0)</pre><b>In a Jupyter environment, please rerun this cell to show the HTML representation or trust the notebook. <br />On GitHub, the HTML representation is unable to render, please try loading this page with nbviewer.org.</b></div><div class=\"sk-container\" hidden><div class=\"sk-item\"><div class=\"sk-estimator sk-toggleable\"><input class=\"sk-toggleable__control sk-hidden--visually\" id=\"sk-estimator-id-2\" type=\"checkbox\" checked><label for=\"sk-estimator-id-2\" class=\"sk-toggleable__label sk-toggleable__label-arrow\">KMeans</label><div class=\"sk-toggleable__content\"><pre>KMeans(n_clusters=5, random_state=0)</pre></div></div></div></div></div>"
      ],
      "text/plain": [
       "KMeans(n_clusters=5, random_state=0)"
      ]
     },
     "execution_count": 43,
     "metadata": {},
     "output_type": "execute_result"
    }
   ],
   "source": [
    "kmeans5.fit(datos_scaled)\n"
   ]
  },
  {
   "cell_type": "code",
   "execution_count": 44,
   "id": "5de20634",
   "metadata": {},
   "outputs": [
    {
     "name": "stdout",
     "output_type": "stream",
     "text": [
      "[[ 0.03324037 -0.28005586 -2.86048838]\n",
      " [ 0.67754171 -0.05595237  0.25222328]\n",
      " [ 0.11592343 -1.76265304  0.41676229]\n",
      " [-1.12826591  0.00997479  0.24174214]\n",
      " [ 0.20371764  1.47881702  0.1117008 ]]\n"
     ]
    }
   ],
   "source": [
    "centroids5 = kmeans5.cluster_centers_\n",
    "print(centroids5)\n"
   ]
  },
  {
   "cell_type": "code",
   "execution_count": 45,
   "id": "dd9d0e83",
   "metadata": {},
   "outputs": [],
   "source": [
    "y_means5 = kmeans5.fit_predict(datos_scaled)\n"
   ]
  },
  {
   "cell_type": "code",
   "execution_count": 46,
   "id": "234a5f62",
   "metadata": {},
   "outputs": [
    {
     "data": {
      "image/png": "[encoded data removed]",
      "text/plain": [
       "<Figure size 640x480 with 1 Axes>"
      ]
     },
     "metadata": {},
     "output_type": "display_data"
    }
   ],
   "source": [
    "cluster_counts = np.bincount(y_means5)\n",
    "cluster_labels = list(range(len(cluster_counts)))\n",
    "colors = ['royalblue', 'tomato', 'forestgreen', 'purple', 'gold']\n",
    "plt.bar(cluster_labels, cluster_counts, color=colors)\n",
    "plt.xlabel('Grupo')\n",
    "plt.ylabel('Cantidad de Observaciones')\n",
    "plt.show()\n"
   ]
  },
  {
   "cell_type": "code",
   "execution_count": null,
   "id": "1dca421f",
   "metadata": {},
   "outputs": [],
   "source": [
    "# Se realiza el método del codo para determinar la cantidad de clusters\n",
    "k=np. arange(1,11)\n",
    "lista_inercias = []\n",
    "for i in k:\n",
    "    kmeans = KMeans(n_clusters=i, random_state=0) \n",
    "# Instancia la clase KMeans\n",
    "    kmeans.fit(datos_scaled)  \n",
    "# Ajusta el modelo KMeans a tus datos x\n",
    "    lista_inercias.append(kmeans.inertia_)"
   ]
  },
  {
   "cell_type": "code",
   "execution_count": 41,
   "id": "dbfb76d2",
   "metadata": {},
   "outputs": [
    {
     "data": {
      "image/png": "[encoded data removed]",
      "text/plain": [
       "<Figure size 640x480 with 1 Axes>"
      ]
     },
     "metadata": {},
     "output_type": "display_data"
    }
   ],
   "source": [
    "wcss = []\n",
    "for i in range(1, 11):\n",
    "    km = KMeans(n_clusters=i, init='k-means++', max_iter=300, n_init=10, random_state=0)\n",
    "    km.fit(datos_scaled)\n",
    "    wcss.append(km.inertia_)\n",
    "plt.plot(range(1, 11), wcss, c=\"#c51b7d\")\n",
    "plt.gca().spines[\"top\"].set_visible(False)\n",
    "plt.gca().spines[\"right\"].set_visible(False)\n",
    "plt.title('Metodo Elbow', size=14)\n",
    "plt.xlabel('Numero de Clusters', size=12)\n",
    "plt.ylabel('wcss', size=14)\n",
    "plt.show()"
   ]
  },
  {
   "cell_type": "markdown",
   "id": "f7e23007",
   "metadata": {},
   "source": [
    "Hasta acá llega lo que pude hacer."
   ]
  },
  {
   "cell_type": "markdown",
   "id": "4978bbfb",
   "metadata": {},
   "source": [
    "Lo siguiente es lo de la silueta que nunca terminó de correr y lo tuve que parar. "
   ]
  },
  {
   "cell_type": "code",
   "execution_count": null,
   "id": "55368b69",
   "metadata": {},
   "outputs": [],
   "source": [
    "from sklearn.metrics import silhouette_score\n",
    "\n",
    "sil = []\n",
    "kmax = 10\n",
    "\n",
    "# dissimilarity would not be defined for a single cluster, thus, minimum number of clusters should be 2\n",
    "for k in range(2, kmax+1):\n",
    "    kmeans = KMeans(n_clusters=k).fit(datos_scaled)\n",
    "    labels = kmeans.labels_\n",
    "    sil.append(silhouette_score(datos_scaled, labels, metric='euclidean'))"
   ]
  },
  {
   "cell_type": "markdown",
   "id": "2a2d808e",
   "metadata": {},
   "source": [
    "Y lo siguiente son códigos que quedaron sueltos pero no quería borrar por las dudas. "
   ]
  },
  {
   "cell_type": "code",
   "execution_count": null,
   "id": "f504275c",
   "metadata": {},
   "outputs": [],
   "source": [
    "# Se grafica el método del codo\n",
    "plt.figure(figsize=(7, 4))\n",
    "plt.plot(k, lista_inercias, marker='o', linestyle='-', color='c')\n",
    "plt.scatter(k, lista_inercias, c='r')\n",
    "plt.xlabel('Cantidad de clusters (k)')\n",
    "plt.ylabel('inercia media')\n",
    "plt.title('The Elbow Method')\n",
    "plt.show()"
   ]
  },
  {
   "cell_type": "code",
   "execution_count": null,
   "id": "d0a805bd",
   "metadata": {},
   "outputs": [],
   "source": [
    "plt.plot(range(2,11),sil, c=\"#c51b7d\")\n",
    "plt.gca().spines[\"top\"].set_visible(False)\n",
    "plt.gca().spines[\"right\"].set_visible(False)\n",
    "plt.title('Metodo Silhouette', size=14)\n",
    "plt.xlabel('Numero de clusters', size=12)\n",
    "plt.ylabel('Puntaje de Silhouette', size=14)\n",
    "plt.show()"
   ]
  },
  {
   "cell_type": "code",
   "execution_count": null,
   "id": "1976f658",
   "metadata": {},
   "outputs": [],
   "source": [
    "# Se observa la distribución\n",
    "plt.figure(figsize=(20,8))\n",
    "sns.countplot (x= \"rating\", data=punt4)\n",
    "plt.title(\"Puntaje\")\n",
    "plt.xticks(rotation=90)\n",
    "plt.show () "
   ]
  },
  {
   "cell_type": "code",
   "execution_count": null,
   "id": "9b368cc4",
   "metadata": {},
   "outputs": [],
   "source": [
    "# Se visualiza en otro tipo de gráfico\n",
    "plt.plot(k, marker='o', linestyle='-', color='b')\n",
    "plt.axvline(3, 0, 1, color='red')\n",
    "plt.xlabel('Cantidad de clusters (k)')\n",
    "plt.ylabel('Puntaje del modelo')\n",
    "plt.title('Puntaje del modelo para determinar el número óptimo de clusters')\n",
    "plt.show()"
   ]
  },
  {
   "cell_type": "code",
   "execution_count": null,
   "id": "8a22fed6",
   "metadata": {},
   "outputs": [],
   "source": [
    "# Se especifica la cantidad de clusters\n",
    "num_clusters=3\n",
    "\n",
    "# Se crea una instancia del modelo K-Means\n",
    "kmeans = KMeans(n_clusters=num_clusters)\n",
    "\n",
    "# Se ajusta el modelo a tus datos\n",
    "kmeans.fit(x)\n",
    "kmeans.fit(x)\n",
    "kmeans\n",
    "# Se obtiene las etiquetas de clúster para cada punto de datos\n",
    "labels = kmeans.labels_\n",
    "\n",
    "# Se obtiene las coordenadas de los centroides de los clústeres\n",
    "centroids = kmeans.cluster_centers_\n",
    "centroids = kmeans\n",
    "print (centroids)"
   ]
  },
  {
   "cell_type": "code",
   "execution_count": null,
   "id": "549d6542",
   "metadata": {},
   "outputs": [],
   "source": [
    "# Se crea un gráfico de dispersión para visualizar la distribución de los clústeres\n",
    "plt.figure(figsize=(8, 6))\n",
    "sns.scatterplot(x='rating', y='userId', hue='cluster', data=x, palette='viridis')\n",
    "plt.title('Distribución de Clústeres')\n",
    "plt.show()"
   ]
  },
  {
   "cell_type": "code",
   "execution_count": null,
   "id": "4430bf31",
   "metadata": {},
   "outputs": [],
   "source": [
    "# Se crea una columna plataforma con \n",
    "\"\"\"def asignar_plataforma(movieId):\n",
    "    if 'a' in movieId:\n",
    "        return 'Amazon'\n",
    "    elif 'n' in movieId:\n",
    "        return 'Netflix'\n",
    "    elif 'd' in movieId:\n",
    "        return 'Disney'\n",
    "    elif 'h' in movieId:\n",
    "        return 'hulu'\n",
    "    \n",
    "punt2['plataforma'] = punt2['movieId'].apply(asignar_plataforma)\n",
    "\"\"\" "
   ]
  },
  {
   "cell_type": "code",
   "execution_count": null,
   "id": "ea969d34",
   "metadata": {},
   "outputs": [],
   "source": [
    "# Se realizan códigos para la columna plataforma que posee variables cualitativas\n",
    "\"\"\"map_plataforma = {'Netflix': 1, 'Amazon': 2, 'Disney': 3}\n",
    "punt2['plataforma'] = punt2['plataforma'].replace(map_plataforma)\n",
    "\"\"\"\""
   ]
  },
  {
   "cell_type": "code",
   "execution_count": null,
   "id": "8e49a468",
   "metadata": {},
   "outputs": [],
   "source": [
    "# Se eliminan las letras de la columan movieId\n",
    "\"\"\"\n",
    "def eliminar_letras(texto):\n",
    "    return re.sub(r'[a-zA-Z]', '', texto)\n",
    "# Se Aplica la función a la columna 'movieId'\n",
    "punt2['movieId'] = punt2['movieId'].apply(eliminar_letras)\n",
    "\"\"\""
   ]
  },
  {
   "cell_type": "code",
   "execution_count": null,
   "id": "6613e44c",
   "metadata": {},
   "outputs": [],
   "source": [
    "# Se guarda el dataset a csv\n",
    "# punt2.to_csv(r'..\\datasets\\punt_pelis.csv', index=False)"
   ]
  }
 ],
 "metadata": {
  "kernelspec": {
   "display_name": "Python 3 (ipykernel)",
   "language": "python",
   "name": "python3"
  },
  "language_info": {
   "codemirror_mode": {
    "name": "ipython",
    "version": 3
   },
   "file_extension": ".py",
   "mimetype": "text/x-python",
   "name": "python",
   "nbconvert_exporter": "python",
   "pygments_lexer": "ipython3",
   "version": "3.10.13"
  }
 },
 "nbformat": 4,
 "nbformat_minor": 5
}
